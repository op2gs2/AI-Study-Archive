{
 "cells": [
  {
   "cell_type": "code",
   "execution_count": null,
   "id": "a8eed036",
   "metadata": {},
   "outputs": [],
   "source": [
    "# 크롤러 제작\n",
    "from urllib.request import urlopen\n",
    "from bs4 import BeautifulSoup\n",
    "\n",
    "'''HTML코드 불러오기'''\n",
    "# urllib.request를 통한 HTML코드 불러오기\n",
    "url = \"https://das-malwerk.herokuapp.com/\"\n",
    "html = urlopen(url).read()\n",
    "#print(html)\n",
    "\n",
    "# BS를 이용해 html파싱하기\n",
    "bsObj = BeautifulSoup(html.decode('utf-8'),'html.parser')\n",
    "#print(bsObj)\n",
    "\n",
    "'''HTML5 파서 사용하기'''\n",
    "# HTML5 테이블 태그 데이터만을 파싱하는 함수\n",
    "def html5_parser(url,parser_type):\n",
    "    try:\n",
    "        html = urlopen(url).read()\n",
    "    except:\n",
    "        print(\"Wrong URL. Check again URL is correct.\")\n",
    "    bsObj = BeautifulSoup(html,'html5lib') # HTML5 파서 사용\n",
    "    print(bsObj.find(parser_type))\n",
    "    return bsObj\n",
    "\n",
    "url = \"https://das-malwerk.herokuapp.com/\"\n",
    "rns = html5_parser(url,'table')"
   ]
  },
  {
   "cell_type": "code",
   "execution_count": null,
   "id": "211d2e55",
   "metadata": {},
   "outputs": [],
   "source": [
    "import re\n",
    "import time\n",
    "from zipfile import ZipFile\n",
    "\n",
    "# 악성코드 주소 추출과 해시값 추출을 위한 정규문법\n",
    "file_link = '(?=https://)(.*)(?=\">)'\n",
    "file_sha256 = '[a-z0-9]{64}(?=[</a>])'\n",
    "link_pattern = re.compile(file_link)\n",
    "\n",
    "# HTML5 파싱으로, 악성코드 다운로드 주소와 해시정보 추출\n",
    "def html5_parser(url):\n",
    "    try:\n",
    "        html = urlopen(url).read().decode('utf-8')\n",
    "    except:\n",
    "        print(\"Wrong URL. Check again URL is correct.\")\n",
    "    bsObj = BeautifulSoup(html,'html5lib') # HTML5 파서 사용\n",
    "    for td in bsObj.find('table'):\n",
    "        down_link = link_pattern.findall(str(td))\n",
    "        for i in range(0,len(down_link),2):\n",
    "            link = down_link[i]\n",
    "            sha256_hash = link.split('/')[5]\n",
    "            get_download(link,sha256_hash)\n",
    "    return bsObj\n",
    "\n",
    "# 다운로드 주소의 정보를 가져와, zip 파일에 저장하기\n",
    "def get_download(down_link,sha256_hash):\n",
    "    data = urlopen(down_link).read()\n",
    "    file_name = sha256_hash + \".zip\"\n",
    "    # zip파일에 저장하기\n",
    "    with open(file_name, \"wb\") as code:\n",
    "        code.write(data)\n",
    "    # zip파일 압축해제하기\n",
    "    with ZipFile(file_name) as zf:\n",
    "        print(zf.extractall(pwd=b'infected'))\n",
    "    print(\"Download Complete: \",file_name)\n",
    "    time.sleep(5)\n",
    "    # 파일을 다 받고나면, HTTP 404 에러가 발생함.\n",
    "url = \"https://das-malwerk.herokuapp.com/\"\n",
    "rns = html5_parser(url)"
   ]
  },
  {
   "cell_type": "code",
   "execution_count": null,
   "id": "b699ee34",
   "metadata": {},
   "outputs": [],
   "source": []
  }
 ],
 "metadata": {
  "kernelspec": {
   "display_name": "mldlsec_310",
   "language": "python",
   "name": "mldlsec_310"
  },
  "language_info": {
   "codemirror_mode": {
    "name": "ipython",
    "version": 3
   },
   "file_extension": ".py",
   "mimetype": "text/x-python",
   "name": "python",
   "nbconvert_exporter": "python",
   "pygments_lexer": "ipython3",
   "version": "3.10.0"
  }
 },
 "nbformat": 4,
 "nbformat_minor": 5
}
