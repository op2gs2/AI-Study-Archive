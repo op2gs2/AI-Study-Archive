{
 "cells": [
  {
   "cell_type": "code",
   "execution_count": null,
   "id": "546050e9",
   "metadata": {},
   "outputs": [],
   "source": [
    "import re\n",
    "\n",
    "pattern = \"\\b(?:[0-9]{2}(?:0[1-9]|1[0-2])(?:0[1-9]|[1,2][0-9]|3[0,1]))\\b\"\n",
    "\n",
    "text ='''\n",
    "<!DOCTYPE html> <html> <head> <style> table {     font-family: arial, sans-serif; border-collapse: collapse;     width: 100%; } td, th {     border: 1px solid #dddddd;     text-align: left;    padding: 8px; } tr:nth-child(even) {     background-color: #dddddd; } </style>\n",
    "</head> <body> <h2></h2> <table> <tr>    <th>ŒÒŒÓ</th>   <th>ÀÌž§</th>    <th>ÁÖ¹ÎÈ£</th>    <th>¿¬¶ôÃ³</th>  </tr>  <tr>    <td>ºžŸÈ ¿¬±žŒÒ</td>    <td>±è¶ÈŒø</td>    td>810201-2164564</td>    <td>010-1234-5678</td>  </tr>  <tr>    <td>ºžŸÈ ¿¬±žŒÒ/td>    <td>Helen Bennett</td>    <td>-</td>    <td>010-1313-1004</td>  </tr>  <tr>    <td>ÇØ¿Ü »çŸ÷ºÎ</td>    <td>È«±æµ¿</td>    <td>700105-1679381</td>    <td>010-8282-979</td>  </tr>  <tr>    <td>ÁŠÇ° °³¹ßºÎ</td>    <td>Àå¶Òµü</td>    <td>900430-242253</td>    <td>010-7979-5959</td>  </tr></table></body></html>\n",
    "'''\n",
    "pat = re.compile(pattern)\n",
    "print(re.sub(pat,\"\\g<1>-******\",text))"
   ]
  },
  {
   "cell_type": "code",
   "execution_count": null,
   "id": "291b28e7",
   "metadata": {},
   "outputs": [],
   "source": [
    "# 파싱 실습\n",
    "from bs4 import BeautifulSoup\n",
    "\n",
    "html = '''\n",
    "<!DOCTYPE html> <html> <head> <style> table {     font-family: arial, sans-serif;\n",
    "    border-collapse: collapse;     width: 100%; } td, th {     border: 1px solid #dddddd;     text-align: left;    padding: 8px; } tr:nth-child(even) {     background-color: #dddddd; } </style>\n",
    "</head> <body> <h2></h2> <table> <tr>    <th>ŒÒŒÓ</th>   <th>ÀÌž§</th>    <th>ÁÖ¹ÎÈ£</th>    <th>¿¬¶ôÃ³</th>  </tr>  <tr>    <td>ºžŸÈ ¿¬±žŒÒ</td>    <td>±è¶ÈŒø</td>    td>810201-2164564</td>    <td>010-1234-5678</td>  </tr>  <tr>    <td>ºžŸÈ ¿¬±žŒÒ/td>    <td>Helen Bennett</td>    <td>-</td>    <td>010-1313-1004</td>  </tr>  <tr>    td>ÇØ¿Ü »çŸ÷ºÎ</td>    <td>È«±æµ¿</td>    <td>700105-1679381</td>    <td>010-8282-979</td>  </tr>  <tr>    <td>ÁŠÇ° °³¹ßºÎ</td>    <td>Àå¶Òµü</td>    <td>900430-242253</td>    <td>010-7979-5959</td>  </tr></table></body></html>\n",
    "'''\n",
    "\n",
    "bsObj = BeautifulSoup(html, 'html.parser')\n",
    "print(bsObj.html.body.table)"
   ]
  },
  {
   "cell_type": "code",
   "execution_count": null,
   "id": "dbae1776",
   "metadata": {},
   "outputs": [],
   "source": [
    "# bs의 find(), findAll() 실습\n",
    "from bs4 import BeautifulSoup\n",
    "\n",
    "html = '''\n",
    "<html> <head></head>\n",
    "<body> <p class=\"red\">red라고 정의된 스타일을 사용하는 문단입니다.</p>\n",
    "<p class=\"red\">red 테스트용 두번째 문장</p>\n",
    "</body> </html>\n",
    "'''\n",
    "\n",
    "bsObj = BeautifulSoup(html, 'html.parser')\n",
    "print(bsObj.find(\"p\",{\"class\":\"red\"}))\n",
    "print(bsObj.find(class_=\"red\"))\n",
    "print(bsObj.p)\n",
    "print(bsObj.findAll(\"p\",{\"class\":\"red\"}))"
   ]
  },
  {
   "cell_type": "code",
   "execution_count": null,
   "id": "112cdfc6",
   "metadata": {},
   "outputs": [],
   "source": []
  }
 ],
 "metadata": {
  "kernelspec": {
   "display_name": "mldlsec_310",
   "language": "python",
   "name": "mldlsec_310"
  },
  "language_info": {
   "codemirror_mode": {
    "name": "ipython",
    "version": 3
   },
   "file_extension": ".py",
   "mimetype": "text/x-python",
   "name": "python",
   "nbconvert_exporter": "python",
   "pygments_lexer": "ipython3",
   "version": "3.10.0"
  }
 },
 "nbformat": 4,
 "nbformat_minor": 5
}
