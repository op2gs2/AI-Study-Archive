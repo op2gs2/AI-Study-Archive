{
 "cells": [
  {
   "cell_type": "markdown",
   "metadata": {
    "collapsed": true,
    "pycharm": {
     "name": "#%% md\n"
    }
   },
   "source": [
    "## 개념 정리\n",
    "### 용어 정리\n",
    "- 드롭아웃\n",
    "    - 은닉층에 있는 뉴런의 출력을 랜덤하게 꺼서 과대적합을 막는 기법\n",
    "    - 훈련중에만 작동하며, 평가나 예측에서는 사용되지 않음\n",
    "- 콜백\n",
    "    - 모델을 훈련하는 도중에 어떤 작업을 수행할 수 있도록 도와주는 도구\n",
    "    - 예시1) 최상의 결과값을 훈련하는 도중에 저장하거나\n",
    "    - 예시2) 검증점수가 향상되지 않으면 일찍 종료할 수 있음 (조기종료)\n",
    "        - 검증 점수가 더 이상 감소하지 않고 상승하여 과대적합이 일어나면, 훈련을 멈추는 도구\n",
    "        - 학습하는데 드는 계산 비용과 시간을 절약할 수 있음\n",
    "### 핵심 패키지와 함수 (Tensorflow)\n",
    "- Dropout\n",
    "    - 첫번째 매개변수에 드롭아웃할 비율(r)을 지정\n",
    "    - 드롭아웃 하지 않는 뉴런의 출력은 1/(1-r)만큼 증가시켜 출력의 총합이 같도록 함\n",
    "- save_weights()\n",
    "    - 모든 층의 가중치와 절편을 파일에 저장\n",
    "    - 첫번째 매개변수에 저장할 파일이름을 지정\n",
    "    - save_format 매개변수에서 저장할 파일 포멧을 지정.\n",
    "        - 기본적으로 keras는 Checkpoint 포맷을 사용함.\n",
    "        - 매개변수에 h5를 넘기거나, 파일이름에 .h5가 붙어있으면 HDF5 포멧으로 저장됨\n",
    "- load_weights()\n",
    "    - 모든 층의 가중치와 절편을 파일에 읽음\n",
    "    - 첫번째 매개변수에 읽을 파일을 지정\n",
    "- save()\n",
    "    - 모델 구조와 모든 가중치와 절편을 파일에 저장\n",
    "    - 첫번째 매개변수에 저장할 파일을 지정\n",
    "    - save_format 매개변수에서 저장할 파일 포멧을 지정.\n",
    "        - 기본적으로 keras는 Checkpoint 포맷을 사용함.\n",
    "        - 매개변수에 h5를 넘기거나, 파일이름에 .h5가 붙어있으면 HDF5 포멧으로 저장됨\n",
    "- load_model()\n",
    "    - model.save()로 저장된 모델을 로드\n",
    "    - 첫번째 매개변수에 읽을 파일을 지정\n",
    "- ModelCheckpoint\n",
    "    - 케라스 모델과 가중치를 일정 간격으로 저장\n",
    "    - 첫번째 매개변수에 저장할 파일을 지정\n",
    "    - monitor 매개변수는 모니터링할 지표를 저장. 기본값은 'val_loss'로 검증 손실을 관찰\n",
    "    - save_weights_only 매개변수는 False인 경우 전체모델을 저장 (기본값), True일 경우 모델 가중치와 절편만 저장\n",
    "    - best_weights_only 매개변수는 True일 경우 가장 낮은 검증 검수를 만드는 모델을 저장\n",
    "- EarlyStopping\n",
    "    - 관심지표가 더 이상 향상되지 않으면 훈련을 중지\n",
    "    - monitor 매개변수는 모니터링할 지표를 지정. 기본값은 'val_loss'\n",
    "    - patience 매개변수는 모델이 향상 되지 않고 지속할 수 있는 에포크의 최대 갯수\n",
    "    - restore_best_weights 매개변수는 최상의 모델 가중치를 복원할지 정함. 기본값은 False\n",
    "### 핵심 패키지와 함수 (Numpy)\n",
    "- argmax()\n",
    "    - 배열에서 축을 따라 최댓값의 인덱스를 반환함\n",
    "    - axis 매개변수에는 어떤 축을 따라 최대값을 찾을지 지정할 수 있음\n",
    "        - 예를 들어, 2차원 배열에서 1을 지정하였으면, 열(row)별로 최대값을 찾게 됨."
   ]
  },
  {
   "cell_type": "code",
   "execution_count": 1,
   "outputs": [],
   "source": [
    "'''데이터 처리하기'''\n",
    "from tensorflow import keras\n",
    "from sklearn.model_selection import train_test_split\n",
    "# 데이터 불러오기\n",
    "(train_input, train_target), (test_input, test_target) = keras.datasets.fashion_mnist.load_data()\n",
    "# 데이터 변환하기\n",
    "train_scaled = train_input / 255.0\n",
    "# 검증 데이터 나누기\n",
    "train_scaled, val_scaled, train_target, val_target = train_test_split(train_input, train_target, random_state=42, test_size=0.2)"
   ],
   "metadata": {
    "collapsed": false,
    "pycharm": {
     "name": "#%%\n"
    }
   }
  },
  {
   "cell_type": "code",
   "execution_count": 2,
   "outputs": [
    {
     "name": "stdout",
     "output_type": "stream",
     "text": [
      "Model: \"sequential\"\n",
      "_________________________________________________________________\n",
      " Layer (type)                Output Shape              Param #   \n",
      "=================================================================\n",
      " flatten (Flatten)           (None, 784)               0         \n",
      "                                                                 \n",
      " dense (Dense)               (None, 100)               78500     \n",
      "                                                                 \n",
      " dense_1 (Dense)             (None, 10)                1010      \n",
      "                                                                 \n",
      "=================================================================\n",
      "Total params: 79,510\n",
      "Trainable params: 79,510\n",
      "Non-trainable params: 0\n",
      "_________________________________________________________________\n"
     ]
    }
   ],
   "source": [
    "'''모델 만들기'''\n",
    "def model_func(a_layer=None):\n",
    "    model = keras.Sequential()\n",
    "    model.add(keras.layers.Flatten(input_shape=(28, 28)))\n",
    "    model.add(keras.layers.Dense(100, activation = 'relu'))\n",
    "    if a_layer:\n",
    "        model.add(a_layer)\n",
    "    model.add(keras.layers.Dense(10, activation='softmax'))\n",
    "    return model\n",
    "\n",
    "model = model_func()\n",
    "model.summary()\n",
    "\n",
    "'''모델 구성하기'''\n",
    "model.compile(loss='sparse_categorical_crossentropy', metrics='accuracy')\n",
    "'''모델 학습하기'''\n",
    "history = model.fit(train_scaled, train_target, epochs=5, verbose=0)"
   ],
   "metadata": {
    "collapsed": false,
    "pycharm": {
     "name": "#%%\n"
    }
   }
  },
  {
   "cell_type": "code",
   "execution_count": 3,
   "outputs": [
    {
     "name": "stdout",
     "output_type": "stream",
     "text": [
      "dict_keys(['loss', 'accuracy'])\n"
     ]
    },
    {
     "data": {
      "text/plain": "<Figure size 432x288 with 1 Axes>",
      "image/png": "[encoded data removed]"
     },
     "metadata": {
      "needs_background": "light"
     },
     "output_type": "display_data"
    },
    {
     "data": {
      "text/plain": "<Figure size 432x288 with 1 Axes>",
      "image/png": "[encoded data removed]"
     },
     "metadata": {
      "needs_background": "light"
     },
     "output_type": "display_data"
    }
   ],
   "source": [
    "'''학습 결과 확인하기'''\n",
    "# 훈련 측정값이 저장된 history 딕셔너리 값 확인\n",
    "print(history.history.keys())\n",
    "# 학습 결과에 대한 loss 출력\n",
    "import matplotlib.pyplot as plt\n",
    "plt.plot(history.history['loss'])\n",
    "plt.xlabel('epoch')\n",
    "plt.ylabel('loss')\n",
    "plt.show()\n",
    "# 학습 결과에 대한 accuracy 출력\n",
    "plt.plot(history.history['accuracy'])\n",
    "plt.xlabel('epoch')\n",
    "plt.ylabel('accuracy')\n",
    "plt.show()"
   ],
   "metadata": {
    "collapsed": false,
    "pycharm": {
     "name": "#%%\n"
    }
   }
  },
  {
   "cell_type": "code",
   "execution_count": 4,
   "outputs": [
    {
     "data": {
      "text/plain": "<Figure size 432x288 with 1 Axes>",
      "image/png": "[encoded data removed]"
     },
     "metadata": {
      "needs_background": "light"
     },
     "output_type": "display_data"
    }
   ],
   "source": [
    "'''에포크를 늘려서 실행해보기'''\n",
    "# 모델 구성하기\n",
    "model = model_func()\n",
    "model.compile(loss='sparse_categorical_crossentropy', metrics='accuracy')\n",
    "# 모델 학습하기\n",
    "history = model.fit(train_scaled, train_target, epochs=20, verbose=0)\n",
    "# 학습 결과에 대한 loss 출력\n",
    "import matplotlib.pyplot as plt\n",
    "plt.plot(history.history['loss'])\n",
    "plt.xlabel('epoch')\n",
    "plt.ylabel('loss')\n",
    "plt.show()"
   ],
   "metadata": {
    "collapsed": false,
    "pycharm": {
     "name": "#%%\n"
    }
   }
  },
  {
   "cell_type": "code",
   "execution_count": 5,
   "outputs": [
    {
     "name": "stdout",
     "output_type": "stream",
     "text": [
      "Epoch 1/20\n",
      "1500/1500 [==============================] - 5s 3ms/step - loss: 4.5032 - accuracy: 0.6630 - val_loss: 1.1820 - val_accuracy: 0.6973\n",
      "Epoch 2/20\n",
      "1500/1500 [==============================] - 4s 3ms/step - loss: 0.9103 - accuracy: 0.7358 - val_loss: 0.7641 - val_accuracy: 0.7441\n",
      "Epoch 3/20\n",
      "1500/1500 [==============================] - 4s 3ms/step - loss: 0.8248 - accuracy: 0.7668 - val_loss: 0.8230 - val_accuracy: 0.7747\n",
      "Epoch 4/20\n",
      "1500/1500 [==============================] - 4s 3ms/step - loss: 0.7996 - accuracy: 0.7756 - val_loss: 0.9816 - val_accuracy: 0.7788\n",
      "Epoch 5/20\n",
      "1500/1500 [==============================] - 4s 3ms/step - loss: 0.7857 - accuracy: 0.7888 - val_loss: 0.8418 - val_accuracy: 0.7693\n",
      "Epoch 6/20\n",
      "1500/1500 [==============================] - 4s 3ms/step - loss: 0.7592 - accuracy: 0.7981 - val_loss: 0.9647 - val_accuracy: 0.7880\n",
      "Epoch 7/20\n",
      "1500/1500 [==============================] - 4s 3ms/step - loss: 0.7437 - accuracy: 0.8042 - val_loss: 0.8972 - val_accuracy: 0.7918\n",
      "Epoch 8/20\n",
      "1500/1500 [==============================] - 4s 3ms/step - loss: 0.7270 - accuracy: 0.8047 - val_loss: 0.9811 - val_accuracy: 0.8111\n",
      "Epoch 9/20\n",
      "1500/1500 [==============================] - 4s 3ms/step - loss: 0.7516 - accuracy: 0.8076 - val_loss: 1.5913 - val_accuracy: 0.7830\n",
      "Epoch 10/20\n",
      "1500/1500 [==============================] - 4s 3ms/step - loss: 0.7404 - accuracy: 0.8095 - val_loss: 0.9417 - val_accuracy: 0.8118\n",
      "Epoch 11/20\n",
      "1500/1500 [==============================] - 4s 3ms/step - loss: 0.7591 - accuracy: 0.8075 - val_loss: 1.1594 - val_accuracy: 0.7792\n",
      "Epoch 12/20\n",
      "1500/1500 [==============================] - 5s 3ms/step - loss: 0.7431 - accuracy: 0.8079 - val_loss: 1.2902 - val_accuracy: 0.7889\n",
      "Epoch 13/20\n",
      "1500/1500 [==============================] - 3s 2ms/step - loss: 0.7289 - accuracy: 0.8075 - val_loss: 1.0781 - val_accuracy: 0.8012\n",
      "Epoch 14/20\n",
      "1500/1500 [==============================] - 4s 3ms/step - loss: 0.7557 - accuracy: 0.8086 - val_loss: 1.0495 - val_accuracy: 0.8039\n",
      "Epoch 15/20\n",
      "1500/1500 [==============================] - 4s 3ms/step - loss: 0.7419 - accuracy: 0.8091 - val_loss: 1.3872 - val_accuracy: 0.8024\n",
      "Epoch 16/20\n",
      "1500/1500 [==============================] - 4s 3ms/step - loss: 0.7450 - accuracy: 0.8135 - val_loss: 1.3106 - val_accuracy: 0.8027\n",
      "Epoch 17/20\n",
      "1500/1500 [==============================] - 4s 3ms/step - loss: 0.7563 - accuracy: 0.8124 - val_loss: 1.3020 - val_accuracy: 0.8052\n",
      "Epoch 18/20\n",
      "1500/1500 [==============================] - 4s 3ms/step - loss: 0.7294 - accuracy: 0.8162 - val_loss: 1.2174 - val_accuracy: 0.7896\n",
      "Epoch 19/20\n",
      "1500/1500 [==============================] - 4s 3ms/step - loss: 0.7402 - accuracy: 0.8171 - val_loss: 1.9065 - val_accuracy: 0.8092\n",
      "Epoch 20/20\n",
      "1500/1500 [==============================] - 4s 3ms/step - loss: 0.7274 - accuracy: 0.8160 - val_loss: 1.3122 - val_accuracy: 0.7958\n",
      "dict_keys(['loss', 'accuracy', 'val_loss', 'val_accuracy'])\n"
     ]
    },
    {
     "data": {
      "text/plain": "<Figure size 432x288 with 1 Axes>",
      "image/png": "[encoded data removed]"
     },
     "metadata": {
      "needs_background": "light"
     },
     "output_type": "display_data"
    },
    {
     "name": "stdout",
     "output_type": "stream",
     "text": [
      "Epoch 1/20\n",
      "1500/1500 [==============================] - 3s 2ms/step - loss: 3.7247 - accuracy: 0.6760 - val_loss: 0.8926 - val_accuracy: 0.6699\n",
      "Epoch 2/20\n",
      "1500/1500 [==============================] - 3s 2ms/step - loss: 0.7526 - accuracy: 0.7386 - val_loss: 0.7104 - val_accuracy: 0.7519\n",
      "Epoch 3/20\n",
      "1500/1500 [==============================] - 3s 2ms/step - loss: 0.6617 - accuracy: 0.7640 - val_loss: 0.7185 - val_accuracy: 0.6973\n",
      "Epoch 4/20\n",
      "1500/1500 [==============================] - 3s 2ms/step - loss: 0.6524 - accuracy: 0.7538 - val_loss: 0.6462 - val_accuracy: 0.7417\n",
      "Epoch 5/20\n",
      "1500/1500 [==============================] - 3s 2ms/step - loss: 0.6222 - accuracy: 0.7599 - val_loss: 0.5989 - val_accuracy: 0.7722\n",
      "Epoch 6/20\n",
      "1500/1500 [==============================] - 3s 2ms/step - loss: 0.5840 - accuracy: 0.7763 - val_loss: 0.6452 - val_accuracy: 0.7887\n",
      "Epoch 7/20\n",
      "1500/1500 [==============================] - 3s 2ms/step - loss: 0.5668 - accuracy: 0.7899 - val_loss: 0.6156 - val_accuracy: 0.7607\n",
      "Epoch 8/20\n",
      "1500/1500 [==============================] - 3s 2ms/step - loss: 0.5455 - accuracy: 0.8070 - val_loss: 0.5498 - val_accuracy: 0.8029\n",
      "Epoch 9/20\n",
      "1500/1500 [==============================] - 3s 2ms/step - loss: 0.5247 - accuracy: 0.8134 - val_loss: 0.5524 - val_accuracy: 0.8100\n",
      "Epoch 10/20\n",
      "1500/1500 [==============================] - 3s 2ms/step - loss: 0.5172 - accuracy: 0.8211 - val_loss: 0.5603 - val_accuracy: 0.8032\n",
      "Epoch 11/20\n",
      "1500/1500 [==============================] - 3s 2ms/step - loss: 0.5130 - accuracy: 0.8215 - val_loss: 0.6066 - val_accuracy: 0.7725\n",
      "Epoch 12/20\n",
      "1500/1500 [==============================] - 3s 2ms/step - loss: 0.5068 - accuracy: 0.8271 - val_loss: 0.5285 - val_accuracy: 0.8240\n",
      "Epoch 13/20\n",
      "1500/1500 [==============================] - 3s 2ms/step - loss: 0.4961 - accuracy: 0.8307 - val_loss: 0.6102 - val_accuracy: 0.8171\n",
      "Epoch 14/20\n",
      "1500/1500 [==============================] - 3s 2ms/step - loss: 0.4948 - accuracy: 0.8296 - val_loss: 0.6093 - val_accuracy: 0.8077\n",
      "Epoch 15/20\n",
      "1500/1500 [==============================] - 3s 2ms/step - loss: 0.4937 - accuracy: 0.8299 - val_loss: 0.6485 - val_accuracy: 0.7653\n",
      "Epoch 16/20\n",
      "1500/1500 [==============================] - 3s 2ms/step - loss: 0.4932 - accuracy: 0.8321 - val_loss: 0.5640 - val_accuracy: 0.8158\n",
      "Epoch 17/20\n",
      "1500/1500 [==============================] - 3s 2ms/step - loss: 0.4863 - accuracy: 0.8343 - val_loss: 0.5163 - val_accuracy: 0.8326\n",
      "Epoch 18/20\n",
      "1500/1500 [==============================] - 3s 2ms/step - loss: 0.4736 - accuracy: 0.8382 - val_loss: 0.5980 - val_accuracy: 0.8163\n",
      "Epoch 19/20\n",
      "1500/1500 [==============================] - 3s 2ms/step - loss: 0.4840 - accuracy: 0.8382 - val_loss: 0.5698 - val_accuracy: 0.8145\n",
      "Epoch 20/20\n",
      "1500/1500 [==============================] - 3s 2ms/step - loss: 0.4799 - accuracy: 0.8365 - val_loss: 0.5888 - val_accuracy: 0.7910\n",
      "dict_keys(['loss', 'accuracy', 'val_loss', 'val_accuracy'])\n"
     ]
    },
    {
     "data": {
      "text/plain": "<Figure size 432x288 with 1 Axes>",
      "image/png": "[encoded data removed]"
     },
     "metadata": {
      "needs_background": "light"
     },
     "output_type": "display_data"
    }
   ],
   "source": [
    "'''검증셋에 대한 점수 얻기'''\n",
    "# 모델 구성하기\n",
    "model = model_func()\n",
    "model.compile(loss='sparse_categorical_crossentropy', metrics='accuracy')\n",
    "# 모델 학습하기\n",
    "history = model.fit(train_scaled, train_target, epochs=20, verbose=1, validation_data = (val_scaled, val_target)) # 검증 데이터를 넘겨주면, 에포크마다 검증 손실을 계산함\n",
    "# 훈련 측정값이 저장된 history 딕셔너리 값 확인\n",
    "print(history.history.keys())\n",
    "# 학습 결과에 대한 loss 출력\n",
    "import matplotlib.pyplot as plt\n",
    "plt.plot(history.history['loss'], label = 'train') # 학습 데이터에 대한 손실값 시각화\n",
    "plt.plot(history.history['val_loss'], label = 'validation') # 검증 데이터에 대한 손실값 시각화\n",
    "plt.xlabel('epoch')\n",
    "plt.ylabel('loss')\n",
    "plt.legend()\n",
    "plt.show()\n",
    "\n"
   ],
   "metadata": {
    "collapsed": false,
    "pycharm": {
     "name": "#%%\n"
    }
   }
  },
  {
   "cell_type": "code",
   "execution_count": 6,
   "outputs": [
    {
     "name": "stdout",
     "output_type": "stream",
     "text": [
      "Model: \"sequential_4\"\n",
      "_________________________________________________________________\n",
      " Layer (type)                Output Shape              Param #   \n",
      "=================================================================\n",
      " flatten_4 (Flatten)         (None, 784)               0         \n",
      "                                                                 \n",
      " dense_8 (Dense)             (None, 100)               78500     \n",
      "                                                                 \n",
      " dropout (Dropout)           (None, 100)               0         \n",
      "                                                                 \n",
      " dense_9 (Dense)             (None, 10)                1010      \n",
      "                                                                 \n",
      "=================================================================\n",
      "Total params: 79,510\n",
      "Trainable params: 79,510\n",
      "Non-trainable params: 0\n",
      "_________________________________________________________________\n",
      "Epoch 1/20\n",
      "1500/1500 [==============================] - 4s 3ms/step - loss: 3.1818 - accuracy: 0.4225 - val_loss: 1.2519 - val_accuracy: 0.5451\n",
      "Epoch 2/20\n",
      "1500/1500 [==============================] - 4s 2ms/step - loss: 1.3305 - accuracy: 0.4925 - val_loss: 0.9665 - val_accuracy: 0.6378\n",
      "Epoch 3/20\n",
      "1500/1500 [==============================] - 4s 2ms/step - loss: 1.1831 - accuracy: 0.5430 - val_loss: 0.9826 - val_accuracy: 0.6089\n",
      "Epoch 4/20\n",
      "1500/1500 [==============================] - 4s 2ms/step - loss: 1.1297 - accuracy: 0.5621 - val_loss: 0.8563 - val_accuracy: 0.6653\n",
      "Epoch 5/20\n",
      "1500/1500 [==============================] - 4s 2ms/step - loss: 1.0244 - accuracy: 0.6092 - val_loss: 0.7993 - val_accuracy: 0.6930\n",
      "Epoch 6/20\n",
      "1500/1500 [==============================] - 4s 3ms/step - loss: 0.9884 - accuracy: 0.6249 - val_loss: 0.7503 - val_accuracy: 0.7274\n",
      "Epoch 7/20\n",
      "1500/1500 [==============================] - 4s 3ms/step - loss: 0.9718 - accuracy: 0.6311 - val_loss: 0.7279 - val_accuracy: 0.7103\n",
      "Epoch 8/20\n",
      "1500/1500 [==============================] - 4s 2ms/step - loss: 0.9494 - accuracy: 0.6349 - val_loss: 0.7708 - val_accuracy: 0.7085\n",
      "Epoch 9/20\n",
      "1500/1500 [==============================] - 4s 2ms/step - loss: 0.9471 - accuracy: 0.6392 - val_loss: 0.7609 - val_accuracy: 0.7145\n",
      "Epoch 10/20\n",
      "1500/1500 [==============================] - 4s 2ms/step - loss: 0.9512 - accuracy: 0.6418 - val_loss: 0.7536 - val_accuracy: 0.7228\n",
      "Epoch 11/20\n",
      "1500/1500 [==============================] - 4s 2ms/step - loss: 0.9322 - accuracy: 0.6424 - val_loss: 0.7688 - val_accuracy: 0.7056\n",
      "Epoch 12/20\n",
      "1500/1500 [==============================] - 4s 2ms/step - loss: 0.9360 - accuracy: 0.6439 - val_loss: 0.6993 - val_accuracy: 0.7210\n",
      "Epoch 13/20\n",
      "1500/1500 [==============================] - 4s 2ms/step - loss: 0.9304 - accuracy: 0.6443 - val_loss: 0.8321 - val_accuracy: 0.7191\n",
      "Epoch 14/20\n",
      "1500/1500 [==============================] - 4s 2ms/step - loss: 0.9176 - accuracy: 0.6467 - val_loss: 0.7191 - val_accuracy: 0.7241\n",
      "Epoch 15/20\n",
      "1500/1500 [==============================] - 4s 2ms/step - loss: 0.9224 - accuracy: 0.6474 - val_loss: 0.7234 - val_accuracy: 0.7236\n",
      "Epoch 16/20\n",
      "1500/1500 [==============================] - 4s 2ms/step - loss: 0.9098 - accuracy: 0.6466 - val_loss: 0.7166 - val_accuracy: 0.7245\n",
      "Epoch 17/20\n",
      "1500/1500 [==============================] - 4s 2ms/step - loss: 0.9237 - accuracy: 0.6462 - val_loss: 0.7307 - val_accuracy: 0.7158\n",
      "Epoch 18/20\n",
      "1500/1500 [==============================] - 4s 2ms/step - loss: 0.9206 - accuracy: 0.6473 - val_loss: 0.7127 - val_accuracy: 0.7207\n",
      "Epoch 19/20\n",
      "1500/1500 [==============================] - 4s 2ms/step - loss: 0.9216 - accuracy: 0.6494 - val_loss: 0.9395 - val_accuracy: 0.7232\n",
      "Epoch 20/20\n",
      "1500/1500 [==============================] - 4s 2ms/step - loss: 0.9323 - accuracy: 0.6484 - val_loss: 0.7097 - val_accuracy: 0.7188\n",
      "dict_keys(['loss', 'accuracy', 'val_loss', 'val_accuracy'])\n"
     ]
    },
    {
     "data": {
      "text/plain": "<Figure size 432x288 with 1 Axes>",
      "image/png": "[encoded data removed]"
     },
     "metadata": {
      "needs_background": "light"
     },
     "output_type": "display_data"
    }
   ],
   "source": [
    "'''Dropout 적용하기'''\n",
    "# 모델 구성하기\n",
    "model = model_func(keras.layers.Dropout(0.3)) # Dropout은 층처럼 다뤄지지만, 모델 파라미터 값은 없음.\n",
    "model.summary()\n",
    "model.compile(optimizer = 'adam', loss='sparse_categorical_crossentropy', metrics='accuracy')\n",
    "# 모델 학습하기\n",
    "history = model.fit(train_scaled, train_target, epochs=20, verbose=1, validation_data = (val_scaled, val_target)) # 검증 데이터를 넘겨주면, 에포크마다 검증 손실을 계산함\n",
    "# 훈련 측정값이 저장된 history 딕셔너리 값 확인\n",
    "print(history.history.keys())\n",
    "# 학습 결과에 대한 loss 출력\n",
    "import matplotlib.pyplot as plt\n",
    "plt.plot(history.history['loss'], label = 'train') # 학습 데이터에 대한 손실값 시각화\n",
    "plt.plot(history.history['val_loss'], label = 'validation') # 검증 데이터에 대한 손실값 시각화\n",
    "plt.xlabel('epoch')\n",
    "plt.ylabel('loss')\n",
    "plt.legend()\n",
    "plt.show()"
   ],
   "metadata": {
    "collapsed": false,
    "pycharm": {
     "name": "#%%\n"
    }
   }
  },
  {
   "cell_type": "code",
   "execution_count": 16,
   "outputs": [
    {
     "name": "stdout",
     "output_type": "stream",
     "text": [
      "0.71875\n",
      "375/375 [==============================] - 1s 2ms/step - loss: 0.7097 - accuracy: 0.7188\n"
     ]
    },
    {
     "data": {
      "text/plain": "[0.7097399830818176, 0.71875]"
     },
     "execution_count": 16,
     "metadata": {},
     "output_type": "execute_result"
    }
   ],
   "source": [
    "'''모델 저장과 복원'''\n",
    "model.save_weights('model-weights.h5') # 훈련된 모델의 파라미터를 저장\n",
    "model.save('model-whole.h5') # 훈련된 모델 구조와 파라미터를 저장\n",
    "\n",
    "# 모델이 저장되었는지 확인\n",
    "# !where \"*.h5\" # Windows\n",
    "# !ls -al *.h5 # Unix (Linux/MacOS)\n",
    "\n",
    "# 저장된 데이터 불러오기\n",
    "model = model_func(keras.layers.Dropout(0.3))\n",
    "model.load_weights('model-weights.h5')\n",
    "\n",
    "'''정확도 확인하기'''\n",
    "# 1. 10개의 확률 중에 가장 큰 값을 골라 Target 레이블과 비교함.\n",
    "import numpy as np\n",
    "val_labels = np.argmax(model.predict(val_scaled), axis=-1) # predict에서 가장 큰 값의 인덱스들을 반환함. # axis = -1은 마지막 차원을 기준으로 가장 큰 값들을 골라냄.\n",
    "print(np.mean(val_labels == val_target))\n",
    "# 2. 모델을 복원하여, 정확도를 구함.\n",
    "model = keras.models.load_model('model-whole.h5')\n",
    "model.compile(optimizer = 'adam', loss='sparse_categorical_crossentropy', metrics='accuracy') # load_model()에 버그가 있어, evaluate()를 실행하기 전에 해당함수를 실행해야 함.\n",
    "model.evaluate(val_scaled, val_target)"
   ],
   "metadata": {
    "collapsed": false,
    "pycharm": {
     "name": "#%%\n"
    }
   }
  },
  {
   "cell_type": "code",
   "execution_count": 17,
   "outputs": [
    {
     "name": "stdout",
     "output_type": "stream",
     "text": [
      "Epoch 1/20\n",
      "1500/1500 [==============================] - 4s 3ms/step - loss: 2.9037 - accuracy: 0.4778 - val_loss: 1.1914 - val_accuracy: 0.5538\n",
      "Epoch 2/20\n",
      "1500/1500 [==============================] - 4s 2ms/step - loss: 1.2422 - accuracy: 0.5237 - val_loss: 0.9251 - val_accuracy: 0.6803\n",
      "Epoch 3/20\n",
      "1500/1500 [==============================] - 4s 2ms/step - loss: 1.0916 - accuracy: 0.5875 - val_loss: 0.8288 - val_accuracy: 0.6806\n",
      "Epoch 4/20\n",
      "1500/1500 [==============================] - 4s 2ms/step - loss: 1.0318 - accuracy: 0.6076 - val_loss: 0.7518 - val_accuracy: 0.7138\n",
      "Epoch 5/20\n",
      "1500/1500 [==============================] - 4s 2ms/step - loss: 0.9967 - accuracy: 0.6219 - val_loss: 0.7907 - val_accuracy: 0.7080\n",
      "Epoch 6/20\n",
      "1500/1500 [==============================] - 4s 2ms/step - loss: 0.9874 - accuracy: 0.6278 - val_loss: 0.7358 - val_accuracy: 0.7113\n",
      "Epoch 7/20\n",
      "1500/1500 [==============================] - 4s 2ms/step - loss: 0.9554 - accuracy: 0.6381 - val_loss: 0.7639 - val_accuracy: 0.7136\n",
      "Epoch 8/20\n",
      "1500/1500 [==============================] - 4s 2ms/step - loss: 0.9603 - accuracy: 0.6375 - val_loss: 0.7284 - val_accuracy: 0.7186\n",
      "Epoch 9/20\n",
      "1500/1500 [==============================] - 4s 2ms/step - loss: 0.9400 - accuracy: 0.6425 - val_loss: 0.7259 - val_accuracy: 0.7218\n",
      "Epoch 10/20\n",
      "1500/1500 [==============================] - 4s 2ms/step - loss: 0.9264 - accuracy: 0.6475 - val_loss: 0.7131 - val_accuracy: 0.7207\n",
      "Epoch 11/20\n",
      "1500/1500 [==============================] - 4s 2ms/step - loss: 0.9328 - accuracy: 0.6460 - val_loss: 0.7134 - val_accuracy: 0.7224\n",
      "Epoch 12/20\n",
      "1500/1500 [==============================] - 4s 2ms/step - loss: 0.9399 - accuracy: 0.6425 - val_loss: 0.7246 - val_accuracy: 0.7182\n",
      "Epoch 13/20\n",
      "1500/1500 [==============================] - 4s 2ms/step - loss: 0.9370 - accuracy: 0.6472 - val_loss: 0.7107 - val_accuracy: 0.7222\n",
      "Epoch 14/20\n",
      "1500/1500 [==============================] - 4s 2ms/step - loss: 0.9043 - accuracy: 0.6567 - val_loss: 0.6911 - val_accuracy: 0.7253\n",
      "Epoch 15/20\n",
      "1500/1500 [==============================] - 4s 2ms/step - loss: 0.9140 - accuracy: 0.6546 - val_loss: 0.7184 - val_accuracy: 0.7301\n",
      "Epoch 16/20\n",
      "1500/1500 [==============================] - 4s 2ms/step - loss: 0.8961 - accuracy: 0.6570 - val_loss: 0.7659 - val_accuracy: 0.7004\n",
      "Epoch 17/20\n",
      "1500/1500 [==============================] - 4s 2ms/step - loss: 0.9007 - accuracy: 0.6579 - val_loss: 0.7356 - val_accuracy: 0.7193\n",
      "Epoch 18/20\n",
      "1500/1500 [==============================] - 4s 2ms/step - loss: 0.9023 - accuracy: 0.6573 - val_loss: 0.7947 - val_accuracy: 0.6429\n",
      "Epoch 19/20\n",
      "1500/1500 [==============================] - 4s 2ms/step - loss: 0.8982 - accuracy: 0.6577 - val_loss: 0.7613 - val_accuracy: 0.7047\n",
      "Epoch 20/20\n",
      "1500/1500 [==============================] - 4s 2ms/step - loss: 0.9033 - accuracy: 0.6586 - val_loss: 0.7340 - val_accuracy: 0.7171\n",
      "dict_keys(['loss', 'accuracy', 'val_loss', 'val_accuracy'])\n"
     ]
    },
    {
     "data": {
      "text/plain": "<Figure size 432x288 with 1 Axes>",
      "image/png": "[encoded data removed]"
     },
     "metadata": {
      "needs_background": "light"
     },
     "output_type": "display_data"
    }
   ],
   "source": [
    "'''콜백 사용하기 #1: 훈련 중간에 낮은 점수 저장하기'''\n",
    "# 모델 생성하고, 구성하기\n",
    "model = model_func(keras.layers.Dropout(0.3)) # Dropout은 층처럼 다뤄지지만, 모델 파라미터 값은 없음.\n",
    "model.compile(optimizer = 'adam', loss='sparse_categorical_crossentropy', metrics='accuracy')\n",
    "# 콜백 사용하기: 훈련 중간에 작업을 수행함\n",
    "checkpoint_cb = keras.callbacks.ModelCheckpoint('best-model.h5', save_best_only = True) # 에포크마다 다장 낮은 점수들을 저장함.\n",
    "# 모델 학습하기\n",
    "history = model.fit(train_scaled, train_target, epochs=20, verbose=1, validation_data = (val_scaled, val_target), callbacks = [checkpoint_cb]) # callbacks에 미리 정의된 콜백 함수를 넘김\n",
    "# 훈련 측정값이 저장된 history 딕셔너리 값 확인\n",
    "print(history.history.keys())\n",
    "# 학습 결과에 대한 loss 출력\n",
    "import matplotlib.pyplot as plt\n",
    "plt.plot(history.history['loss'], label = 'train') # 학습 데이터에 대한 손실값 시각화\n",
    "plt.plot(history.history['val_loss'], label = 'validation') # 검증 데이터에 대한 손실값 시각화\n",
    "plt.xlabel('epoch')\n",
    "plt.ylabel('loss')\n",
    "plt.legend()\n",
    "plt.show()"
   ],
   "metadata": {
    "collapsed": false,
    "pycharm": {
     "name": "#%%\n"
    }
   }
  },
  {
   "cell_type": "code",
   "execution_count": 18,
   "outputs": [
    {
     "name": "stdout",
     "output_type": "stream",
     "text": [
      "Epoch 1/20\n",
      "1500/1500 [==============================] - 4s 3ms/step - loss: 2.8259 - accuracy: 0.4674 - val_loss: 1.2647 - val_accuracy: 0.5319\n",
      "Epoch 2/20\n",
      "1500/1500 [==============================] - 4s 2ms/step - loss: 1.3460 - accuracy: 0.4976 - val_loss: 1.0318 - val_accuracy: 0.6042\n",
      "Epoch 3/20\n",
      "1500/1500 [==============================] - 4s 3ms/step - loss: 1.1876 - accuracy: 0.5370 - val_loss: 0.9250 - val_accuracy: 0.6264\n",
      "Epoch 4/20\n",
      "1500/1500 [==============================] - 4s 2ms/step - loss: 1.1003 - accuracy: 0.5747 - val_loss: 0.8389 - val_accuracy: 0.6605\n",
      "Epoch 5/20\n",
      "1500/1500 [==============================] - 4s 3ms/step - loss: 1.0445 - accuracy: 0.5969 - val_loss: 0.7999 - val_accuracy: 0.6658\n",
      "Epoch 6/20\n",
      "1500/1500 [==============================] - 4s 3ms/step - loss: 1.0127 - accuracy: 0.6160 - val_loss: 0.7563 - val_accuracy: 0.7151\n",
      "Epoch 7/20\n",
      "1500/1500 [==============================] - 4s 2ms/step - loss: 0.9650 - accuracy: 0.6261 - val_loss: 0.8159 - val_accuracy: 0.6498\n",
      "Epoch 8/20\n",
      "1500/1500 [==============================] - 4s 2ms/step - loss: 0.9728 - accuracy: 0.6260 - val_loss: 0.7703 - val_accuracy: 0.7229\n",
      "Epoch 9/20\n",
      "1500/1500 [==============================] - 4s 2ms/step - loss: 0.9801 - accuracy: 0.6226 - val_loss: 0.8730 - val_accuracy: 0.6367\n",
      "Epoch 10/20\n",
      "1500/1500 [==============================] - 4s 2ms/step - loss: 0.9730 - accuracy: 0.6289 - val_loss: 0.7371 - val_accuracy: 0.7153\n",
      "Epoch 11/20\n",
      "1500/1500 [==============================] - 4s 3ms/step - loss: 0.9321 - accuracy: 0.6378 - val_loss: 0.7566 - val_accuracy: 0.7122\n",
      "Epoch 12/20\n",
      "1500/1500 [==============================] - 4s 2ms/step - loss: 0.9746 - accuracy: 0.6321 - val_loss: 0.6884 - val_accuracy: 0.7310\n",
      "Epoch 13/20\n",
      "1500/1500 [==============================] - 4s 3ms/step - loss: 0.9394 - accuracy: 0.6365 - val_loss: 0.7057 - val_accuracy: 0.7287\n",
      "Epoch 14/20\n",
      "1500/1500 [==============================] - 4s 3ms/step - loss: 0.9321 - accuracy: 0.6399 - val_loss: 0.6837 - val_accuracy: 0.7347\n",
      "Epoch 15/20\n",
      "1500/1500 [==============================] - 4s 3ms/step - loss: 0.9279 - accuracy: 0.6432 - val_loss: 0.7197 - val_accuracy: 0.7185\n",
      "Epoch 16/20\n",
      "1500/1500 [==============================] - 4s 3ms/step - loss: 0.9229 - accuracy: 0.6455 - val_loss: 0.7252 - val_accuracy: 0.7313\n",
      "Epoch 17/20\n",
      "1500/1500 [==============================] - 4s 3ms/step - loss: 0.9264 - accuracy: 0.6468 - val_loss: 0.7463 - val_accuracy: 0.7352\n",
      "Epoch 18/20\n",
      "1500/1500 [==============================] - 4s 3ms/step - loss: 0.9410 - accuracy: 0.6435 - val_loss: 0.6873 - val_accuracy: 0.7320\n",
      "Epoch 19/20\n",
      "1500/1500 [==============================] - 4s 3ms/step - loss: 0.9105 - accuracy: 0.6480 - val_loss: 0.6832 - val_accuracy: 0.7379\n",
      "Epoch 20/20\n",
      "1500/1500 [==============================] - 4s 2ms/step - loss: 0.9296 - accuracy: 0.6486 - val_loss: 0.7988 - val_accuracy: 0.6891\n",
      "dict_keys(['loss', 'accuracy', 'val_loss', 'val_accuracy'])\n"
     ]
    },
    {
     "data": {
      "text/plain": "<Figure size 432x288 with 1 Axes>",
      "image/png": "[encoded data removed]"
     },
     "metadata": {
      "needs_background": "light"
     },
     "output_type": "display_data"
    }
   ],
   "source": [
    "'''콜백 사용하기 #2: 훈련 중간에 낮은 점수 저장하기 + 조기 종료'''\n",
    "# 모델 생성하고, 구성하기\n",
    "model = model_func(keras.layers.Dropout(0.3)) # Dropout은 층처럼 다뤄지지만, 모델 파라미터 값은 없음.\n",
    "model.compile(optimizer = 'adam', loss='sparse_categorical_crossentropy', metrics='accuracy')\n",
    "# 콜백 사용하기: 훈련 중간에 작업을 수행함\n",
    "checkpoint_cb = keras.callbacks.ModelCheckpoint('best-model.h5', save_best_only = True) # 에포크마다 다장 낮은 점수들을 저장함.\n",
    "early_stopping_cb = keras.callbacks.EarlyStopping(patience = 2)\n",
    "# 모델 학습하기\n",
    "history = model.fit(train_scaled, train_target, epochs=20, verbose=1, validation_data = (val_scaled, val_target), callbacks = [checkpoint_cb]) # callbacks에 미리 정의된 콜백 함수를 넘김\n",
    "# 훈련이 중지된 Epoch 출력\n",
    "print(early_stopping_cb.stopped_epoch)\n",
    "# 학습 결과에 대한 loss 출력\n",
    "import matplotlib.pyplot as plt\n",
    "plt.plot(history.history['loss'], label = 'train') # 학습 데이터에 대한 손실값 시각화\n",
    "plt.plot(history.history['val_loss'], label = 'validation') # 검증 데이터에 대한 손실값 시각화\n",
    "plt.xlabel('epoch')\n",
    "plt.ylabel('loss')\n",
    "plt.legend()\n",
    "plt.show()"
   ],
   "metadata": {
    "collapsed": false,
    "pycharm": {
     "name": "#%%\n"
    }
   }
  },
  {
   "cell_type": "code",
   "execution_count": null,
   "outputs": [],
   "source": [],
   "metadata": {
    "collapsed": false,
    "pycharm": {
     "name": "#%%\n"
    }
   }
  }
 ],
 "metadata": {
  "kernelspec": {
   "display_name": "Python 3",
   "language": "python",
   "name": "python3"
  },
  "language_info": {
   "codemirror_mode": {
    "name": "ipython",
    "version": 2
   },
   "file_extension": ".py",
   "mimetype": "text/x-python",
   "name": "python",
   "nbconvert_exporter": "python",
   "pygments_lexer": "ipython2",
   "version": "2.7.6"
  }
 },
 "nbformat": 4,
 "nbformat_minor": 0
}