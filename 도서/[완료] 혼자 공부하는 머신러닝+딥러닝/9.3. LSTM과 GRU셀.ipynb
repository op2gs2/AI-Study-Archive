{
 "cells": [
  {
   "cell_type": "markdown",
   "metadata": {
    "collapsed": true,
    "id": "UOxkK3yWW8_-"
   },
   "source": [
    "## 개념 정리\n",
    "### 용어 정리\n",
    "- LSTM\n",
    "  - 타임스텝이 긴 데이터를 효과적으로 학습하기 위한 순환층\n",
    "  - 입력 게이트(새로운 정보를 셀에 저장), 삭제 게이트(셀 상태에 있는 정보 제거), 출력 게이트(다음 상태로 출력) 역할을 하는 작은 셀들이 포함됨\n",
    "  - 은닉 상태외에 셀 상태를 출력함. 이는 현재 위치한 층에서만 순환됨\n",
    "  - 입력을 은닉상태와 곱한뒤, 시그모이드 함수나 tanh 함수를 통과시킴. 이 두 결과를 곱한 후, 이전 셀 상태와 더함.\n",
    "- GRU\n",
    "  - LSTM에 비해, 가중치를 곱하는 셀이 하나가 없으면서, 성능은 비슷함.\n",
    "### 핵심 패키지와 함수 (Tensorflow)\n",
    "- LSTM\n",
    "  - 첫번째 매개변수에 뉴런의 갯수를 지정\n",
    "  - dropout: 입력에 대한 드롭아웃 비율을 지정\n",
    "  - return_sequences: 모든 타임스텝의 은닉 상태를 출력할지 결정. 기본값은 False.\n",
    "- GRU\n",
    "  - 첫번째 매개변수에 뉴런의 갯수를 지정\n",
    "  - dropout: 입력에 대한 드롭아웃 비율을 지정\n",
    "  - return_sequences: 모든 타임스텝의 은닉 상태를 출력할지 결정. 기본값은 False.\n"
   ]
  },
  {
   "cell_type": "code",
   "execution_count": 1,
   "metadata": {
    "id": "ingJx7zgW8__"
   },
   "outputs": [
    {
     "ename": "AttributeError",
     "evalue": "module 'keras.engine.base_layer' has no attribute 'BaseRandomLayer'",
     "output_type": "error",
     "traceback": [
      "\u001B[1;31m---------------------------------------------------------------------------\u001B[0m",
      "\u001B[1;31mAttributeError\u001B[0m                            Traceback (most recent call last)",
      "Input \u001B[1;32mIn [1]\u001B[0m, in \u001B[0;36m<module>\u001B[1;34m\u001B[0m\n\u001B[0;32m      1\u001B[0m \u001B[38;5;124;03m'''데이터 준비하기'''\u001B[39;00m\n\u001B[1;32m----> 2\u001B[0m \u001B[38;5;28;01mfrom\u001B[39;00m \u001B[38;5;21;01mtensorflow\u001B[39;00m\u001B[38;5;21;01m.\u001B[39;00m\u001B[38;5;21;01mkeras\u001B[39;00m\u001B[38;5;21;01m.\u001B[39;00m\u001B[38;5;21;01mdatasets\u001B[39;00m \u001B[38;5;28;01mimport\u001B[39;00m imdb\n\u001B[0;32m      3\u001B[0m \u001B[38;5;28;01mfrom\u001B[39;00m \u001B[38;5;21;01msklearn\u001B[39;00m\u001B[38;5;21;01m.\u001B[39;00m\u001B[38;5;21;01mmodel_selection\u001B[39;00m \u001B[38;5;28;01mimport\u001B[39;00m train_test_split\n\u001B[0;32m      4\u001B[0m \u001B[38;5;66;03m# 데이터 불러오기\u001B[39;00m\n",
      "File \u001B[1;32mD:\\Programs\\Anaconda\\envs\\Analysis-Malicious-code-with-AI-practice-\\lib\\site-packages\\tensorflow\\__init__.py:473\u001B[0m, in \u001B[0;36m<module>\u001B[1;34m\u001B[0m\n\u001B[0;32m    471\u001B[0m \u001B[38;5;28;01mif\u001B[39;00m \u001B[38;5;28mhasattr\u001B[39m(_current_module, \u001B[38;5;124m\"\u001B[39m\u001B[38;5;124mkeras\u001B[39m\u001B[38;5;124m\"\u001B[39m):\n\u001B[0;32m    472\u001B[0m   \u001B[38;5;28;01mtry\u001B[39;00m:\n\u001B[1;32m--> 473\u001B[0m     \u001B[43mkeras\u001B[49m\u001B[38;5;241;43m.\u001B[39;49m\u001B[43m_load\u001B[49m\u001B[43m(\u001B[49m\u001B[43m)\u001B[49m\n\u001B[0;32m    474\u001B[0m   \u001B[38;5;28;01mexcept\u001B[39;00m \u001B[38;5;167;01mImportError\u001B[39;00m:\n\u001B[0;32m    475\u001B[0m     \u001B[38;5;28;01mpass\u001B[39;00m\n",
      "File \u001B[1;32mD:\\Programs\\Anaconda\\envs\\Analysis-Malicious-code-with-AI-practice-\\lib\\site-packages\\tensorflow\\python\\util\\lazy_loader.py:41\u001B[0m, in \u001B[0;36mLazyLoader._load\u001B[1;34m(self)\u001B[0m\n\u001B[0;32m     39\u001B[0m \u001B[38;5;124;03m\"\"\"Load the module and insert it into the parent's globals.\"\"\"\u001B[39;00m\n\u001B[0;32m     40\u001B[0m \u001B[38;5;66;03m# Import the target module and insert it into the parent's namespace\u001B[39;00m\n\u001B[1;32m---> 41\u001B[0m module \u001B[38;5;241m=\u001B[39m \u001B[43mimportlib\u001B[49m\u001B[38;5;241;43m.\u001B[39;49m\u001B[43mimport_module\u001B[49m\u001B[43m(\u001B[49m\u001B[38;5;28;43mself\u001B[39;49m\u001B[38;5;241;43m.\u001B[39;49m\u001B[38;5;18;43m__name__\u001B[39;49m\u001B[43m)\u001B[49m\n\u001B[0;32m     42\u001B[0m \u001B[38;5;28mself\u001B[39m\u001B[38;5;241m.\u001B[39m_parent_module_globals[\u001B[38;5;28mself\u001B[39m\u001B[38;5;241m.\u001B[39m_local_name] \u001B[38;5;241m=\u001B[39m module\n\u001B[0;32m     44\u001B[0m \u001B[38;5;66;03m# Emit a warning if one was specified\u001B[39;00m\n",
      "File \u001B[1;32mD:\\Programs\\Anaconda\\envs\\Analysis-Malicious-code-with-AI-practice-\\lib\\importlib\\__init__.py:126\u001B[0m, in \u001B[0;36mimport_module\u001B[1;34m(name, package)\u001B[0m\n\u001B[0;32m    124\u001B[0m             \u001B[38;5;28;01mbreak\u001B[39;00m\n\u001B[0;32m    125\u001B[0m         level \u001B[38;5;241m+\u001B[39m\u001B[38;5;241m=\u001B[39m \u001B[38;5;241m1\u001B[39m\n\u001B[1;32m--> 126\u001B[0m \u001B[38;5;28;01mreturn\u001B[39;00m \u001B[43m_bootstrap\u001B[49m\u001B[38;5;241;43m.\u001B[39;49m\u001B[43m_gcd_import\u001B[49m\u001B[43m(\u001B[49m\u001B[43mname\u001B[49m\u001B[43m[\u001B[49m\u001B[43mlevel\u001B[49m\u001B[43m:\u001B[49m\u001B[43m]\u001B[49m\u001B[43m,\u001B[49m\u001B[43m \u001B[49m\u001B[43mpackage\u001B[49m\u001B[43m,\u001B[49m\u001B[43m \u001B[49m\u001B[43mlevel\u001B[49m\u001B[43m)\u001B[49m\n",
      "File \u001B[1;32mD:\\Programs\\Anaconda\\envs\\Analysis-Malicious-code-with-AI-practice-\\lib\\site-packages\\keras\\__init__.py:25\u001B[0m, in \u001B[0;36m<module>\u001B[1;34m\u001B[0m\n\u001B[0;32m     22\u001B[0m \u001B[38;5;28;01mfrom\u001B[39;00m \u001B[38;5;21;01mkeras\u001B[39;00m \u001B[38;5;28;01mimport\u001B[39;00m distribute\n\u001B[0;32m     24\u001B[0m \u001B[38;5;66;03m# See b/110718070#comment18 for more details about this import.\u001B[39;00m\n\u001B[1;32m---> 25\u001B[0m \u001B[38;5;28;01mfrom\u001B[39;00m \u001B[38;5;21;01mkeras\u001B[39;00m \u001B[38;5;28;01mimport\u001B[39;00m models\n\u001B[0;32m     27\u001B[0m \u001B[38;5;28;01mfrom\u001B[39;00m \u001B[38;5;21;01mkeras\u001B[39;00m\u001B[38;5;21;01m.\u001B[39;00m\u001B[38;5;21;01mengine\u001B[39;00m\u001B[38;5;21;01m.\u001B[39;00m\u001B[38;5;21;01minput_layer\u001B[39;00m \u001B[38;5;28;01mimport\u001B[39;00m Input\n\u001B[0;32m     28\u001B[0m \u001B[38;5;28;01mfrom\u001B[39;00m \u001B[38;5;21;01mkeras\u001B[39;00m\u001B[38;5;21;01m.\u001B[39;00m\u001B[38;5;21;01mengine\u001B[39;00m\u001B[38;5;21;01m.\u001B[39;00m\u001B[38;5;21;01msequential\u001B[39;00m \u001B[38;5;28;01mimport\u001B[39;00m Sequential\n",
      "File \u001B[1;32mD:\\Programs\\Anaconda\\envs\\Analysis-Malicious-code-with-AI-practice-\\lib\\site-packages\\keras\\models.py:20\u001B[0m, in \u001B[0;36m<module>\u001B[1;34m\u001B[0m\n\u001B[0;32m     18\u001B[0m \u001B[38;5;28;01mimport\u001B[39;00m \u001B[38;5;21;01mtensorflow\u001B[39;00m\u001B[38;5;21;01m.\u001B[39;00m\u001B[38;5;21;01mcompat\u001B[39;00m\u001B[38;5;21;01m.\u001B[39;00m\u001B[38;5;21;01mv2\u001B[39;00m \u001B[38;5;28;01mas\u001B[39;00m \u001B[38;5;21;01mtf\u001B[39;00m\n\u001B[0;32m     19\u001B[0m \u001B[38;5;28;01mfrom\u001B[39;00m \u001B[38;5;21;01mkeras\u001B[39;00m \u001B[38;5;28;01mimport\u001B[39;00m backend\n\u001B[1;32m---> 20\u001B[0m \u001B[38;5;28;01mfrom\u001B[39;00m \u001B[38;5;21;01mkeras\u001B[39;00m \u001B[38;5;28;01mimport\u001B[39;00m metrics \u001B[38;5;28;01mas\u001B[39;00m metrics_module\n\u001B[0;32m     21\u001B[0m \u001B[38;5;28;01mfrom\u001B[39;00m \u001B[38;5;21;01mkeras\u001B[39;00m \u001B[38;5;28;01mimport\u001B[39;00m optimizer_v1\n\u001B[0;32m     22\u001B[0m \u001B[38;5;28;01mfrom\u001B[39;00m \u001B[38;5;21;01mkeras\u001B[39;00m\u001B[38;5;21;01m.\u001B[39;00m\u001B[38;5;21;01mengine\u001B[39;00m \u001B[38;5;28;01mimport\u001B[39;00m functional\n",
      "File \u001B[1;32mD:\\Programs\\Anaconda\\envs\\Analysis-Malicious-code-with-AI-practice-\\lib\\site-packages\\keras\\metrics.py:26\u001B[0m, in \u001B[0;36m<module>\u001B[1;34m\u001B[0m\n\u001B[0;32m     23\u001B[0m \u001B[38;5;28;01mimport\u001B[39;00m \u001B[38;5;21;01mwarnings\u001B[39;00m\n\u001B[0;32m     25\u001B[0m \u001B[38;5;28;01mimport\u001B[39;00m \u001B[38;5;21;01mnumpy\u001B[39;00m \u001B[38;5;28;01mas\u001B[39;00m \u001B[38;5;21;01mnp\u001B[39;00m\n\u001B[1;32m---> 26\u001B[0m \u001B[38;5;28;01mfrom\u001B[39;00m \u001B[38;5;21;01mkeras\u001B[39;00m \u001B[38;5;28;01mimport\u001B[39;00m activations\n\u001B[0;32m     27\u001B[0m \u001B[38;5;28;01mfrom\u001B[39;00m \u001B[38;5;21;01mkeras\u001B[39;00m \u001B[38;5;28;01mimport\u001B[39;00m backend\n\u001B[0;32m     28\u001B[0m \u001B[38;5;28;01mfrom\u001B[39;00m \u001B[38;5;21;01mkeras\u001B[39;00m\u001B[38;5;21;01m.\u001B[39;00m\u001B[38;5;21;01mengine\u001B[39;00m \u001B[38;5;28;01mimport\u001B[39;00m base_layer\n",
      "File \u001B[1;32mD:\\Programs\\Anaconda\\envs\\Analysis-Malicious-code-with-AI-practice-\\lib\\site-packages\\keras\\activations.py:20\u001B[0m, in \u001B[0;36m<module>\u001B[1;34m\u001B[0m\n\u001B[0;32m     17\u001B[0m \u001B[38;5;28;01mimport\u001B[39;00m \u001B[38;5;21;01mtensorflow\u001B[39;00m\u001B[38;5;21;01m.\u001B[39;00m\u001B[38;5;21;01mcompat\u001B[39;00m\u001B[38;5;21;01m.\u001B[39;00m\u001B[38;5;21;01mv2\u001B[39;00m \u001B[38;5;28;01mas\u001B[39;00m \u001B[38;5;21;01mtf\u001B[39;00m\n\u001B[0;32m     19\u001B[0m \u001B[38;5;28;01mfrom\u001B[39;00m \u001B[38;5;21;01mkeras\u001B[39;00m \u001B[38;5;28;01mimport\u001B[39;00m backend\n\u001B[1;32m---> 20\u001B[0m \u001B[38;5;28;01mfrom\u001B[39;00m \u001B[38;5;21;01mkeras\u001B[39;00m\u001B[38;5;21;01m.\u001B[39;00m\u001B[38;5;21;01mlayers\u001B[39;00m \u001B[38;5;28;01mimport\u001B[39;00m advanced_activations\n\u001B[0;32m     21\u001B[0m \u001B[38;5;28;01mfrom\u001B[39;00m \u001B[38;5;21;01mkeras\u001B[39;00m\u001B[38;5;21;01m.\u001B[39;00m\u001B[38;5;21;01mutils\u001B[39;00m\u001B[38;5;21;01m.\u001B[39;00m\u001B[38;5;21;01mgeneric_utils\u001B[39;00m \u001B[38;5;28;01mimport\u001B[39;00m deserialize_keras_object\n\u001B[0;32m     22\u001B[0m \u001B[38;5;28;01mfrom\u001B[39;00m \u001B[38;5;21;01mkeras\u001B[39;00m\u001B[38;5;21;01m.\u001B[39;00m\u001B[38;5;21;01mutils\u001B[39;00m\u001B[38;5;21;01m.\u001B[39;00m\u001B[38;5;21;01mgeneric_utils\u001B[39;00m \u001B[38;5;28;01mimport\u001B[39;00m serialize_keras_object\n",
      "File \u001B[1;32mD:\\Programs\\Anaconda\\envs\\Analysis-Malicious-code-with-AI-practice-\\lib\\site-packages\\keras\\layers\\__init__.py:31\u001B[0m, in \u001B[0;36m<module>\u001B[1;34m\u001B[0m\n\u001B[0;32m     28\u001B[0m \u001B[38;5;28;01mfrom\u001B[39;00m \u001B[38;5;21;01mkeras\u001B[39;00m\u001B[38;5;21;01m.\u001B[39;00m\u001B[38;5;21;01mengine\u001B[39;00m\u001B[38;5;21;01m.\u001B[39;00m\u001B[38;5;21;01mbase_preprocessing_layer\u001B[39;00m \u001B[38;5;28;01mimport\u001B[39;00m PreprocessingLayer\n\u001B[0;32m     30\u001B[0m \u001B[38;5;66;03m# Image preprocessing layers.\u001B[39;00m\n\u001B[1;32m---> 31\u001B[0m \u001B[38;5;28;01mfrom\u001B[39;00m \u001B[38;5;21;01mkeras\u001B[39;00m\u001B[38;5;21;01m.\u001B[39;00m\u001B[38;5;21;01mlayers\u001B[39;00m\u001B[38;5;21;01m.\u001B[39;00m\u001B[38;5;21;01mpreprocessing\u001B[39;00m\u001B[38;5;21;01m.\u001B[39;00m\u001B[38;5;21;01mimage_preprocessing\u001B[39;00m \u001B[38;5;28;01mimport\u001B[39;00m CenterCrop\n\u001B[0;32m     32\u001B[0m \u001B[38;5;28;01mfrom\u001B[39;00m \u001B[38;5;21;01mkeras\u001B[39;00m\u001B[38;5;21;01m.\u001B[39;00m\u001B[38;5;21;01mlayers\u001B[39;00m\u001B[38;5;21;01m.\u001B[39;00m\u001B[38;5;21;01mpreprocessing\u001B[39;00m\u001B[38;5;21;01m.\u001B[39;00m\u001B[38;5;21;01mimage_preprocessing\u001B[39;00m \u001B[38;5;28;01mimport\u001B[39;00m RandomCrop\n\u001B[0;32m     33\u001B[0m \u001B[38;5;28;01mfrom\u001B[39;00m \u001B[38;5;21;01mkeras\u001B[39;00m\u001B[38;5;21;01m.\u001B[39;00m\u001B[38;5;21;01mlayers\u001B[39;00m\u001B[38;5;21;01m.\u001B[39;00m\u001B[38;5;21;01mpreprocessing\u001B[39;00m\u001B[38;5;21;01m.\u001B[39;00m\u001B[38;5;21;01mimage_preprocessing\u001B[39;00m \u001B[38;5;28;01mimport\u001B[39;00m RandomFlip\n",
      "File \u001B[1;32mD:\\Programs\\Anaconda\\envs\\Analysis-Malicious-code-with-AI-practice-\\lib\\site-packages\\keras\\layers\\preprocessing\\image_preprocessing.py:24\u001B[0m, in \u001B[0;36m<module>\u001B[1;34m\u001B[0m\n\u001B[0;32m     22\u001B[0m \u001B[38;5;28;01mfrom\u001B[39;00m \u001B[38;5;21;01mkeras\u001B[39;00m\u001B[38;5;21;01m.\u001B[39;00m\u001B[38;5;21;01mengine\u001B[39;00m \u001B[38;5;28;01mimport\u001B[39;00m base_layer\n\u001B[0;32m     23\u001B[0m \u001B[38;5;28;01mfrom\u001B[39;00m \u001B[38;5;21;01mkeras\u001B[39;00m\u001B[38;5;21;01m.\u001B[39;00m\u001B[38;5;21;01mengine\u001B[39;00m \u001B[38;5;28;01mimport\u001B[39;00m base_preprocessing_layer\n\u001B[1;32m---> 24\u001B[0m \u001B[38;5;28;01mfrom\u001B[39;00m \u001B[38;5;21;01mkeras\u001B[39;00m\u001B[38;5;21;01m.\u001B[39;00m\u001B[38;5;21;01mpreprocessing\u001B[39;00m \u001B[38;5;28;01mimport\u001B[39;00m image \u001B[38;5;28;01mas\u001B[39;00m image_preprocessing\n\u001B[0;32m     25\u001B[0m \u001B[38;5;28;01mfrom\u001B[39;00m \u001B[38;5;21;01mkeras\u001B[39;00m\u001B[38;5;21;01m.\u001B[39;00m\u001B[38;5;21;01mutils\u001B[39;00m \u001B[38;5;28;01mimport\u001B[39;00m control_flow_util\n\u001B[0;32m     26\u001B[0m \u001B[38;5;28;01mfrom\u001B[39;00m \u001B[38;5;21;01mtensorflow\u001B[39;00m\u001B[38;5;21;01m.\u001B[39;00m\u001B[38;5;21;01mpython\u001B[39;00m\u001B[38;5;21;01m.\u001B[39;00m\u001B[38;5;21;01mops\u001B[39;00m \u001B[38;5;28;01mimport\u001B[39;00m stateless_random_ops\n",
      "File \u001B[1;32mD:\\Programs\\Anaconda\\envs\\Analysis-Malicious-code-with-AI-practice-\\lib\\site-packages\\keras\\preprocessing\\__init__.py:26\u001B[0m, in \u001B[0;36m<module>\u001B[1;34m\u001B[0m\n\u001B[0;32m     24\u001B[0m \u001B[38;5;28;01mfrom\u001B[39;00m \u001B[38;5;21;01mkeras\u001B[39;00m\u001B[38;5;21;01m.\u001B[39;00m\u001B[38;5;21;01mpreprocessing\u001B[39;00m \u001B[38;5;28;01mimport\u001B[39;00m text\n\u001B[0;32m     25\u001B[0m \u001B[38;5;28;01mfrom\u001B[39;00m \u001B[38;5;21;01mkeras\u001B[39;00m\u001B[38;5;21;01m.\u001B[39;00m\u001B[38;5;21;01mpreprocessing\u001B[39;00m \u001B[38;5;28;01mimport\u001B[39;00m timeseries\n\u001B[1;32m---> 26\u001B[0m \u001B[38;5;28;01mfrom\u001B[39;00m \u001B[38;5;21;01mkeras\u001B[39;00m\u001B[38;5;21;01m.\u001B[39;00m\u001B[38;5;21;01mutils\u001B[39;00m \u001B[38;5;28;01mimport\u001B[39;00m all_utils \u001B[38;5;28;01mas\u001B[39;00m utils\n\u001B[0;32m     28\u001B[0m \u001B[38;5;66;03m# This exists for compatibility with prior version of keras_preprocessing.\u001B[39;00m\n\u001B[0;32m     29\u001B[0m keras_preprocessing\u001B[38;5;241m.\u001B[39mset_keras_submodules(backend\u001B[38;5;241m=\u001B[39mbackend, utils\u001B[38;5;241m=\u001B[39mutils)\n",
      "File \u001B[1;32mD:\\Programs\\Anaconda\\envs\\Analysis-Malicious-code-with-AI-practice-\\lib\\site-packages\\keras\\utils\\all_utils.py:34\u001B[0m, in \u001B[0;36m<module>\u001B[1;34m\u001B[0m\n\u001B[0;32m     32\u001B[0m \u001B[38;5;28;01mfrom\u001B[39;00m \u001B[38;5;21;01mkeras\u001B[39;00m\u001B[38;5;21;01m.\u001B[39;00m\u001B[38;5;21;01mutils\u001B[39;00m\u001B[38;5;21;01m.\u001B[39;00m\u001B[38;5;21;01mgeneric_utils\u001B[39;00m \u001B[38;5;28;01mimport\u001B[39;00m serialize_keras_object\n\u001B[0;32m     33\u001B[0m \u001B[38;5;28;01mfrom\u001B[39;00m \u001B[38;5;21;01mkeras\u001B[39;00m\u001B[38;5;21;01m.\u001B[39;00m\u001B[38;5;21;01mutils\u001B[39;00m\u001B[38;5;21;01m.\u001B[39;00m\u001B[38;5;21;01mlayer_utils\u001B[39;00m \u001B[38;5;28;01mimport\u001B[39;00m get_source_inputs\n\u001B[1;32m---> 34\u001B[0m \u001B[38;5;28;01mfrom\u001B[39;00m \u001B[38;5;21;01mkeras\u001B[39;00m\u001B[38;5;21;01m.\u001B[39;00m\u001B[38;5;21;01mutils\u001B[39;00m\u001B[38;5;21;01m.\u001B[39;00m\u001B[38;5;21;01mmulti_gpu_utils\u001B[39;00m \u001B[38;5;28;01mimport\u001B[39;00m multi_gpu_model\n\u001B[0;32m     35\u001B[0m \u001B[38;5;28;01mfrom\u001B[39;00m \u001B[38;5;21;01mkeras\u001B[39;00m\u001B[38;5;21;01m.\u001B[39;00m\u001B[38;5;21;01mutils\u001B[39;00m\u001B[38;5;21;01m.\u001B[39;00m\u001B[38;5;21;01mnp_utils\u001B[39;00m \u001B[38;5;28;01mimport\u001B[39;00m normalize\n\u001B[0;32m     36\u001B[0m \u001B[38;5;28;01mfrom\u001B[39;00m \u001B[38;5;21;01mkeras\u001B[39;00m\u001B[38;5;21;01m.\u001B[39;00m\u001B[38;5;21;01mutils\u001B[39;00m\u001B[38;5;21;01m.\u001B[39;00m\u001B[38;5;21;01mnp_utils\u001B[39;00m \u001B[38;5;28;01mimport\u001B[39;00m to_categorical\n",
      "File \u001B[1;32mD:\\Programs\\Anaconda\\envs\\Analysis-Malicious-code-with-AI-practice-\\lib\\site-packages\\keras\\utils\\multi_gpu_utils.py:20\u001B[0m, in \u001B[0;36m<module>\u001B[1;34m\u001B[0m\n\u001B[0;32m     18\u001B[0m \u001B[38;5;28;01mfrom\u001B[39;00m \u001B[38;5;21;01mkeras\u001B[39;00m \u001B[38;5;28;01mimport\u001B[39;00m backend\n\u001B[0;32m     19\u001B[0m \u001B[38;5;28;01mfrom\u001B[39;00m \u001B[38;5;21;01mkeras\u001B[39;00m\u001B[38;5;21;01m.\u001B[39;00m\u001B[38;5;21;01mengine\u001B[39;00m\u001B[38;5;21;01m.\u001B[39;00m\u001B[38;5;21;01mtraining\u001B[39;00m \u001B[38;5;28;01mimport\u001B[39;00m Model\n\u001B[1;32m---> 20\u001B[0m \u001B[38;5;28;01mfrom\u001B[39;00m \u001B[38;5;21;01mkeras\u001B[39;00m\u001B[38;5;21;01m.\u001B[39;00m\u001B[38;5;21;01mlayers\u001B[39;00m\u001B[38;5;21;01m.\u001B[39;00m\u001B[38;5;21;01mcore\u001B[39;00m \u001B[38;5;28;01mimport\u001B[39;00m Lambda\n\u001B[0;32m     21\u001B[0m \u001B[38;5;28;01mfrom\u001B[39;00m \u001B[38;5;21;01mkeras\u001B[39;00m\u001B[38;5;21;01m.\u001B[39;00m\u001B[38;5;21;01mlayers\u001B[39;00m\u001B[38;5;21;01m.\u001B[39;00m\u001B[38;5;21;01mmerge\u001B[39;00m \u001B[38;5;28;01mimport\u001B[39;00m concatenate\n\u001B[0;32m     24\u001B[0m \u001B[38;5;28;01mdef\u001B[39;00m \u001B[38;5;21m_get_available_devices\u001B[39m():\n",
      "File \u001B[1;32mD:\\Programs\\Anaconda\\envs\\Analysis-Malicious-code-with-AI-practice-\\lib\\site-packages\\keras\\layers\\core\\__init__.py:20\u001B[0m, in \u001B[0;36m<module>\u001B[1;34m\u001B[0m\n\u001B[0;32m     18\u001B[0m \u001B[38;5;28;01mfrom\u001B[39;00m \u001B[38;5;21;01mkeras\u001B[39;00m\u001B[38;5;21;01m.\u001B[39;00m\u001B[38;5;21;01mlayers\u001B[39;00m\u001B[38;5;21;01m.\u001B[39;00m\u001B[38;5;21;01mcore\u001B[39;00m\u001B[38;5;21;01m.\u001B[39;00m\u001B[38;5;21;01mactivity_regularization\u001B[39;00m \u001B[38;5;28;01mimport\u001B[39;00m ActivityRegularization\n\u001B[0;32m     19\u001B[0m \u001B[38;5;28;01mfrom\u001B[39;00m \u001B[38;5;21;01mkeras\u001B[39;00m\u001B[38;5;21;01m.\u001B[39;00m\u001B[38;5;21;01mlayers\u001B[39;00m\u001B[38;5;21;01m.\u001B[39;00m\u001B[38;5;21;01mcore\u001B[39;00m\u001B[38;5;21;01m.\u001B[39;00m\u001B[38;5;21;01mdense\u001B[39;00m \u001B[38;5;28;01mimport\u001B[39;00m Dense\n\u001B[1;32m---> 20\u001B[0m \u001B[38;5;28;01mfrom\u001B[39;00m \u001B[38;5;21;01mkeras\u001B[39;00m\u001B[38;5;21;01m.\u001B[39;00m\u001B[38;5;21;01mlayers\u001B[39;00m\u001B[38;5;21;01m.\u001B[39;00m\u001B[38;5;21;01mcore\u001B[39;00m\u001B[38;5;21;01m.\u001B[39;00m\u001B[38;5;21;01mdropout\u001B[39;00m \u001B[38;5;28;01mimport\u001B[39;00m Dropout\n\u001B[0;32m     21\u001B[0m \u001B[38;5;28;01mfrom\u001B[39;00m \u001B[38;5;21;01mkeras\u001B[39;00m\u001B[38;5;21;01m.\u001B[39;00m\u001B[38;5;21;01mlayers\u001B[39;00m\u001B[38;5;21;01m.\u001B[39;00m\u001B[38;5;21;01mcore\u001B[39;00m\u001B[38;5;21;01m.\u001B[39;00m\u001B[38;5;21;01mflatten\u001B[39;00m \u001B[38;5;28;01mimport\u001B[39;00m Flatten\n\u001B[0;32m     22\u001B[0m \u001B[38;5;28;01mfrom\u001B[39;00m \u001B[38;5;21;01mkeras\u001B[39;00m\u001B[38;5;21;01m.\u001B[39;00m\u001B[38;5;21;01mlayers\u001B[39;00m\u001B[38;5;21;01m.\u001B[39;00m\u001B[38;5;21;01mcore\u001B[39;00m\u001B[38;5;21;01m.\u001B[39;00m\u001B[38;5;21;01mlambda_layer\u001B[39;00m \u001B[38;5;28;01mimport\u001B[39;00m Lambda\n",
      "File \u001B[1;32mD:\\Programs\\Anaconda\\envs\\Analysis-Malicious-code-with-AI-practice-\\lib\\site-packages\\keras\\layers\\core\\dropout.py:26\u001B[0m, in \u001B[0;36m<module>\u001B[1;34m\u001B[0m\n\u001B[0;32m     21\u001B[0m \u001B[38;5;28;01mimport\u001B[39;00m \u001B[38;5;21;01mtensorflow\u001B[39;00m\u001B[38;5;21;01m.\u001B[39;00m\u001B[38;5;21;01mcompat\u001B[39;00m\u001B[38;5;21;01m.\u001B[39;00m\u001B[38;5;21;01mv2\u001B[39;00m \u001B[38;5;28;01mas\u001B[39;00m \u001B[38;5;21;01mtf\u001B[39;00m\n\u001B[0;32m     22\u001B[0m \u001B[38;5;28;01mfrom\u001B[39;00m \u001B[38;5;21;01mtensorflow\u001B[39;00m\u001B[38;5;21;01m.\u001B[39;00m\u001B[38;5;21;01mpython\u001B[39;00m\u001B[38;5;21;01m.\u001B[39;00m\u001B[38;5;21;01mutil\u001B[39;00m\u001B[38;5;21;01m.\u001B[39;00m\u001B[38;5;21;01mtf_export\u001B[39;00m \u001B[38;5;28;01mimport\u001B[39;00m keras_export\n\u001B[0;32m     25\u001B[0m \u001B[38;5;129m@keras_export\u001B[39m(\u001B[38;5;124m'\u001B[39m\u001B[38;5;124mkeras.layers.Dropout\u001B[39m\u001B[38;5;124m'\u001B[39m)\n\u001B[1;32m---> 26\u001B[0m \u001B[38;5;28;01mclass\u001B[39;00m \u001B[38;5;21;01mDropout\u001B[39;00m(\u001B[43mbase_layer\u001B[49m\u001B[38;5;241;43m.\u001B[39;49m\u001B[43mBaseRandomLayer\u001B[49m):\n\u001B[0;32m     27\u001B[0m   \u001B[38;5;124;03m\"\"\"Applies Dropout to the input.\u001B[39;00m\n\u001B[0;32m     28\u001B[0m \n\u001B[0;32m     29\u001B[0m \u001B[38;5;124;03m  The Dropout layer randomly sets input units to 0 with a frequency of `rate`\u001B[39;00m\n\u001B[1;32m   (...)\u001B[0m\n\u001B[0;32m     74\u001B[0m \u001B[38;5;124;03m      training mode (adding dropout) or in inference mode (doing nothing).\u001B[39;00m\n\u001B[0;32m     75\u001B[0m \u001B[38;5;124;03m  \"\"\"\u001B[39;00m\n\u001B[0;32m     77\u001B[0m   \u001B[38;5;28;01mdef\u001B[39;00m \u001B[38;5;21m__init__\u001B[39m(\u001B[38;5;28mself\u001B[39m, rate, noise_shape\u001B[38;5;241m=\u001B[39m\u001B[38;5;28;01mNone\u001B[39;00m, seed\u001B[38;5;241m=\u001B[39m\u001B[38;5;28;01mNone\u001B[39;00m, \u001B[38;5;241m*\u001B[39m\u001B[38;5;241m*\u001B[39mkwargs):\n",
      "\u001B[1;31mAttributeError\u001B[0m: module 'keras.engine.base_layer' has no attribute 'BaseRandomLayer'"
     ]
    }
   ],
   "source": [
    "'''데이터 준비하기'''\n",
    "from tensorflow.keras.datasets import imdb\n",
    "from sklearn.model_selection import train_test_split\n",
    "# 데이터 불러오기\n",
    "(train_input, train_target), (test_input, test_target) = imdb.load_data(num_words = 500)\n",
    "# 검증셋 나누기\n",
    "train_input, val_input, train_target, val_target  = train_test_split(train_input, train_target, test_size=0.2, random_state=42)\n",
    "# 패딩을 통해 길이를 맞추기\n",
    "from tensorflow.keras.preprocessing.sequence import pad_sequences\n",
    "train_seq = pad_sequences(train_input, maxlen = 100)\n",
    "val_seq = pad_sequences(val_input, maxlen=100)"
   ]
  },
  {
   "cell_type": "code",
   "execution_count": 2,
   "metadata": {
    "colab": {
     "base_uri": "https://localhost:8080/",
     "height": 1000
    },
    "id": "NpXUM9B4W9AA",
    "outputId": "94ee85cb-a48b-491d-f14a-550a5a27bcc5"
   },
   "outputs": [
    {
     "output_type": "stream",
     "name": "stdout",
     "text": [
      "Epoch 1/100\n",
      "313/313 [==============================] - 19s 51ms/step - loss: 0.6928 - accuracy: 0.5279 - val_loss: 0.6922 - val_accuracy: 0.5678\n",
      "Epoch 2/100\n",
      "313/313 [==============================] - 16s 50ms/step - loss: 0.6910 - accuracy: 0.6022 - val_loss: 0.6899 - val_accuracy: 0.6278\n",
      "Epoch 3/100\n",
      "313/313 [==============================] - 16s 50ms/step - loss: 0.6872 - accuracy: 0.6464 - val_loss: 0.6844 - val_accuracy: 0.6424\n",
      "Epoch 4/100\n",
      "313/313 [==============================] - 15s 49ms/step - loss: 0.6779 - accuracy: 0.6640 - val_loss: 0.6696 - val_accuracy: 0.6646\n",
      "Epoch 5/100\n",
      "313/313 [==============================] - 15s 48ms/step - loss: 0.6450 - accuracy: 0.6963 - val_loss: 0.6088 - val_accuracy: 0.7214\n",
      "Epoch 6/100\n",
      "313/313 [==============================] - 15s 49ms/step - loss: 0.5817 - accuracy: 0.7326 - val_loss: 0.5692 - val_accuracy: 0.7314\n",
      "Epoch 7/100\n",
      "313/313 [==============================] - 16s 50ms/step - loss: 0.5553 - accuracy: 0.7447 - val_loss: 0.5488 - val_accuracy: 0.7510\n",
      "Epoch 8/100\n",
      "313/313 [==============================] - 16s 50ms/step - loss: 0.5343 - accuracy: 0.7582 - val_loss: 0.5323 - val_accuracy: 0.7580\n",
      "Epoch 9/100\n",
      "313/313 [==============================] - 15s 48ms/step - loss: 0.5162 - accuracy: 0.7710 - val_loss: 0.5153 - val_accuracy: 0.7678\n",
      "Epoch 10/100\n",
      "313/313 [==============================] - 15s 48ms/step - loss: 0.5001 - accuracy: 0.7775 - val_loss: 0.5007 - val_accuracy: 0.7738\n",
      "Epoch 11/100\n",
      "313/313 [==============================] - 16s 51ms/step - loss: 0.4857 - accuracy: 0.7855 - val_loss: 0.4886 - val_accuracy: 0.7806\n",
      "Epoch 12/100\n",
      "313/313 [==============================] - 16s 50ms/step - loss: 0.4726 - accuracy: 0.7932 - val_loss: 0.4790 - val_accuracy: 0.7838\n",
      "Epoch 13/100\n",
      "313/313 [==============================] - 16s 50ms/step - loss: 0.4621 - accuracy: 0.7973 - val_loss: 0.4692 - val_accuracy: 0.7890\n",
      "Epoch 14/100\n",
      "313/313 [==============================] - 15s 48ms/step - loss: 0.4533 - accuracy: 0.8013 - val_loss: 0.4620 - val_accuracy: 0.7934\n",
      "Epoch 15/100\n",
      "313/313 [==============================] - 16s 50ms/step - loss: 0.4462 - accuracy: 0.8044 - val_loss: 0.4579 - val_accuracy: 0.7914\n",
      "Epoch 16/100\n",
      "313/313 [==============================] - 16s 51ms/step - loss: 0.4404 - accuracy: 0.8072 - val_loss: 0.4524 - val_accuracy: 0.7966\n",
      "Epoch 17/100\n",
      "313/313 [==============================] - 16s 50ms/step - loss: 0.4352 - accuracy: 0.8083 - val_loss: 0.4497 - val_accuracy: 0.7940\n",
      "Epoch 18/100\n",
      "313/313 [==============================] - 17s 54ms/step - loss: 0.4310 - accuracy: 0.8104 - val_loss: 0.4484 - val_accuracy: 0.7946\n",
      "Epoch 19/100\n",
      "313/313 [==============================] - 17s 54ms/step - loss: 0.4275 - accuracy: 0.8103 - val_loss: 0.4444 - val_accuracy: 0.7958\n",
      "Epoch 20/100\n",
      "313/313 [==============================] - 17s 53ms/step - loss: 0.4245 - accuracy: 0.8122 - val_loss: 0.4417 - val_accuracy: 0.7990\n",
      "Epoch 21/100\n",
      "313/313 [==============================] - 15s 48ms/step - loss: 0.4214 - accuracy: 0.8123 - val_loss: 0.4412 - val_accuracy: 0.7974\n",
      "Epoch 22/100\n",
      "313/313 [==============================] - 17s 55ms/step - loss: 0.4193 - accuracy: 0.8135 - val_loss: 0.4390 - val_accuracy: 0.7994\n",
      "Epoch 23/100\n",
      "313/313 [==============================] - 16s 51ms/step - loss: 0.4172 - accuracy: 0.8131 - val_loss: 0.4397 - val_accuracy: 0.7950\n",
      "Epoch 24/100\n",
      "313/313 [==============================] - 15s 49ms/step - loss: 0.4153 - accuracy: 0.8143 - val_loss: 0.4365 - val_accuracy: 0.7978\n",
      "Epoch 25/100\n",
      "313/313 [==============================] - 15s 49ms/step - loss: 0.4139 - accuracy: 0.8142 - val_loss: 0.4392 - val_accuracy: 0.7984\n",
      "Epoch 26/100\n",
      "313/313 [==============================] - 15s 48ms/step - loss: 0.4125 - accuracy: 0.8154 - val_loss: 0.4345 - val_accuracy: 0.8008\n",
      "Epoch 27/100\n",
      "313/313 [==============================] - 16s 50ms/step - loss: 0.4106 - accuracy: 0.8166 - val_loss: 0.4348 - val_accuracy: 0.7994\n",
      "Epoch 28/100\n",
      "313/313 [==============================] - 15s 49ms/step - loss: 0.4099 - accuracy: 0.8155 - val_loss: 0.4355 - val_accuracy: 0.8008\n",
      "Epoch 29/100\n",
      "313/313 [==============================] - 15s 48ms/step - loss: 0.4087 - accuracy: 0.8156 - val_loss: 0.4349 - val_accuracy: 0.8020\n"
     ]
    },
    {
     "output_type": "display_data",
     "data": {
      "image/png": "[encoded data removed]",
      "text/plain": [
       "<Figure size 432x288 with 1 Axes>"
      ]
     },
     "metadata": {
      "needs_background": "light"
     }
    }
   ],
   "source": [
    "'''LSTM 셀을 사용한 순환신경망(RNN) 모델 만들기'''\n",
    "from tensorflow import keras\n",
    "# 모델 설계하기\n",
    "model = keras.Sequential()\n",
    "model.add(keras.layers.Embedding(500, 16, input_length=100))\n",
    "model.add(keras.layers.LSTM(8))\n",
    "model.add(keras.layers.Dense(1, activation = 'sigmoid'))\n",
    "\n",
    "# 모델 구성하기\n",
    "rmsprop = keras.optimizers.RMSprop(learning_rate = 1e-4)\n",
    "model.compile(optimizer = rmsprop, loss='binary_crossentropy', metrics=['accuracy'])\n",
    "# 콜백함수 정의하기\n",
    "checkpoint_cb = keras.callbacks.ModelCheckpoint('best-lstm-model.h5', save_best_only=True)\n",
    "early_stopping_cb = keras.callbacks.EarlyStopping(patience=3, restore_best_weights=True)\n",
    "# 모델 학습하기\n",
    "history = model.fit(train_seq, train_target, epochs=100, batch_size=64, validation_data=(val_seq, val_target), callbacks=[checkpoint_cb, early_stopping_cb])\n",
    "\n",
    "# 학습결과 시각화\n",
    "import matplotlib.pyplot as plt\n",
    "plt.plot(history.history['loss'])\n",
    "plt.plot(history.history['val_loss'])\n",
    "plt.xlabel('epoch')\n",
    "plt.ylabel('loss')\n",
    "plt.legend(['train','val'])\n",
    "plt.show()"
   ]
  },
  {
   "cell_type": "code",
   "execution_count": 3,
   "metadata": {
    "id": "rOTTpeI0W9AB",
    "colab": {
     "base_uri": "https://localhost:8080/",
     "height": 1000
    },
    "outputId": "cd244a61-8d53-43c0-ec4c-c048a3d05b69"
   },
   "outputs": [
    {
     "output_type": "stream",
     "name": "stdout",
     "text": [
      "Epoch 1/100\n",
      "313/313 [==============================] - 20s 54ms/step - loss: 0.6926 - accuracy: 0.5285 - val_loss: 0.6918 - val_accuracy: 0.5872\n",
      "Epoch 2/100\n",
      "313/313 [==============================] - 16s 53ms/step - loss: 0.6898 - accuracy: 0.6127 - val_loss: 0.6866 - val_accuracy: 0.6740\n",
      "Epoch 3/100\n",
      "313/313 [==============================] - 17s 53ms/step - loss: 0.6636 - accuracy: 0.6840 - val_loss: 0.6275 - val_accuracy: 0.6934\n",
      "Epoch 4/100\n",
      "313/313 [==============================] - 16s 53ms/step - loss: 0.6122 - accuracy: 0.6988 - val_loss: 0.6019 - val_accuracy: 0.7058\n",
      "Epoch 5/100\n",
      "313/313 [==============================] - 16s 50ms/step - loss: 0.5926 - accuracy: 0.7165 - val_loss: 0.5859 - val_accuracy: 0.7258\n",
      "Epoch 6/100\n",
      "313/313 [==============================] - 16s 53ms/step - loss: 0.5761 - accuracy: 0.7279 - val_loss: 0.5686 - val_accuracy: 0.7360\n",
      "Epoch 7/100\n",
      "313/313 [==============================] - 16s 51ms/step - loss: 0.5605 - accuracy: 0.7405 - val_loss: 0.5536 - val_accuracy: 0.7420\n",
      "Epoch 8/100\n",
      "313/313 [==============================] - 17s 54ms/step - loss: 0.5465 - accuracy: 0.7527 - val_loss: 0.5415 - val_accuracy: 0.7470\n",
      "Epoch 9/100\n",
      "313/313 [==============================] - 17s 54ms/step - loss: 0.5338 - accuracy: 0.7573 - val_loss: 0.5267 - val_accuracy: 0.7628\n",
      "Epoch 10/100\n",
      "313/313 [==============================] - 16s 51ms/step - loss: 0.5211 - accuracy: 0.7648 - val_loss: 0.5184 - val_accuracy: 0.7666\n",
      "Epoch 11/100\n",
      "313/313 [==============================] - 16s 52ms/step - loss: 0.5069 - accuracy: 0.7741 - val_loss: 0.5080 - val_accuracy: 0.7652\n",
      "Epoch 12/100\n",
      "313/313 [==============================] - 17s 53ms/step - loss: 0.4940 - accuracy: 0.7785 - val_loss: 0.4917 - val_accuracy: 0.7828\n",
      "Epoch 13/100\n",
      "313/313 [==============================] - 16s 52ms/step - loss: 0.4842 - accuracy: 0.7821 - val_loss: 0.4822 - val_accuracy: 0.7818\n",
      "Epoch 14/100\n",
      "313/313 [==============================] - 16s 51ms/step - loss: 0.4724 - accuracy: 0.7897 - val_loss: 0.4703 - val_accuracy: 0.7926\n",
      "Epoch 15/100\n",
      "313/313 [==============================] - 16s 53ms/step - loss: 0.4615 - accuracy: 0.7924 - val_loss: 0.4632 - val_accuracy: 0.7898\n",
      "Epoch 16/100\n",
      "313/313 [==============================] - 17s 55ms/step - loss: 0.4548 - accuracy: 0.7967 - val_loss: 0.4553 - val_accuracy: 0.7952\n",
      "Epoch 17/100\n",
      "313/313 [==============================] - 17s 55ms/step - loss: 0.4473 - accuracy: 0.8015 - val_loss: 0.4513 - val_accuracy: 0.7962\n",
      "Epoch 18/100\n",
      "313/313 [==============================] - 16s 52ms/step - loss: 0.4462 - accuracy: 0.7969 - val_loss: 0.4469 - val_accuracy: 0.7960\n",
      "Epoch 19/100\n",
      "313/313 [==============================] - 16s 52ms/step - loss: 0.4407 - accuracy: 0.8001 - val_loss: 0.4438 - val_accuracy: 0.7958\n",
      "Epoch 20/100\n",
      "313/313 [==============================] - 16s 51ms/step - loss: 0.4358 - accuracy: 0.8036 - val_loss: 0.4433 - val_accuracy: 0.7938\n",
      "Epoch 21/100\n",
      "313/313 [==============================] - 16s 52ms/step - loss: 0.4354 - accuracy: 0.8015 - val_loss: 0.4390 - val_accuracy: 0.8004\n",
      "Epoch 22/100\n",
      "313/313 [==============================] - 16s 53ms/step - loss: 0.4317 - accuracy: 0.8041 - val_loss: 0.4378 - val_accuracy: 0.7978\n",
      "Epoch 23/100\n",
      "313/313 [==============================] - 17s 53ms/step - loss: 0.4280 - accuracy: 0.8056 - val_loss: 0.4359 - val_accuracy: 0.7986\n",
      "Epoch 24/100\n",
      "313/313 [==============================] - 17s 55ms/step - loss: 0.4283 - accuracy: 0.8048 - val_loss: 0.4343 - val_accuracy: 0.8026\n",
      "Epoch 25/100\n",
      "313/313 [==============================] - 16s 52ms/step - loss: 0.4253 - accuracy: 0.8046 - val_loss: 0.4335 - val_accuracy: 0.7980\n",
      "Epoch 26/100\n",
      "313/313 [==============================] - 17s 53ms/step - loss: 0.4245 - accuracy: 0.8065 - val_loss: 0.4336 - val_accuracy: 0.8038\n",
      "Epoch 27/100\n",
      "313/313 [==============================] - 17s 53ms/step - loss: 0.4247 - accuracy: 0.8063 - val_loss: 0.4315 - val_accuracy: 0.8044\n",
      "Epoch 28/100\n",
      "313/313 [==============================] - 17s 54ms/step - loss: 0.4232 - accuracy: 0.8072 - val_loss: 0.4306 - val_accuracy: 0.8042\n",
      "Epoch 29/100\n",
      "313/313 [==============================] - 16s 52ms/step - loss: 0.4202 - accuracy: 0.8077 - val_loss: 0.4320 - val_accuracy: 0.8074\n",
      "Epoch 30/100\n",
      "313/313 [==============================] - 17s 53ms/step - loss: 0.4207 - accuracy: 0.8063 - val_loss: 0.4293 - val_accuracy: 0.8044\n",
      "Epoch 31/100\n",
      "313/313 [==============================] - 18s 56ms/step - loss: 0.4191 - accuracy: 0.8079 - val_loss: 0.4290 - val_accuracy: 0.8018\n",
      "Epoch 32/100\n",
      "313/313 [==============================] - 17s 53ms/step - loss: 0.4180 - accuracy: 0.8104 - val_loss: 0.4286 - val_accuracy: 0.8068\n",
      "Epoch 33/100\n",
      "313/313 [==============================] - 17s 55ms/step - loss: 0.4186 - accuracy: 0.8073 - val_loss: 0.4280 - val_accuracy: 0.8042\n",
      "Epoch 34/100\n",
      "313/313 [==============================] - 17s 54ms/step - loss: 0.4163 - accuracy: 0.8130 - val_loss: 0.4295 - val_accuracy: 0.8072\n",
      "Epoch 35/100\n",
      "313/313 [==============================] - 16s 52ms/step - loss: 0.4155 - accuracy: 0.8115 - val_loss: 0.4275 - val_accuracy: 0.8052\n",
      "Epoch 36/100\n",
      "313/313 [==============================] - 16s 52ms/step - loss: 0.4134 - accuracy: 0.8094 - val_loss: 0.4270 - val_accuracy: 0.8074\n",
      "Epoch 37/100\n",
      "313/313 [==============================] - 16s 52ms/step - loss: 0.4133 - accuracy: 0.8116 - val_loss: 0.4282 - val_accuracy: 0.8070\n",
      "Epoch 38/100\n",
      "313/313 [==============================] - 17s 53ms/step - loss: 0.4129 - accuracy: 0.8105 - val_loss: 0.4270 - val_accuracy: 0.8004\n",
      "Epoch 39/100\n",
      "313/313 [==============================] - 16s 50ms/step - loss: 0.4112 - accuracy: 0.8110 - val_loss: 0.4273 - val_accuracy: 0.8028\n",
      "Epoch 40/100\n",
      "313/313 [==============================] - 17s 54ms/step - loss: 0.4106 - accuracy: 0.8131 - val_loss: 0.4287 - val_accuracy: 0.8054\n",
      "Epoch 41/100\n",
      "313/313 [==============================] - 16s 52ms/step - loss: 0.4104 - accuracy: 0.8134 - val_loss: 0.4259 - val_accuracy: 0.8084\n",
      "Epoch 42/100\n",
      "313/313 [==============================] - 16s 51ms/step - loss: 0.4111 - accuracy: 0.8091 - val_loss: 0.4248 - val_accuracy: 0.8064\n",
      "Epoch 43/100\n",
      "313/313 [==============================] - 16s 52ms/step - loss: 0.4092 - accuracy: 0.8142 - val_loss: 0.4260 - val_accuracy: 0.8032\n",
      "Epoch 44/100\n",
      "313/313 [==============================] - 16s 52ms/step - loss: 0.4111 - accuracy: 0.8130 - val_loss: 0.4284 - val_accuracy: 0.8058\n",
      "Epoch 45/100\n",
      "313/313 [==============================] - 18s 58ms/step - loss: 0.4079 - accuracy: 0.8142 - val_loss: 0.4247 - val_accuracy: 0.8066\n",
      "Epoch 46/100\n",
      "313/313 [==============================] - 17s 54ms/step - loss: 0.4074 - accuracy: 0.8127 - val_loss: 0.4256 - val_accuracy: 0.8028\n",
      "Epoch 47/100\n",
      "313/313 [==============================] - 18s 57ms/step - loss: 0.4089 - accuracy: 0.8124 - val_loss: 0.4244 - val_accuracy: 0.8074\n",
      "Epoch 48/100\n",
      "313/313 [==============================] - 17s 55ms/step - loss: 0.4082 - accuracy: 0.8124 - val_loss: 0.4243 - val_accuracy: 0.8094\n",
      "Epoch 49/100\n",
      "313/313 [==============================] - 16s 53ms/step - loss: 0.4072 - accuracy: 0.8134 - val_loss: 0.4248 - val_accuracy: 0.8088\n",
      "Epoch 50/100\n",
      "313/313 [==============================] - 16s 50ms/step - loss: 0.4060 - accuracy: 0.8144 - val_loss: 0.4266 - val_accuracy: 0.8024\n",
      "Epoch 51/100\n",
      "313/313 [==============================] - 16s 52ms/step - loss: 0.4053 - accuracy: 0.8145 - val_loss: 0.4274 - val_accuracy: 0.8008\n"
     ]
    },
    {
     "output_type": "display_data",
     "data": {
      "image/png": "[encoded data removed]",
      "text/plain": [
       "<Figure size 432x288 with 1 Axes>"
      ]
     },
     "metadata": {
      "needs_background": "light"
     }
    }
   ],
   "source": [
    "'''순환층에 Dropout 적용하기'''\n",
    "# 모델 설계하기\n",
    "model2 = keras.Sequential()\n",
    "model2.add(keras.layers.Embedding(500, 16, input_length=100))\n",
    "model2.add(keras.layers.LSTM(8, dropout=0.3))\n",
    "model2.add(keras.layers.Dense(1, activation='sigmoid'))\n",
    "\n",
    "# 모델 구성하기\n",
    "rmsprop = keras.optimizers.RMSprop(learning_rate = 1e-4)\n",
    "model2.compile(optimizer = rmsprop, loss='binary_crossentropy', metrics=['accuracy'])\n",
    "# 콜백함수 정의하기\n",
    "checkpoint_cb = keras.callbacks.ModelCheckpoint('best-dropout-model.h5', save_best_only=True)\n",
    "early_stopping_cb = keras.callbacks.EarlyStopping(patience=3, restore_best_weights=True)\n",
    "# 모델 학습하기\n",
    "history = model2.fit(train_seq, train_target, epochs=100, batch_size=64, validation_data=(val_seq, val_target), callbacks=[checkpoint_cb, early_stopping_cb])\n",
    "\n",
    "# 학습결과 시각화\n",
    "import matplotlib.pyplot as plt\n",
    "plt.plot(history.history['loss'])\n",
    "plt.plot(history.history['val_loss'])\n",
    "plt.xlabel('epoch')\n",
    "plt.ylabel('loss')\n",
    "plt.legend(['train','val'])\n",
    "plt.show()"
   ]
  },
  {
   "cell_type": "code",
   "execution_count": 4,
   "metadata": {
    "colab": {
     "base_uri": "https://localhost:8080/",
     "height": 1000
    },
    "id": "nfowP3UAX-bv",
    "outputId": "c39289cf-2d1a-4bda-9ede-e298aaf71e49"
   },
   "outputs": [
    {
     "output_type": "stream",
     "name": "stdout",
     "text": [
      "Epoch 1/100\n",
      "313/313 [==============================] - 36s 100ms/step - loss: 0.6930 - accuracy: 0.5160 - val_loss: 0.6924 - val_accuracy: 0.5462\n",
      "Epoch 2/100\n",
      "313/313 [==============================] - 30s 94ms/step - loss: 0.6907 - accuracy: 0.5864 - val_loss: 0.6883 - val_accuracy: 0.6420\n",
      "Epoch 3/100\n",
      "313/313 [==============================] - 29s 93ms/step - loss: 0.6797 - accuracy: 0.6530 - val_loss: 0.6626 - val_accuracy: 0.6898\n",
      "Epoch 4/100\n",
      "313/313 [==============================] - 29s 92ms/step - loss: 0.6129 - accuracy: 0.7000 - val_loss: 0.5553 - val_accuracy: 0.7280\n",
      "Epoch 5/100\n",
      "313/313 [==============================] - 29s 94ms/step - loss: 0.5420 - accuracy: 0.7347 - val_loss: 0.5210 - val_accuracy: 0.7514\n",
      "Epoch 6/100\n",
      "313/313 [==============================] - 29s 93ms/step - loss: 0.5164 - accuracy: 0.7545 - val_loss: 0.5021 - val_accuracy: 0.7630\n",
      "Epoch 7/100\n",
      "313/313 [==============================] - 30s 97ms/step - loss: 0.5002 - accuracy: 0.7628 - val_loss: 0.4886 - val_accuracy: 0.7702\n",
      "Epoch 8/100\n",
      "313/313 [==============================] - 29s 92ms/step - loss: 0.4855 - accuracy: 0.7745 - val_loss: 0.4743 - val_accuracy: 0.7798\n",
      "Epoch 9/100\n",
      "313/313 [==============================] - 26s 82ms/step - loss: 0.4777 - accuracy: 0.7767 - val_loss: 0.4716 - val_accuracy: 0.7816\n",
      "Epoch 10/100\n",
      "313/313 [==============================] - 27s 85ms/step - loss: 0.4699 - accuracy: 0.7792 - val_loss: 0.4643 - val_accuracy: 0.7852\n",
      "Epoch 11/100\n",
      "313/313 [==============================] - 26s 82ms/step - loss: 0.4649 - accuracy: 0.7844 - val_loss: 0.4625 - val_accuracy: 0.7854\n",
      "Epoch 12/100\n",
      "313/313 [==============================] - 26s 84ms/step - loss: 0.4595 - accuracy: 0.7885 - val_loss: 0.4562 - val_accuracy: 0.7882\n",
      "Epoch 13/100\n",
      "313/313 [==============================] - 26s 82ms/step - loss: 0.4540 - accuracy: 0.7915 - val_loss: 0.4547 - val_accuracy: 0.7884\n",
      "Epoch 14/100\n",
      "313/313 [==============================] - 26s 82ms/step - loss: 0.4517 - accuracy: 0.7914 - val_loss: 0.4494 - val_accuracy: 0.7892\n",
      "Epoch 15/100\n",
      "313/313 [==============================] - 26s 82ms/step - loss: 0.4499 - accuracy: 0.7920 - val_loss: 0.4489 - val_accuracy: 0.7914\n",
      "Epoch 16/100\n",
      "313/313 [==============================] - 26s 82ms/step - loss: 0.4467 - accuracy: 0.7955 - val_loss: 0.4464 - val_accuracy: 0.7938\n",
      "Epoch 17/100\n",
      "313/313 [==============================] - 26s 82ms/step - loss: 0.4448 - accuracy: 0.7940 - val_loss: 0.4451 - val_accuracy: 0.7932\n",
      "Epoch 18/100\n",
      "313/313 [==============================] - 26s 84ms/step - loss: 0.4408 - accuracy: 0.7954 - val_loss: 0.4429 - val_accuracy: 0.7950\n",
      "Epoch 19/100\n",
      "313/313 [==============================] - 26s 83ms/step - loss: 0.4412 - accuracy: 0.7979 - val_loss: 0.4418 - val_accuracy: 0.7944\n",
      "Epoch 20/100\n",
      "313/313 [==============================] - 26s 83ms/step - loss: 0.4403 - accuracy: 0.7968 - val_loss: 0.4452 - val_accuracy: 0.7946\n",
      "Epoch 21/100\n",
      "313/313 [==============================] - 26s 84ms/step - loss: 0.4364 - accuracy: 0.8006 - val_loss: 0.4400 - val_accuracy: 0.7948\n",
      "Epoch 22/100\n",
      "313/313 [==============================] - 26s 84ms/step - loss: 0.4340 - accuracy: 0.8007 - val_loss: 0.4393 - val_accuracy: 0.7974\n",
      "Epoch 23/100\n",
      "313/313 [==============================] - 27s 87ms/step - loss: 0.4324 - accuracy: 0.8020 - val_loss: 0.4421 - val_accuracy: 0.7964\n",
      "Epoch 24/100\n",
      "313/313 [==============================] - 24s 78ms/step - loss: 0.4308 - accuracy: 0.8011 - val_loss: 0.4373 - val_accuracy: 0.7986\n",
      "Epoch 25/100\n",
      "313/313 [==============================] - 24s 77ms/step - loss: 0.4309 - accuracy: 0.8019 - val_loss: 0.4392 - val_accuracy: 0.7986\n",
      "Epoch 26/100\n",
      "313/313 [==============================] - 24s 77ms/step - loss: 0.4287 - accuracy: 0.8022 - val_loss: 0.4449 - val_accuracy: 0.7890\n",
      "Epoch 27/100\n",
      "313/313 [==============================] - 24s 78ms/step - loss: 0.4288 - accuracy: 0.8031 - val_loss: 0.4445 - val_accuracy: 0.7902\n"
     ]
    },
    {
     "output_type": "display_data",
     "data": {
      "image/png": "[encoded data removed]",
      "text/plain": [
       "<Figure size 432x288 with 1 Axes>"
      ]
     },
     "metadata": {
      "needs_background": "light"
     }
    }
   ],
   "source": [
    "'''2개의 순환층을 연결하기'''\n",
    "# 모델 설계하기\n",
    "model3 = keras.Sequential()\n",
    "model3.add(keras.layers.Embedding(500, 16, input_length=100))\n",
    "model3.add(keras.layers.LSTM(8, dropout=0.3, return_sequences=True))\n",
    "model3.add(keras.layers.LSTM(8, dropout=0.3))\n",
    "model3.add(keras.layers.Dense(1, activation='sigmoid'))\n",
    "\n",
    "# 모델 구성하기\n",
    "rmsprop = keras.optimizers.RMSprop(learning_rate = 1e-4)\n",
    "model3.compile(optimizer = rmsprop, loss='binary_crossentropy', metrics=['accuracy'])\n",
    "# 콜백함수 정의하기\n",
    "checkpoint_cb = keras.callbacks.ModelCheckpoint('best-2rnn-model.h5', save_best_only=True)\n",
    "early_stopping_cb = keras.callbacks.EarlyStopping(patience=3, restore_best_weights=True)\n",
    "# 모델 학습하기\n",
    "history = model3.fit(train_seq, train_target, epochs=100, batch_size=64, validation_data=(val_seq, val_target), callbacks=[checkpoint_cb, early_stopping_cb])\n",
    "\n",
    "# 학습결과 시각화\n",
    "import matplotlib.pyplot as plt\n",
    "plt.plot(history.history['loss'])\n",
    "plt.plot(history.history['val_loss'])\n",
    "plt.xlabel('epoch')\n",
    "plt.ylabel('loss')\n",
    "plt.legend(['train','val'])\n",
    "plt.show()"
   ]
  },
  {
   "cell_type": "code",
   "execution_count": 5,
   "metadata": {
    "colab": {
     "base_uri": "https://localhost:8080/",
     "height": 1000
    },
    "id": "z0mWl1TxY1ZZ",
    "outputId": "812017ee-fe2e-449d-efd3-3b6aa6c20347"
   },
   "outputs": [
    {
     "output_type": "stream",
     "name": "stdout",
     "text": [
      "Epoch 1/100\n",
      "313/313 [==============================] - 16s 44ms/step - loss: 0.6924 - accuracy: 0.5242 - val_loss: 0.6914 - val_accuracy: 0.5504\n",
      "Epoch 2/100\n",
      "313/313 [==============================] - 13s 42ms/step - loss: 0.6901 - accuracy: 0.5763 - val_loss: 0.6888 - val_accuracy: 0.5922\n",
      "Epoch 3/100\n",
      "313/313 [==============================] - 13s 42ms/step - loss: 0.6864 - accuracy: 0.6055 - val_loss: 0.6845 - val_accuracy: 0.6124\n",
      "Epoch 4/100\n",
      "313/313 [==============================] - 13s 42ms/step - loss: 0.6804 - accuracy: 0.6203 - val_loss: 0.6775 - val_accuracy: 0.6234\n",
      "Epoch 5/100\n",
      "313/313 [==============================] - 13s 42ms/step - loss: 0.6710 - accuracy: 0.6350 - val_loss: 0.6670 - val_accuracy: 0.6346\n",
      "Epoch 6/100\n",
      "313/313 [==============================] - 13s 42ms/step - loss: 0.6565 - accuracy: 0.6514 - val_loss: 0.6509 - val_accuracy: 0.6498\n",
      "Epoch 7/100\n",
      "313/313 [==============================] - 13s 42ms/step - loss: 0.6327 - accuracy: 0.6722 - val_loss: 0.6221 - val_accuracy: 0.6722\n",
      "Epoch 8/100\n",
      "313/313 [==============================] - 13s 42ms/step - loss: 0.5901 - accuracy: 0.7009 - val_loss: 0.5711 - val_accuracy: 0.7168\n",
      "Epoch 9/100\n",
      "313/313 [==============================] - 13s 42ms/step - loss: 0.5390 - accuracy: 0.7368 - val_loss: 0.5361 - val_accuracy: 0.7368\n",
      "Epoch 10/100\n",
      "313/313 [==============================] - 13s 42ms/step - loss: 0.5156 - accuracy: 0.7539 - val_loss: 0.5216 - val_accuracy: 0.7486\n",
      "Epoch 11/100\n",
      "313/313 [==============================] - 13s 42ms/step - loss: 0.5019 - accuracy: 0.7632 - val_loss: 0.5106 - val_accuracy: 0.7566\n",
      "Epoch 12/100\n",
      "313/313 [==============================] - 13s 43ms/step - loss: 0.4909 - accuracy: 0.7705 - val_loss: 0.5020 - val_accuracy: 0.7614\n",
      "Epoch 13/100\n",
      "313/313 [==============================] - 13s 43ms/step - loss: 0.4823 - accuracy: 0.7753 - val_loss: 0.4947 - val_accuracy: 0.7678\n",
      "Epoch 14/100\n",
      "313/313 [==============================] - 13s 42ms/step - loss: 0.4753 - accuracy: 0.7801 - val_loss: 0.4882 - val_accuracy: 0.7698\n",
      "Epoch 15/100\n",
      "313/313 [==============================] - 13s 42ms/step - loss: 0.4688 - accuracy: 0.7847 - val_loss: 0.4840 - val_accuracy: 0.7696\n",
      "Epoch 16/100\n",
      "313/313 [==============================] - 13s 42ms/step - loss: 0.4628 - accuracy: 0.7888 - val_loss: 0.4782 - val_accuracy: 0.7796\n",
      "Epoch 17/100\n",
      "313/313 [==============================] - 13s 43ms/step - loss: 0.4584 - accuracy: 0.7900 - val_loss: 0.4740 - val_accuracy: 0.7810\n",
      "Epoch 18/100\n",
      "313/313 [==============================] - 13s 42ms/step - loss: 0.4535 - accuracy: 0.7954 - val_loss: 0.4754 - val_accuracy: 0.7818\n",
      "Epoch 19/100\n",
      "313/313 [==============================] - 13s 42ms/step - loss: 0.4499 - accuracy: 0.7971 - val_loss: 0.4673 - val_accuracy: 0.7852\n",
      "Epoch 20/100\n",
      "313/313 [==============================] - 13s 42ms/step - loss: 0.4468 - accuracy: 0.7983 - val_loss: 0.4650 - val_accuracy: 0.7806\n",
      "Epoch 21/100\n",
      "313/313 [==============================] - 13s 42ms/step - loss: 0.4434 - accuracy: 0.7996 - val_loss: 0.4626 - val_accuracy: 0.7832\n",
      "Epoch 22/100\n",
      "313/313 [==============================] - 13s 42ms/step - loss: 0.4404 - accuracy: 0.8017 - val_loss: 0.4612 - val_accuracy: 0.7850\n",
      "Epoch 23/100\n",
      "313/313 [==============================] - 13s 43ms/step - loss: 0.4378 - accuracy: 0.8038 - val_loss: 0.4602 - val_accuracy: 0.7832\n",
      "Epoch 24/100\n",
      "313/313 [==============================] - 13s 42ms/step - loss: 0.4357 - accuracy: 0.8053 - val_loss: 0.4587 - val_accuracy: 0.7846\n",
      "Epoch 25/100\n",
      "313/313 [==============================] - 13s 42ms/step - loss: 0.4340 - accuracy: 0.8064 - val_loss: 0.4586 - val_accuracy: 0.7870\n",
      "Epoch 26/100\n",
      "313/313 [==============================] - 13s 42ms/step - loss: 0.4318 - accuracy: 0.8077 - val_loss: 0.4629 - val_accuracy: 0.7868\n",
      "Epoch 27/100\n",
      "313/313 [==============================] - 13s 43ms/step - loss: 0.4300 - accuracy: 0.8081 - val_loss: 0.4563 - val_accuracy: 0.7860\n",
      "Epoch 28/100\n",
      "313/313 [==============================] - 13s 43ms/step - loss: 0.4291 - accuracy: 0.8102 - val_loss: 0.4549 - val_accuracy: 0.7880\n",
      "Epoch 29/100\n",
      "313/313 [==============================] - 13s 42ms/step - loss: 0.4274 - accuracy: 0.8096 - val_loss: 0.4539 - val_accuracy: 0.7890\n",
      "Epoch 30/100\n",
      "313/313 [==============================] - 13s 43ms/step - loss: 0.4262 - accuracy: 0.8109 - val_loss: 0.4539 - val_accuracy: 0.7886\n",
      "Epoch 31/100\n",
      "313/313 [==============================] - 13s 43ms/step - loss: 0.4251 - accuracy: 0.8100 - val_loss: 0.4533 - val_accuracy: 0.7890\n",
      "Epoch 32/100\n",
      "313/313 [==============================] - 13s 43ms/step - loss: 0.4239 - accuracy: 0.8127 - val_loss: 0.4523 - val_accuracy: 0.7888\n",
      "Epoch 33/100\n",
      "313/313 [==============================] - 13s 42ms/step - loss: 0.4228 - accuracy: 0.8126 - val_loss: 0.4510 - val_accuracy: 0.7876\n",
      "Epoch 34/100\n",
      "313/313 [==============================] - 13s 42ms/step - loss: 0.4224 - accuracy: 0.8136 - val_loss: 0.4505 - val_accuracy: 0.7900\n",
      "Epoch 35/100\n",
      "313/313 [==============================] - 14s 43ms/step - loss: 0.4213 - accuracy: 0.8151 - val_loss: 0.4497 - val_accuracy: 0.7904\n",
      "Epoch 36/100\n",
      "313/313 [==============================] - 13s 43ms/step - loss: 0.4207 - accuracy: 0.8145 - val_loss: 0.4493 - val_accuracy: 0.7896\n",
      "Epoch 37/100\n",
      "313/313 [==============================] - 13s 43ms/step - loss: 0.4194 - accuracy: 0.8142 - val_loss: 0.4500 - val_accuracy: 0.7908\n",
      "Epoch 38/100\n",
      "313/313 [==============================] - 13s 43ms/step - loss: 0.4194 - accuracy: 0.8148 - val_loss: 0.4485 - val_accuracy: 0.7918\n",
      "Epoch 39/100\n",
      "313/313 [==============================] - 14s 43ms/step - loss: 0.4182 - accuracy: 0.8164 - val_loss: 0.4564 - val_accuracy: 0.7876\n",
      "Epoch 40/100\n",
      "313/313 [==============================] - 14s 43ms/step - loss: 0.4178 - accuracy: 0.8161 - val_loss: 0.4496 - val_accuracy: 0.7912\n",
      "Epoch 41/100\n",
      "313/313 [==============================] - 14s 44ms/step - loss: 0.4169 - accuracy: 0.8163 - val_loss: 0.4522 - val_accuracy: 0.7918\n"
     ]
    },
    {
     "output_type": "display_data",
     "data": {
      "image/png": "[encoded data removed]",
      "text/plain": [
       "<Figure size 432x288 with 1 Axes>"
      ]
     },
     "metadata": {
      "needs_background": "light"
     }
    }
   ],
   "source": [
    "'''GRU 신경망 훈련하기'''\n",
    "# 모델 설계하기\n",
    "model4 = keras.Sequential()\n",
    "model4.add(keras.layers.Embedding(500, 16, input_length=100))\n",
    "model4.add(keras.layers.GRU(8))\n",
    "model4.add(keras.layers.Dense(1, activation='sigmoid'))\n",
    "\n",
    "# 모델 구성하기\n",
    "rmsprop = keras.optimizers.RMSprop(learning_rate = 1e-4)\n",
    "model4.compile(optimizer = rmsprop, loss='binary_crossentropy', metrics=['accuracy'])\n",
    "# 콜백함수 정의하기\n",
    "checkpoint_cb = keras.callbacks.ModelCheckpoint('best-gru-model.h5', save_best_only=True)\n",
    "early_stopping_cb = keras.callbacks.EarlyStopping(patience=3, restore_best_weights=True)\n",
    "# 모델 학습하기\n",
    "history = model4.fit(train_seq, train_target, epochs=100, batch_size=64, validation_data=(val_seq, val_target), callbacks=[checkpoint_cb, early_stopping_cb])\n",
    "\n",
    "# 학습결과 시각화\n",
    "import matplotlib.pyplot as plt\n",
    "plt.plot(history.history['loss'])\n",
    "plt.plot(history.history['val_loss'])\n",
    "plt.xlabel('epoch')\n",
    "plt.ylabel('loss')\n",
    "plt.legend(['train','val'])\n",
    "plt.show()"
   ]
  },
  {
   "cell_type": "code",
   "execution_count": 6,
   "metadata": {
    "id": "UDRf_XvEZV3B",
    "colab": {
     "base_uri": "https://localhost:8080/"
    },
    "outputId": "e4bd9171-2f34-41b6-a4b8-d9d9a87b73b2"
   },
   "outputs": [
    {
     "output_type": "stream",
     "name": "stdout",
     "text": [
      "782/782 [==============================] - 11s 14ms/step - loss: 0.4333 - accuracy: 0.7966\n"
     ]
    },
    {
     "output_type": "execute_result",
     "data": {
      "text/plain": [
       "[0.4332805871963501, 0.7965599894523621]"
      ]
     },
     "metadata": {},
     "execution_count": 6
    }
   ],
   "source": [
    "'''2개의 순환층을 쌓은 모델을 평가하기'''\n",
    "test_seq = pad_sequences(test_input, maxlen=100)\n",
    "rnn_model = keras.models.load_model('best-2rnn-model.h5')\n",
    "rnn_model.evaluate(test_seq, test_target)"
   ]
  },
  {
   "cell_type": "code",
   "execution_count": 6,
   "metadata": {
    "id": "MW3dt17QZvgK"
   },
   "outputs": [],
   "source": [
    ""
   ]
  }
 ],
 "metadata": {
  "accelerator": "TPU",
  "colab": {
   "name": "9.3. LSTM과 GRU셀.ipynb",
   "provenance": []
  },
  "kernelspec": {
   "display_name": "Python 3",
   "language": "python",
   "name": "python3"
  },
  "language_info": {
   "codemirror_mode": {
    "name": "ipython",
    "version": 2
   },
   "file_extension": ".py",
   "mimetype": "text/x-python",
   "name": "python",
   "nbconvert_exporter": "python",
   "pygments_lexer": "ipython2",
   "version": "2.7.6"
  }
 },
 "nbformat": 4,
 "nbformat_minor": 0
}