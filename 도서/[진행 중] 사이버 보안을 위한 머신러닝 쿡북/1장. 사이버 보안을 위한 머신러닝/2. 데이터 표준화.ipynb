{
 "cells": [
  {
   "cell_type": "code",
   "execution_count": 3,
   "metadata": {
    "collapsed": true
   },
   "outputs": [
    {
     "name": "stdout",
     "output_type": "stream",
     "text": [
      "[[ 0.         -0.03506542 -0.04751096 ... -0.07054894 -0.0198525\n",
      "  -0.04066791]\n",
      " [ 0.         -0.03506542 -0.04751096 ... -0.03849221 -0.02110877\n",
      "  -0.02469983]\n",
      " [ 0.         -0.03506542 -0.04751096 ... -0.07599254 -0.02110877\n",
      "  -0.04066791]\n",
      " ...\n",
      " [ 0.         -0.18093613 -0.04958686 ... -0.07296832 -0.02110877\n",
      "  -0.04066791]\n",
      " [ 0.         -0.03506542 -0.04751096 ... -0.06691988 -0.02110877\n",
      "  -0.04066791]\n",
      " [ 0.         -0.03506542 -0.04751096 ...  0.00021781 -0.02110877\n",
      "  -0.04066791]]\n"
     ]
    }
   ],
   "source": [
    "import pandas as pd\n",
    "\n",
    "# 데이터셋 X를 수집\n",
    "data = pd.read_csv('./datasets/file_pe_headers.csv', sep=',')\n",
    "X = data.drop([\"Name\",\"Malware\"], axis=1).to_numpy()\n",
    "\n",
    "# StandardScaler를 사용해 X를 표준화\n",
    "from sklearn.preprocessing import StandardScaler\n",
    "X_standardized = StandardScaler().fit_transform(X)\n",
    "\n",
    "print(X_standardized)"
   ]
  },
  {
   "cell_type": "markdown",
   "source": [
    "### 정규화와 표준화의 차이점\n",
    "- 정규화\n",
    "    - 툭성 값의 범위를 0~1로 옮기는 것\n",
    "$$X' = {{ X - X_{min} } \\over { X_{max} - X_{min}}}$$\n",
    "\n",
    "- 표준화\n",
    "    - 특성값이 특정 값을 기준한 범위로 옮겨지는 것\n",
    "$$X' = {{ X - \\mu } \\over {\\sigma}}$$\n",
    "\n",
    "- 데이터의 성질에 따라, 적합한 방법이 달라지므로, 두 방법을 적용했을 때, 변하는 것을 잘 판단해야 함.\n",
    "- 출처: [https://bskyvision.com/849](https://bskyvision.com/849)\n"
   ],
   "metadata": {
    "collapsed": false,
    "pycharm": {
     "name": "#%% md\n"
    }
   }
  },
  {
   "cell_type": "code",
   "execution_count": null,
   "outputs": [],
   "source": [],
   "metadata": {
    "collapsed": false,
    "pycharm": {
     "name": "#%%\n"
    }
   }
  }
 ],
 "metadata": {
  "kernelspec": {
   "display_name": "Python 3",
   "language": "python",
   "name": "python3"
  },
  "language_info": {
   "codemirror_mode": {
    "name": "ipython",
    "version": 2
   },
   "file_extension": ".py",
   "mimetype": "text/x-python",
   "name": "python",
   "nbconvert_exporter": "python",
   "pygments_lexer": "ipython2",
   "version": "2.7.6"
  }
 },
 "nbformat": 4,
 "nbformat_minor": 0
}