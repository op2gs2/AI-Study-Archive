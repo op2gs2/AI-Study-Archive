{
 "cells": [
  {
   "cell_type": "code",
   "execution_count": 8,
   "metadata": {
    "collapsed": true
   },
   "outputs": [
    {
     "name": "stdout",
     "output_type": "stream",
     "text": [
      "After my laptop was scanned, I was however required to take off shoes since they have a long underground tunnel with lots of escalators.\n",
      "\n",
      "Security check takes forever and is quite comfortable for a very short period.\n",
      "\n",
      "Security was so rude but as I was collected by car.\n",
      "\n",
      "The ticket barcode access scanner for fast track security and off to the airport makes you go up and down on escalators and long distances so enough time is needed even if you are through security.\n",
      "\n",
      "No lines at passport control areas are old overcrowded messy and do not speak English still not used to like travelling through Brussels take it.Flew from the airport to Leuven as well as traffic can be long here at busy times with only some of the critical reviews on this site and while Brussels airport a lot of shopping and eating options lounges are well signposted.\n",
      "\n",
      "Good selection of food excellent.\n",
      "\n",
      "Had to rush to my gate to immigration counters in concourse B with onward flight to Geneva from T-1 Brussels Airlines.\n",
      "\n",
      "Finding the train station/taxi pick up is still a Brussels.\n",
      "\n",
      "The check-in hall the security controls and the This airport is nice and clean.\n",
      "\n",
      "On my last visit to the exit with escalators up and simply opened a door letting everyone enter the main entrance building.\n",
      "\n"
     ]
    }
   ],
   "source": [
    "import markovify\n",
    "import pandas as pd\n",
    "\n",
    "# 모방할 텍스트를 가져옴\n",
    "df = pd.read_csv(\"./datasets/airport_reviews.csv\")\n",
    "#print(df.head())\n",
    "\n",
    "from itertools import chain\n",
    "# 개별 리뷰를 하나의 큰 문자열로 합치고, 공항 리뷰를 사용해 마르코프 연쇄 모델을 구축함.\n",
    "N = 100\n",
    "review_subset = df['content'][0:N]\n",
    "text = \"\".join(chain.from_iterable(review_subset))\n",
    "markov_chain_model = markovify.Text(text)\n",
    "\n",
    "# 마르코프 연쇄 모델을 이용해 문장 4개를 만든다.\n",
    "for i in range(5):\n",
    "    print(markov_chain_model.make_sentence())\n",
    "    print()\n",
    "\n",
    "# 마르코프 연쇄 모델을 이용해, 140자 이하의 문장 4개를 만든다.\n",
    "for i in range(5):\n",
    "    print(markov_chain_model.make_short_sentence(140))\n",
    "    print()"
   ]
  },
  {
   "cell_type": "markdown",
   "metadata": {
    "pycharm": {
     "name": "#%% md\n"
    }
   },
   "source": [
    "- text class의 init 매소드의 snippet code\n",
    "```python\n",
    "def __init__(\n",
    "        self,\n",
    "        input_text,\n",
    "        state_size=2,\n",
    "        chain=None,\n",
    "        parsed_sentences=None,\n",
    "        retain_original=True,\n",
    "        well_formed=True,\n",
    "        reject_reg=\"\",\n",
    "    ):   \n",
    "```\n",
    "\n",
    "- 매개변수 설명\n",
    "    - input_text: A string.\n",
    "    - state_size: An integer, indicating the number of words in the model's state.\n",
    "    - chain: A trained markovify.Chain instance for this text, if pre-processed.\n",
    "    - parsed_sentences: A list of lists, where each outer list is a \"run\" of the process (e.g. a single sentence), and each inner list contains the steps (e.g. words) in the run. If you want to simulate an infinite process, you can come very close by passing just one, very long run.\n",
    "    - retain_original: Indicates whether to keep the original corpus.\n",
    "    - well_formed: Indicates whether sentences should be well-formed, preventing unmatched quotes, parenthesis by default, or a custom regular expression can be provided.\n",
    "    - reject_reg: If well_formed is True, this can be provided to override the standard rejection pattern.\n",
    "\n",
    "- state_size = 2는 마르코프 연쇄의 전이가 단어의 연속적인 쌍 간에 일어나는 것을 의미함.\n",
    "    - 훈련 텍스트를 통해 특정 단어 다음에 나올 단어의 확률(전이 확률)을 계산할 수 있음\n",
    "    - 이 값을 증가시키면, 더 현실적으로 모방한 문장을 만들 수 있음."
   ]
  },
  {
   "cell_type": "code",
   "execution_count": null,
   "metadata": {
    "pycharm": {
     "name": "#%%\n"
    }
   },
   "outputs": [],
   "source": []
  },
  {
   "cell_type": "code",
   "execution_count": null,
   "metadata": {},
   "outputs": [],
   "source": []
  }
 ],
 "metadata": {
  "kernelspec": {
   "display_name": "Python 3 (ipykernel)",
   "language": "python",
   "name": "python3"
  },
  "language_info": {
   "codemirror_mode": {
    "name": "ipython",
    "version": 3
   },
   "file_extension": ".py",
   "mimetype": "text/x-python",
   "name": "python",
   "nbconvert_exporter": "python",
   "pygments_lexer": "ipython3",
   "version": "3.9.7"
  }
 },
 "nbformat": 4,
 "nbformat_minor": 1
}