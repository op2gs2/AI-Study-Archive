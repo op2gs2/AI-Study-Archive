{
 "cells": [
  {
   "cell_type": "code",
   "execution_count": 7,
   "metadata": {
    "collapsed": true
   },
   "outputs": [
    {
     "name": "stdout",
     "output_type": "stream",
     "text": [
      "In the new terminal over a gangway.\n",
      "\n",
      "Luggage delivery is unorganized and usually directly from the airport maximises transfer times due to heightened measures ahead of the airport.\n",
      "\n",
      "A cheap alternative to a single stinking toilet.\n",
      "\n",
      "Short lines at passport control + security resulted in my working life.\n",
      "\n",
      "The bus parks ± 50 metres from the UK on a connecting bus to drive a further few kms to get through the formalities the shops or catering so can't comment there.\n",
      "\n",
      "Overall nothing is horrible but it's a clean and friendly.\n",
      "\n",
      "Clean airport with modern facilities a good 200m from the time you get ripped off.\n",
      "\n",
      "Whereas departures may go smoothly arrivals are a crude rip off.\n",
      "\n",
      "It is a well-organised easy to navigate around the world I am always amazed about the poor quality of Brussels Zaventem airport.\n",
      "\n",
      "Baggage drop off was very efficient my luggage was on the 4th of August for my trip to Bangkok via Istanbul.\n",
      "\n"
     ]
    }
   ],
   "source": [
    "import markovify\n",
    "import pandas as pd\n",
    "\n",
    "# 모방할 텍스트를 가져옴\n",
    "df = pd.read_csv(\"./datasets/airport_reviews.csv\")\n",
    "#print(df.head())\n",
    "\n",
    "from itertools import chain\n",
    "# 개별 리뷰를 하나의 큰 문자열로 합치고, 공항 리뷰를 사용해 마르코프 연쇄 모델을 구축함.\n",
    "N = 100\n",
    "review_subset = df['content'][0:N]\n",
    "text = \"\".join(chain.from_iterable(review_subset))\n",
    "markov_chain_model = markovify.Text(text)\n",
    "\n",
    "# 마르코프 연쇄 모델을 이용해 문장 4개를 만든다.\n",
    "for i in range(5):\n",
    "    print(markov_chain_model.make_sentence())\n",
    "    print()\n",
    "\n",
    "# 마르코프 연쇄 모델을 이용해, 140자 이하의 문장 4개를 만든다.\n",
    "for i in range(5):\n",
    "    print(markov_chain_model.make_short_sentence(140))\n",
    "    print()"
   ]
  },
  {
   "cell_type": "markdown",
   "metadata": {
    "pycharm": {
     "name": "#%% md\n"
    }
   },
   "source": [
    "- text class의 init 매소드의 snippet code\n",
    "```python\n",
    "def __init__(\n",
    "        self,\n",
    "        input_text,\n",
    "        state_size=2,\n",
    "        chain=None,\n",
    "        parsed_sentences=None,\n",
    "        retain_original=True,\n",
    "        well_formed=True,\n",
    "        reject_reg=\"\",\n",
    "    ):   \n",
    "```\n",
    "\n",
    "- 매개변수 설명\n",
    "    - input_text: A string.\n",
    "    - state_size: An integer, indicating the number of words in the model's state.\n",
    "    - chain: A trained markovify.Chain instance for this text, if pre-processed.\n",
    "    - parsed_sentences: A list of lists, where each outer list is a \"run\" of the process (e.g. a single sentence), and each inner list contains the steps (e.g. words) in the run. If you want to simulate an infinite process, you can come very close by passing just one, very long run.\n",
    "    - retain_original: Indicates whether to keep the original corpus.\n",
    "    - well_formed: Indicates whether sentences should be well-formed, preventing unmatched quotes, parenthesis by default, or a custom regular expression can be provided.\n",
    "    - reject_reg: If well_formed is True, this can be provided to override the standard rejection pattern.\n",
    "\n",
    "- state_size = 2는 마르코프 연쇄의 전이가 단어의 연속적인 쌍 간에 일어나는 것을 의미함.\n",
    "    - 훈련 텍스츠를 통해 특정 단아 다음에 나올 단어의 확률(전이 확률)을 계산할 수 있음\n",
    "    - 이 값을 증가시키면, 더 현실적으로 모방한 문장을 만들ㅇ "
   ]
  },
  {
   "cell_type": "code",
   "execution_count": null,
   "metadata": {
    "pycharm": {
     "name": "#%%\n"
    }
   },
   "outputs": [],
   "source": []
  },
  {
   "cell_type": "code",
   "execution_count": null,
   "metadata": {},
   "outputs": [],
   "source": []
  }
 ],
 "metadata": {
  "kernelspec": {
   "display_name": "Python 3 (ipykernel)",
   "language": "python",
   "name": "python3"
  },
  "language_info": {
   "codemirror_mode": {
    "name": "ipython",
    "version": 3
   },
   "file_extension": ".py",
   "mimetype": "text/x-python",
   "name": "python",
   "nbconvert_exporter": "python",
   "pygments_lexer": "ipython3",
   "version": "3.9.7"
  }
 },
 "nbformat": 4,
 "nbformat_minor": 1
}