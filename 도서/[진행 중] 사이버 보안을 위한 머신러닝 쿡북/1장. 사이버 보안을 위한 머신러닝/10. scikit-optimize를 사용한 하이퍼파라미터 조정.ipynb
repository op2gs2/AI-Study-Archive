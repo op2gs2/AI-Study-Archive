{
 "cells": [
  {
   "cell_type": "markdown",
   "metadata": {
    "collapsed": true,
    "pycharm": {
     "name": "#%% md\n"
    }
   },
   "source": [
    "- 하이퍼파라미터: 사용자가 직접 값을 설정하는 매개변수\n",
    "    - 예시: LearningRate, HiddenLayer의 크기 등\n",
    "- 하이퍼파리미터 튜닝의 방법\n",
    "    - 격자 검색: 각 하이퍼파라미터의 잠재적인 값의 범위를 정한 다음, 최상의 조합을 찾을 때까지 모든 값을 대입\n",
    "    - scikit-optimize를 사용해 베이즈 최적화. 지정된 분포에서 고정된 갯수만큼 표본 추출 후 적용함."
   ]
  },
  {
   "cell_type": "code",
   "execution_count": 1,
   "outputs": [],
   "source": [
    "# 사이킷런에서 와인 데이터를 가져온다.\n",
    "from sklearn import datasets\n",
    "\n",
    "wine_dataset = datasets.load_wine()\n",
    "X = wine_dataset.data\n",
    "Y = wine_dataset.target"
   ],
   "metadata": {
    "collapsed": false,
    "pycharm": {
     "name": "#%%\n"
    }
   }
  },
  {
   "cell_type": "code",
   "execution_count": 2,
   "outputs": [
    {
     "name": "stderr",
     "output_type": "stream",
     "text": [
      "D:\\Programs\\Anaconda\\envs\\AI-Study-Archive\\lib\\site-packages\\xgboost\\compat.py:36: FutureWarning: pandas.Int64Index is deprecated and will be removed from pandas in a future version. Use pandas.Index with the appropriate dtype instead.\n",
      "  from pandas import MultiIndex, Int64Index\n"
     ]
    }
   ],
   "source": [
    "# XGBoost와 계층화된 K-Fold를 들여온다.\n",
    "import xgboost as xgb\n",
    "from sklearn.model_selection import StratifiedKFold\n",
    "\n",
    "# scikit-optimize에서 BayesSearchCV를 가져와 테스트하기 위한 매개변수 설정의 갯수를 지정\n",
    "from skopt import BayesSearchCV\n",
    "n_iterations = 50\n",
    "\n",
    "# estimator를 지정. 이 경우 XGBoost를 선택하고 다계급 분류를 수행하도록 설정\n",
    "estimator = xgb.XGBClassifier(\n",
    "    n_jobs=-1,\n",
    "    objective=\"multi:softmax\",\n",
    "    eval_metric=\"merror\",\n",
    "    verbosity=0,\n",
    "    num_class=len(set(Y)),\n",
    ")"
   ],
   "metadata": {
    "collapsed": false,
    "pycharm": {
     "name": "#%%\n"
    }
   }
  },
  {
   "cell_type": "code",
   "execution_count": 3,
   "outputs": [],
   "source": [
    "\n",
    "# 매개변수 검색 범위를 지정\n",
    "search_space = {\n",
    "    \"learning_rate\": (0.01, 1.0, \"log-uniform\"),\n",
    "    \"min_child_weight\": (0, 10),\n",
    "    \"max_depth\": (1, 50),\n",
    "    \"max_delta_step\": (0, 10),\n",
    "    \"subsample\": (0.01, 1.0, \"uniform\"),\n",
    "    \"colsample_bytree\": (0.01, 1.0, \"log-uniform\"),\n",
    "    \"colsample_bylevel\": (0.01, 1.0, \"log-uniform\"),\n",
    "    \"reg_lambda\": (1e-9, 1000, \"log-uniform\"),\n",
    "    \"reg_alpha\": (1e-9, 1.0, \"log-uniform\"),\n",
    "    \"gamma\": (1e-9, 0.5, \"log-uniform\"),\n",
    "    \"min_child_weight\": (0, 5),\n",
    "    \"n_estimators\": (5, 5000),\n",
    "    \"scale_pos_weight\": (1e-6, 500, \"log-uniform\"),\n",
    "}\n",
    "# 수행할 교차검증 유형을 지정한다.\n",
    "cv = StratifiedKFold(n_splits=3, shuffle=True)\n",
    "\n",
    "\n",
    "# 정의한 설정을 사용할 BayesSearchCV를 정의한다.\n",
    "bayes_cv_tuner = BayesSearchCV(\n",
    "    estimator=estimator,\n",
    "    search_spaces=search_space,\n",
    "    scoring=\"accuracy\",\n",
    "    cv=cv,\n",
    "    n_jobs=-1,\n",
    "    n_iter=n_iterations,\n",
    "    verbose=0,\n",
    "    refit=True,\n",
    ")"
   ],
   "metadata": {
    "collapsed": false,
    "pycharm": {
     "name": "#%%\n"
    }
   }
  },
  {
   "cell_type": "code",
   "execution_count": 4,
   "outputs": [
    {
     "ename": "ValueError",
     "evalue": "Not all points are within the bounds of the space.",
     "output_type": "error",
     "traceback": [
      "\u001B[1;31m---------------------------------------------------------------------------\u001B[0m",
      "\u001B[1;31mValueError\u001B[0m                                Traceback (most recent call last)",
      "\u001B[1;32m~\\AppData\\Local\\Temp/ipykernel_20644/1314288439.py\u001B[0m in \u001B[0;36m<module>\u001B[1;34m\u001B[0m\n\u001B[0;32m     20\u001B[0m \u001B[1;33m\u001B[0m\u001B[0m\n\u001B[0;32m     21\u001B[0m \u001B[1;31m# 매개변수 검색을 수행한다.\u001B[0m\u001B[1;33m\u001B[0m\u001B[1;33m\u001B[0m\u001B[0m\n\u001B[1;32m---> 22\u001B[1;33m \u001B[0mresult\u001B[0m \u001B[1;33m=\u001B[0m \u001B[0mbayes_cv_tuner\u001B[0m\u001B[1;33m.\u001B[0m\u001B[0mfit\u001B[0m\u001B[1;33m(\u001B[0m\u001B[0mX\u001B[0m\u001B[1;33m,\u001B[0m \u001B[0mY\u001B[0m\u001B[1;33m,\u001B[0m \u001B[0mcallback\u001B[0m\u001B[1;33m=\u001B[0m\u001B[0mprint_status\u001B[0m\u001B[1;33m)\u001B[0m\u001B[1;33m\u001B[0m\u001B[1;33m\u001B[0m\u001B[0m\n\u001B[0m",
      "\u001B[1;32mD:\\Programs\\Anaconda\\envs\\AI-Study-Archive\\lib\\site-packages\\skopt\\searchcv.py\u001B[0m in \u001B[0;36mfit\u001B[1;34m(self, X, y, groups, callback, **fit_params)\u001B[0m\n\u001B[0;32m    464\u001B[0m             \u001B[0mself\u001B[0m\u001B[1;33m.\u001B[0m\u001B[0moptimizer_kwargs_\u001B[0m \u001B[1;33m=\u001B[0m \u001B[0mdict\u001B[0m\u001B[1;33m(\u001B[0m\u001B[0mself\u001B[0m\u001B[1;33m.\u001B[0m\u001B[0moptimizer_kwargs\u001B[0m\u001B[1;33m)\u001B[0m\u001B[1;33m\u001B[0m\u001B[1;33m\u001B[0m\u001B[0m\n\u001B[0;32m    465\u001B[0m \u001B[1;33m\u001B[0m\u001B[0m\n\u001B[1;32m--> 466\u001B[1;33m         \u001B[0msuper\u001B[0m\u001B[1;33m(\u001B[0m\u001B[1;33m)\u001B[0m\u001B[1;33m.\u001B[0m\u001B[0mfit\u001B[0m\u001B[1;33m(\u001B[0m\u001B[0mX\u001B[0m\u001B[1;33m=\u001B[0m\u001B[0mX\u001B[0m\u001B[1;33m,\u001B[0m \u001B[0my\u001B[0m\u001B[1;33m=\u001B[0m\u001B[0my\u001B[0m\u001B[1;33m,\u001B[0m \u001B[0mgroups\u001B[0m\u001B[1;33m=\u001B[0m\u001B[0mgroups\u001B[0m\u001B[1;33m,\u001B[0m \u001B[1;33m**\u001B[0m\u001B[0mfit_params\u001B[0m\u001B[1;33m)\u001B[0m\u001B[1;33m\u001B[0m\u001B[1;33m\u001B[0m\u001B[0m\n\u001B[0m\u001B[0;32m    467\u001B[0m \u001B[1;33m\u001B[0m\u001B[0m\n\u001B[0;32m    468\u001B[0m         \u001B[1;31m# BaseSearchCV never ranked train scores,\u001B[0m\u001B[1;33m\u001B[0m\u001B[1;33m\u001B[0m\u001B[0m\n",
      "\u001B[1;32mD:\\Programs\\Anaconda\\envs\\AI-Study-Archive\\lib\\site-packages\\sklearn\\model_selection\\_search.py\u001B[0m in \u001B[0;36mfit\u001B[1;34m(self, X, y, groups, **fit_params)\u001B[0m\n\u001B[0;32m    889\u001B[0m                 \u001B[1;32mreturn\u001B[0m \u001B[0mresults\u001B[0m\u001B[1;33m\u001B[0m\u001B[1;33m\u001B[0m\u001B[0m\n\u001B[0;32m    890\u001B[0m \u001B[1;33m\u001B[0m\u001B[0m\n\u001B[1;32m--> 891\u001B[1;33m             \u001B[0mself\u001B[0m\u001B[1;33m.\u001B[0m\u001B[0m_run_search\u001B[0m\u001B[1;33m(\u001B[0m\u001B[0mevaluate_candidates\u001B[0m\u001B[1;33m)\u001B[0m\u001B[1;33m\u001B[0m\u001B[1;33m\u001B[0m\u001B[0m\n\u001B[0m\u001B[0;32m    892\u001B[0m \u001B[1;33m\u001B[0m\u001B[0m\n\u001B[0;32m    893\u001B[0m             \u001B[1;31m# multimetric is determined here because in the case of a callable\u001B[0m\u001B[1;33m\u001B[0m\u001B[1;33m\u001B[0m\u001B[0m\n",
      "\u001B[1;32mD:\\Programs\\Anaconda\\envs\\AI-Study-Archive\\lib\\site-packages\\skopt\\searchcv.py\u001B[0m in \u001B[0;36m_run_search\u001B[1;34m(self, evaluate_candidates)\u001B[0m\n\u001B[0;32m    510\u001B[0m                 \u001B[0mn_points_adjusted\u001B[0m \u001B[1;33m=\u001B[0m \u001B[0mmin\u001B[0m\u001B[1;33m(\u001B[0m\u001B[0mn_iter\u001B[0m\u001B[1;33m,\u001B[0m \u001B[0mn_points\u001B[0m\u001B[1;33m)\u001B[0m\u001B[1;33m\u001B[0m\u001B[1;33m\u001B[0m\u001B[0m\n\u001B[0;32m    511\u001B[0m \u001B[1;33m\u001B[0m\u001B[0m\n\u001B[1;32m--> 512\u001B[1;33m                 optim_result = self._step(\n\u001B[0m\u001B[0;32m    513\u001B[0m                     \u001B[0msearch_space\u001B[0m\u001B[1;33m,\u001B[0m \u001B[0moptimizer\u001B[0m\u001B[1;33m,\u001B[0m\u001B[1;33m\u001B[0m\u001B[1;33m\u001B[0m\u001B[0m\n\u001B[0;32m    514\u001B[0m                     \u001B[0mevaluate_candidates\u001B[0m\u001B[1;33m,\u001B[0m \u001B[0mn_points\u001B[0m\u001B[1;33m=\u001B[0m\u001B[0mn_points_adjusted\u001B[0m\u001B[1;33m\u001B[0m\u001B[1;33m\u001B[0m\u001B[0m\n",
      "\u001B[1;32mD:\\Programs\\Anaconda\\envs\\AI-Study-Archive\\lib\\site-packages\\skopt\\searchcv.py\u001B[0m in \u001B[0;36m_step\u001B[1;34m(self, search_space, optimizer, evaluate_candidates, n_points)\u001B[0m\n\u001B[0;32m    410\u001B[0m         \u001B[1;31m# Optimizer minimizes objective, hence provide negative score\u001B[0m\u001B[1;33m\u001B[0m\u001B[1;33m\u001B[0m\u001B[0m\n\u001B[0;32m    411\u001B[0m         \u001B[0mlocal_results\u001B[0m \u001B[1;33m=\u001B[0m \u001B[0mall_results\u001B[0m\u001B[1;33m[\u001B[0m\u001B[1;34m\"mean_test_score\"\u001B[0m\u001B[1;33m]\u001B[0m\u001B[1;33m[\u001B[0m\u001B[1;33m-\u001B[0m\u001B[0mlen\u001B[0m\u001B[1;33m(\u001B[0m\u001B[0mparams\u001B[0m\u001B[1;33m)\u001B[0m\u001B[1;33m:\u001B[0m\u001B[1;33m]\u001B[0m\u001B[1;33m\u001B[0m\u001B[1;33m\u001B[0m\u001B[0m\n\u001B[1;32m--> 412\u001B[1;33m         \u001B[1;32mreturn\u001B[0m \u001B[0moptimizer\u001B[0m\u001B[1;33m.\u001B[0m\u001B[0mtell\u001B[0m\u001B[1;33m(\u001B[0m\u001B[0mparams\u001B[0m\u001B[1;33m,\u001B[0m \u001B[1;33m[\u001B[0m\u001B[1;33m-\u001B[0m\u001B[0mscore\u001B[0m \u001B[1;32mfor\u001B[0m \u001B[0mscore\u001B[0m \u001B[1;32min\u001B[0m \u001B[0mlocal_results\u001B[0m\u001B[1;33m]\u001B[0m\u001B[1;33m)\u001B[0m\u001B[1;33m\u001B[0m\u001B[1;33m\u001B[0m\u001B[0m\n\u001B[0m\u001B[0;32m    413\u001B[0m \u001B[1;33m\u001B[0m\u001B[0m\n\u001B[0;32m    414\u001B[0m     \u001B[1;33m@\u001B[0m\u001B[0mproperty\u001B[0m\u001B[1;33m\u001B[0m\u001B[1;33m\u001B[0m\u001B[0m\n",
      "\u001B[1;32mD:\\Programs\\Anaconda\\envs\\AI-Study-Archive\\lib\\site-packages\\skopt\\optimizer\\optimizer.py\u001B[0m in \u001B[0;36mtell\u001B[1;34m(self, x, y, fit)\u001B[0m\n\u001B[0;32m    480\u001B[0m             \u001B[0mthe\u001B[0m \u001B[0moptimizer\u001B[0m \u001B[0mirrespective\u001B[0m \u001B[0mof\u001B[0m \u001B[0mthe\u001B[0m \u001B[0mvalue\u001B[0m \u001B[0mof\u001B[0m\u001B[0;31m \u001B[0m\u001B[0;31m`\u001B[0m\u001B[0mfit\u001B[0m\u001B[0;31m`\u001B[0m\u001B[1;33m.\u001B[0m\u001B[1;33m\u001B[0m\u001B[1;33m\u001B[0m\u001B[0m\n\u001B[0;32m    481\u001B[0m         \"\"\"\n\u001B[1;32m--> 482\u001B[1;33m         \u001B[0mcheck_x_in_space\u001B[0m\u001B[1;33m(\u001B[0m\u001B[0mx\u001B[0m\u001B[1;33m,\u001B[0m \u001B[0mself\u001B[0m\u001B[1;33m.\u001B[0m\u001B[0mspace\u001B[0m\u001B[1;33m)\u001B[0m\u001B[1;33m\u001B[0m\u001B[1;33m\u001B[0m\u001B[0m\n\u001B[0m\u001B[0;32m    483\u001B[0m         \u001B[0mself\u001B[0m\u001B[1;33m.\u001B[0m\u001B[0m_check_y_is_valid\u001B[0m\u001B[1;33m(\u001B[0m\u001B[0mx\u001B[0m\u001B[1;33m,\u001B[0m \u001B[0my\u001B[0m\u001B[1;33m)\u001B[0m\u001B[1;33m\u001B[0m\u001B[1;33m\u001B[0m\u001B[0m\n\u001B[0;32m    484\u001B[0m \u001B[1;33m\u001B[0m\u001B[0m\n",
      "\u001B[1;32mD:\\Programs\\Anaconda\\envs\\AI-Study-Archive\\lib\\site-packages\\skopt\\utils.py\u001B[0m in \u001B[0;36mcheck_x_in_space\u001B[1;34m(x, space)\u001B[0m\n\u001B[0;32m    186\u001B[0m     \u001B[1;32mif\u001B[0m \u001B[0mis_2Dlistlike\u001B[0m\u001B[1;33m(\u001B[0m\u001B[0mx\u001B[0m\u001B[1;33m)\u001B[0m\u001B[1;33m:\u001B[0m\u001B[1;33m\u001B[0m\u001B[1;33m\u001B[0m\u001B[0m\n\u001B[0;32m    187\u001B[0m         \u001B[1;32mif\u001B[0m \u001B[1;32mnot\u001B[0m \u001B[0mnp\u001B[0m\u001B[1;33m.\u001B[0m\u001B[0mall\u001B[0m\u001B[1;33m(\u001B[0m\u001B[1;33m[\u001B[0m\u001B[0mp\u001B[0m \u001B[1;32min\u001B[0m \u001B[0mspace\u001B[0m \u001B[1;32mfor\u001B[0m \u001B[0mp\u001B[0m \u001B[1;32min\u001B[0m \u001B[0mx\u001B[0m\u001B[1;33m]\u001B[0m\u001B[1;33m)\u001B[0m\u001B[1;33m:\u001B[0m\u001B[1;33m\u001B[0m\u001B[1;33m\u001B[0m\u001B[0m\n\u001B[1;32m--> 188\u001B[1;33m             raise ValueError(\"Not all points are within the bounds of\"\n\u001B[0m\u001B[0;32m    189\u001B[0m                              \" the space.\")\n\u001B[0;32m    190\u001B[0m         \u001B[1;32mif\u001B[0m \u001B[0many\u001B[0m\u001B[1;33m(\u001B[0m\u001B[1;33m[\u001B[0m\u001B[0mlen\u001B[0m\u001B[1;33m(\u001B[0m\u001B[0mp\u001B[0m\u001B[1;33m)\u001B[0m \u001B[1;33m!=\u001B[0m \u001B[0mlen\u001B[0m\u001B[1;33m(\u001B[0m\u001B[0mspace\u001B[0m\u001B[1;33m.\u001B[0m\u001B[0mdimensions\u001B[0m\u001B[1;33m)\u001B[0m \u001B[1;32mfor\u001B[0m \u001B[0mp\u001B[0m \u001B[1;32min\u001B[0m \u001B[0mx\u001B[0m\u001B[1;33m]\u001B[0m\u001B[1;33m)\u001B[0m\u001B[1;33m:\u001B[0m\u001B[1;33m\u001B[0m\u001B[1;33m\u001B[0m\u001B[0m\n",
      "\u001B[1;31mValueError\u001B[0m: Not all points are within the bounds of the space."
     ]
    }
   ],
   "source": [
    "# 매개변수 검색의 진행 상황을 출력할 콜백함수를 정의한다.\n",
    "import numpy as np\n",
    "import pandas as pd\n",
    "\n",
    "# 지금까지 찾아온 최상의 매개변수와 검색에서 얻은 정확도를 보여준다.\n",
    "def print_status(optimal_result):\n",
    "    models_tested = pd.DataFrame(bayes_cv_tuner.cv_results_)\n",
    "    best_parameters_so_far = pd.Series(bayes_cv_tuner.best_params_)\n",
    "    print(\n",
    "        \"Model #{}\\nBest accuracy so far: {}\\nBest parameters so far: {}\\n\".format(\n",
    "            len(models_tested),\n",
    "            np.round(bayes_cv_tuner.best_score_, 3),\n",
    "            bayes_cv_tuner.best_params_,\n",
    "        )\n",
    "    )\n",
    "\n",
    "    clf_type = bayes_cv_tuner.estimator.__class__.__name__\n",
    "    models_tested.to_csv(clf_type + \"_cv_results_summary.csv\")\n",
    "\n",
    "# 매개변수 검색을 수행한다.\n",
    "result = bayes_cv_tuner.fit(X, Y, callback=print_status)"
   ],
   "metadata": {
    "collapsed": false,
    "pycharm": {
     "name": "#%%\n"
    }
   }
  },
  {
   "cell_type": "code",
   "execution_count": null,
   "outputs": [],
   "source": [],
   "metadata": {
    "collapsed": false,
    "pycharm": {
     "name": "#%%\n"
    }
   }
  }
 ],
 "metadata": {
  "kernelspec": {
   "display_name": "Python 3",
   "language": "python",
   "name": "python3"
  },
  "language_info": {
   "codemirror_mode": {
    "name": "ipython",
    "version": 2
   },
   "file_extension": ".py",
   "mimetype": "text/x-python",
   "name": "python",
   "nbconvert_exporter": "python",
   "pygments_lexer": "ipython2",
   "version": "2.7.6"
  }
 },
 "nbformat": 4,
 "nbformat_minor": 0
}