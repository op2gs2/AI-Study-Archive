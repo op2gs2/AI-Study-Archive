{
 "cells": [
  {
   "cell_type": "code",
   "execution_count": 3,
   "metadata": {
    "collapsed": true
   },
   "outputs": [
    {
     "name": "stdout",
     "output_type": "stream",
     "text": [
      "원래 데이터셋의 크기: 135\n",
      "훈련 데이터셋의 크기:  81 = 81 / 135 = 60.00%\n",
      "검증 데이터셋의 크기:  27 = 27 / 135 = 20.00%\n",
      "테스트 데이터셋의 크기:  81 = 27 / 135 = 20.00%\n"
     ]
    }
   ],
   "source": [
    "from sklearn.model_selection import train_test_split\n",
    "import pandas as pd\n",
    "\n",
    "# 데이터 읽어들이기\n",
    "df = pd.read_csv(\"./datasets/north_korea_missile_test_database.csv\")\n",
    "Y = df['Missile Name'] #\n",
    "X = df.drop(\"Missile Name\", axis=1)\n",
    "\n",
    "# Test set 추출하기\n",
    "X_train, X_test, Y_train, Y_test = train_test_split(X, Y, test_size=0.2, random_state=31)\n",
    "\n",
    "# Val set 추출하기\n",
    "X_train, X_val, Y_train, Y_val = train_test_split(X_train, Y_train, test_size=0.25, random_state=31)\n",
    "\n",
    "# 데이터셋의 크기 출력: len() 함수를 이용하여 데이터의 길이 검증\n",
    "print(f\"원래 데이터셋의 크기: {len(X):3}\")\n",
    "print(f\"훈련 데이터셋의 크기: {len(X_train):3} = \"\n",
    "      f\"{len(X_train)} / {len(X)} = {len(X_train)/len(X)*100:5.2f}%\")\n",
    "print(f\"검증 데이터셋의 크기: {len(X_val):3} = \"\n",
    "      f\"{len(X_val)} / {len(X)} = {len(X_val)/len(X)*100:5.2f}%\")\n",
    "print(f\"테스트 데이터셋의 크기: {len(X_train):3} = \"\n",
    "      f\"{len(X_test)} / {len(X)} = {len(X_test)/len(X)*100:5.2f}%\")"
   ]
  },
  {
   "cell_type": "code",
   "execution_count": null,
   "outputs": [],
   "source": [],
   "metadata": {
    "collapsed": false,
    "pycharm": {
     "name": "#%%\n"
    }
   }
  }
 ],
 "metadata": {
  "kernelspec": {
   "display_name": "Python 3",
   "language": "python",
   "name": "python3"
  },
  "language_info": {
   "codemirror_mode": {
    "name": "ipython",
    "version": 2
   },
   "file_extension": ".py",
   "mimetype": "text/x-python",
   "name": "python",
   "nbconvert_exporter": "python",
   "pygments_lexer": "ipython2",
   "version": "2.7.6"
  }
 },
 "nbformat": 4,
 "nbformat_minor": 0
}