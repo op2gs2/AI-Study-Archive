{
 "cells": [
  {
   "cell_type": "code",
   "execution_count": 3,
   "metadata": {
    "collapsed": true
   },
   "outputs": [
    {
     "name": "stdout",
     "output_type": "stream",
     "text": [
      "[1.13714096e-01 6.04526312e-02 5.35847638e-02 4.95286930e-02\n",
      " 4.08242868e-02 3.43687925e-02 3.32004002e-02 3.01112226e-02\n",
      " 2.86901095e-02 2.81624164e-02 2.54807940e-02 2.38845548e-02\n",
      " 2.22696648e-02 2.05755591e-02 1.82485433e-02 1.73648310e-02\n",
      " 1.66649078e-02 1.63647194e-02 1.52683994e-02 1.46357930e-02\n",
      " 1.45790542e-02 1.45535760e-02 1.44699413e-02 1.44154480e-02\n",
      " 1.42948516e-02 1.39221004e-02 1.35338124e-02 1.33766277e-02\n",
      " 1.32896667e-02 1.23472302e-02 1.20507834e-02 1.15452214e-02\n",
      " 1.13731313e-02 1.10939084e-02 1.07062189e-02 1.01649154e-02\n",
      " 9.90148375e-03 9.61478385e-03 9.17627698e-03 9.04802544e-03\n",
      " 8.66332999e-03 6.94752252e-03 6.84216033e-03 6.48244001e-03\n",
      " 5.95005317e-03 5.91335216e-03 5.41615029e-03 5.10640740e-03\n",
      " 4.83543074e-03 4.45888820e-03 4.29104432e-03 3.82076025e-03\n",
      " 3.79864324e-03 3.24146447e-03 3.18558571e-03 2.67004617e-03\n",
      " 2.03201471e-03 1.73591476e-03 1.65758475e-03 1.56708821e-03\n",
      " 1.38839592e-03 1.20694096e-03 8.20896559e-04 6.92520065e-04\n",
      " 2.79632267e-04 1.36614783e-04 6.56001071e-06 3.22441346e-07\n",
      " 1.26534195e-10 5.64125607e-34 5.64125607e-34 5.64125607e-34\n",
      " 5.64125607e-34 5.64125607e-34 5.64125607e-34 5.64125607e-34\n",
      " 5.63722303e-34]\n",
      "90.6852%\n"
     ]
    }
   ],
   "source": [
    "# Feature 갯수가 많을 때는, 데이터를 저장하고 처리하는 비용이 증가하고, 잡음을 판별하기 어려워진다. 따라서, 주성분분석과 같은 차원축소 기술을 사용한다.\n",
    "# 자세한 내용은 고려대학교 김성범 교수님의 강의를 참고한다: https://www.youtube.com/watch?v=FhQm2Tc8Kic\n",
    "\n",
    "from sklearn.decomposition import PCA\n",
    "import pandas as pd\n",
    "\n",
    "# 데이터셋 X를 수집\n",
    "data = pd.read_csv('./datasets/file_pe_headers.csv', sep=',')\n",
    "X = data.drop([\"Name\",\"Malware\"], axis=1).to_numpy()\n",
    "\n",
    "# StandardScaler를 사용해 X를 표준화\n",
    "from sklearn.preprocessing import StandardScaler\n",
    "X_standardized = StandardScaler().fit_transform(X)\n",
    "\n",
    "# PCA 인스턴스를 이용해 차원을 축소한다.\n",
    "pca = PCA()\n",
    "result = pca.fit_transform(X_standardized)\n",
    "\n",
    "# 차원 축소의 유효성을 평가한다.\n",
    "print(pca.explained_variance_ratio_)\n",
    "\n",
    "# 처음 40개에 대한 분산의 방향이 얼마나 차지하는지 출력\n",
    "# 분산의 90%를 유지하면서 특성의 갯수를 40개로 줄일 수 있다는 것을 보여줌.\n",
    "print(f\"{sum(pca.explained_variance_ratio_[:40])*100:6.4f}%\")"
   ]
  },
  {
   "cell_type": "code",
   "execution_count": null,
   "outputs": [],
   "source": [],
   "metadata": {
    "collapsed": false,
    "pycharm": {
     "name": "#%%\n"
    }
   }
  }
 ],
 "metadata": {
  "kernelspec": {
   "display_name": "Python 3",
   "language": "python",
   "name": "python3"
  },
  "language_info": {
   "codemirror_mode": {
    "name": "ipython",
    "version": 2
   },
   "file_extension": ".py",
   "mimetype": "text/x-python",
   "name": "python",
   "nbconvert_exporter": "python",
   "pygments_lexer": "ipython2",
   "version": "2.7.6"
  }
 },
 "nbformat": 4,
 "nbformat_minor": 0
}