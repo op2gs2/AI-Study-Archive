{
 "cells": [
  {
   "cell_type": "code",
   "execution_count": 2,
   "metadata": {
    "collapsed": true
   },
   "outputs": [
    {
     "name": "stdout",
     "output_type": "stream",
     "text": [
      "[((0, 0, 0, 0), 24343), ((139, 240, 133, 246), 1920), ((32, 116, 111, 32), 1791), ((255, 255, 255, 255), 1668), ((108, 101, 100, 32), 1522), ((100, 32, 116, 111), 1519), ((97, 105, 108, 101), 1514), ((105, 108, 101, 100), 1513), ((70, 97, 105, 108), 1505), ((101, 100, 32, 116), 1503)]\n"
     ]
    }
   ],
   "source": [
    "import numpy as np\n",
    "\n",
    "'''N-그램 추출'''\n",
    "import collections # 빈도수 계산\n",
    "from nltk import ngrams # N-그램을 추출\n",
    "\n",
    "# 분석할 파일을 지정\n",
    "file_to_analyze = \"./datasets/python-3.10.3-amd64.exe\"\n",
    "\n",
    "# 파일을 바이트로 읽기 위한 편의함수를 작성한다.\n",
    "def read_file(file_path):\n",
    "    # 이진 파일의 문자열을 읽는다.\n",
    "    with open(file_path, \"rb\") as binary_file:\n",
    "        data = binary_file.read()\n",
    "    return data\n",
    "\n",
    "# 바이트 문자열을 가져와 N-그램을 얻는 편의 함수를 정의한다.\n",
    "def byte_sequence_to_Ngrams(byte_sequence, N):\n",
    "    # 바이트 문자열에서 N-그램 리스트를 만든다.\n",
    "    Ngrams = ngrams(byte_sequence, N)\n",
    "    return list(Ngrams)\n",
    "\n",
    "# 파일을 읽고 N-그램의 빈도수를 계산하는 함수를 작성한다.\n",
    "def binary_file_to_Ngram_counts(file, N):\n",
    "    # 이진 파일을 읽고, 이진 문자열에서 N-그램의 개수를 출력한다.\n",
    "    filebyte_sequence = read_file(file)\n",
    "    file_Ngrams = byte_sequence_to_Ngrams(filebyte_sequence, 4)\n",
    "    return collections.Counter(file_Ngrams)\n",
    "\n",
    "# 4-Gram을 추출한다.\n",
    "extracted_Ngrams = binary_file_to_Ngram_counts(file_to_analyze, 4)\n",
    "\n",
    "# 파일에서 가장 빈도수가 높은 4-그램 10개를 나열한다.\n",
    "print(extracted_Ngrams.most_common(10))"
   ]
  },
  {
   "cell_type": "code",
   "execution_count": 3,
   "outputs": [
    {
     "ename": "FileNotFoundError",
     "evalue": "[WinError 3] 지정된 경로를 찾을 수 없습니다: 'Benign PE Samples'",
     "output_type": "error",
     "traceback": [
      "\u001B[1;31m---------------------------------------------------------------------------\u001B[0m",
      "\u001B[1;31mFileNotFoundError\u001B[0m                         Traceback (most recent call last)",
      "\u001B[1;32m~\\AppData\\Local\\Temp/ipykernel_9408/4127557682.py\u001B[0m in \u001B[0;36m<module>\u001B[1;34m\u001B[0m\n\u001B[0;32m      9\u001B[0m \u001B[0mNgram_counts_all_files\u001B[0m \u001B[1;33m=\u001B[0m \u001B[0mcollections\u001B[0m\u001B[1;33m.\u001B[0m\u001B[0mCounter\u001B[0m\u001B[1;33m(\u001B[0m\u001B[1;33m[\u001B[0m\u001B[1;33m]\u001B[0m\u001B[1;33m)\u001B[0m\u001B[1;33m\u001B[0m\u001B[1;33m\u001B[0m\u001B[0m\n\u001B[0;32m     10\u001B[0m \u001B[1;32mfor\u001B[0m \u001B[0mdataset_path\u001B[0m \u001B[1;32min\u001B[0m \u001B[0mdirectories\u001B[0m\u001B[1;33m:\u001B[0m\u001B[1;33m\u001B[0m\u001B[1;33m\u001B[0m\u001B[0m\n\u001B[1;32m---> 11\u001B[1;33m     \u001B[0mall_samples\u001B[0m \u001B[1;33m=\u001B[0m \u001B[1;33m[\u001B[0m\u001B[0mf\u001B[0m \u001B[1;32mfor\u001B[0m \u001B[0mf\u001B[0m \u001B[1;32min\u001B[0m \u001B[0mlistdir\u001B[0m\u001B[1;33m(\u001B[0m\u001B[0mdataset_path\u001B[0m\u001B[1;33m)\u001B[0m \u001B[1;32mif\u001B[0m \u001B[0misfile\u001B[0m\u001B[1;33m(\u001B[0m\u001B[0mjoin\u001B[0m\u001B[1;33m(\u001B[0m\u001B[0mdataset_path\u001B[0m\u001B[1;33m,\u001B[0m \u001B[0mf\u001B[0m\u001B[1;33m)\u001B[0m\u001B[1;33m)\u001B[0m\u001B[1;33m]\u001B[0m\u001B[1;33m\u001B[0m\u001B[1;33m\u001B[0m\u001B[0m\n\u001B[0m\u001B[0;32m     12\u001B[0m     \u001B[1;32mfor\u001B[0m \u001B[0msample\u001B[0m \u001B[1;32min\u001B[0m \u001B[0mall_samples\u001B[0m\u001B[1;33m:\u001B[0m\u001B[1;33m\u001B[0m\u001B[1;33m\u001B[0m\u001B[0m\n\u001B[0;32m     13\u001B[0m         \u001B[0mfile_path\u001B[0m \u001B[1;33m=\u001B[0m \u001B[0mjoin\u001B[0m\u001B[1;33m(\u001B[0m\u001B[0mdataset_path\u001B[0m\u001B[1;33m,\u001B[0m \u001B[0msample\u001B[0m\u001B[1;33m)\u001B[0m\u001B[1;33m\u001B[0m\u001B[1;33m\u001B[0m\u001B[0m\n",
      "\u001B[1;31mFileNotFoundError\u001B[0m: [WinError 3] 지정된 경로를 찾을 수 없습니다: 'Benign PE Samples'"
     ]
    }
   ],
   "source": [
    "'''최상의 N-그램 선택: 여러 개의 파일 중에서, 가장 많은 N-그램의 N을 찾는 작업'''\n",
    "from os import listdir\n",
    "from os.path import isfile, join\n",
    "\n",
    "directories = [\"Benign PE Samples\", \"Malicious PE Samples\"]\n",
    "N = 2\n",
    "\n",
    "# 데이터셋의 모든 파일에서 모든 N-그램의 빈도수를 계산한다. -> 전역적으로 가장 빈도수가 높은 N-그램을 찾을 수 있다.\n",
    "Ngram_counts_all_files = collections.Counter([])\n",
    "for dataset_path in directories:\n",
    "    all_samples = [f for f in listdir(dataset_path) if isfile(join(dataset_path, f))]\n",
    "    for sample in all_samples:\n",
    "        file_path = join(dataset_path, sample)\n",
    "        Ngram_counts_all_files += binary_file_to_Ngram_counts(file_path, N)\n",
    "\n",
    "# 가장 빈도수가 높은 N-그램 K1=1000개를 리스트로 만든다.\n",
    "K1 = 1000\n",
    "K1_most_frequent_Ngrams = Ngram_counts_all_files.most_common(K1)\n",
    "K1_most_frequent_Ngrams_list = [x[0] for x in K1_most_frequent_Ngrams]\n",
    "\n",
    "# 샘플의 바이트 문자열에서 가장 흔한 N-그램의 출현한 횟수를 계산하는데 도움이 되는 메서드인 featurize_sample을 만든다.\n",
    "def featurize_sample(sample, K1_most_frequent_Ngrams_list):\n",
    "    # 샘플에서 특성 벡터를 만든다. 특성은 우리가 선택한 N-그램 K1개 빈도수다.\n",
    "    K1 = len(K1_most_frequent_Ngrams_list)\n",
    "    feature_vector = K1 * [0]\n",
    "    file_Ngrams = binary_file_to_Ngram_counts(sample, N)\n",
    "    for i in range(K1):\n",
    "        feature_vector[i] = file_Ngrams[K1_most_frequent_Ngrams_list[i]]\n",
    "    return feature_vector\n",
    "\n",
    "# 디렉터리에 대해 반복하면서 샘플을 특성화하고자, 앞의 featurize_sample 함수를 사용한다. 또한 레이블의 집합도 만든다.\n",
    "directories_with_labels = [(\"Benign PE Samples\", 0), (\"Malicious PE Samples\", 1)]\n",
    "X = []\n",
    "Y = []\n",
    "for dataset_path, label in directories_with_labels:\n",
    "    all_samples = [f for f in listdir(dataset_path) if isfile(join(dataset_path, f))]\n",
    "    for sample in all_samples:\n",
    "        file_path = join(dataset_path, sample)\n",
    "        X.append(featurize_sample(file_path, K1_most_frequent_Ngrams_list))\n",
    "        Y.append(label)\n",
    "\n",
    "# 특성 선택에 사용할 라이브러리를 들여오고, 몇 개의 특성으로 줄일지 지정한다.\n",
    "from sklearn.feature_selection import SelectKBest, mutual_info_classif, chi2\n",
    "K2 = 10\n",
    "\n",
    "# N-그램에 대해 다음 3가지 유형의 특성 선택을 수행한다.\n",
    "# 빈도수: 가장 빈도수가 높은 N-그램을 선택한다.\n",
    "X = np.asarray(X)\n",
    "X_top_K2_freq = X[:,K2]\n",
    "\n",
    "# 상호 정보: 상호 정보 알고리즘으로 가장 높은 순위에 오른 N-그램을 선택한다.\n",
    "mi_selector = SelectKBest(mutual_info_classif, k=K2)\n",
    "X_top_K2_mi = mi_selector.fit_transform(X, Y)\n",
    "\n",
    "# 카이제곱: 카이제곱 알고리즘으로 가장 높은 순위에 오른 N-그램을 선택한다.\n",
    "chi2_selector = SelectKBest(chi2, k=K2)\n",
    "X_top_K2_chi2 = chi2_selector.fit_transform(X, Y)"
   ],
   "metadata": {
    "collapsed": false,
    "pycharm": {
     "name": "#%%\n"
    }
   }
  }
 ],
 "metadata": {
  "kernelspec": {
   "display_name": "Python 3",
   "language": "python",
   "name": "python3"
  },
  "language_info": {
   "codemirror_mode": {
    "name": "ipython",
    "version": 2
   },
   "file_extension": ".py",
   "mimetype": "text/x-python",
   "name": "python",
   "nbconvert_exporter": "python",
   "pygments_lexer": "ipython2",
   "version": "2.7.6"
  }
 },
 "nbformat": 4,
 "nbformat_minor": 0
}