{
 "cells": [
  {
   "cell_type": "code",
   "execution_count": null,
   "metadata": {
    "collapsed": true
   },
   "outputs": [],
   "source": [
    "'''두 문자열간의 유사도 측정'''\n",
    "# ssdeep이 윈도우에서 설지 되지 않으므로, 리눅스 가상환경을 통해 설치후 실행한다.\n",
    "\n",
    "# 입력 텍스트의 문맥에 따라 결정되는 경계를 갖는 전통적인 해시 알고리즘을 결합하는 방식으로 작동.\n",
    "# 따라서, 파일이 변형되더라도, 수정된 버전을 식별할 수 있다.\n",
    "import ssdeep\n",
    "\n",
    "# 변형된 4개의 문자열을 제시하여, 유사도 측정에 어떠한 영향을 미지는지 보인다.\n",
    "str1 = \"Lorem ipsum dolor sit amet, consectetur adipiscing elit, sed do eiusmod tempor incididunt ut labore et dolore magna aliqua.\"\n",
    "str2 = \"Lorem ipsum dolor sit amet, consectetur adipiscing elit, sed do eiusmod tempor incididunt ut labore et dolore Magna aliqua.\"\n",
    "str3 = \"Lorem ipsum dolor sit amet, consectetur adipiscing elit, sed do eiusmod tempor incididunt ut labore et dolore aliqua.\"\n",
    "str4 = \"Something completely different from the other strings.\"\n",
    "\n",
    "# 문자열의 해시값을 계산한다. 비슷한 문자열은 비슷한 해시값을 갖게 된다. (0 ~ 100, 100일 수록 같은 문자열을 의미함)\n",
    "hash1 = ssdeep.hash(str1)\n",
    "hash2 = ssdeep.hash(str2)\n",
    "hash3 = ssdeep.hash(str3)\n",
    "hash4 = ssdeep.hash(str4)\n",
    "\n",
    "# 문자열이 어떤 유사도 점수를 갖는지 살펴본다.\n",
    "score1 = ssdeep.compare(hash1, hash1)\n",
    "print(f\"(hash1, hash1) 점수: {score1}\")\n",
    "\n",
    "score2 = ssdeep.compare(hash1, hash2)\n",
    "print(f\"(hash1, hash2) 점수: {score2}\")\n",
    "\n",
    "score3 = ssdeep.compare(hash1, hash3)\n",
    "print(f\"(hash1, hash3) 점수: {score3}\")\n",
    "\n",
    "score4 = ssdeep.compare(hash1, hash4)\n",
    "print(f\"(hash1, hash4) 점수: {score4}\")"
   ]
  },
  {
   "cell_type": "markdown",
   "source": [
    "## 두 파일간의 유사도 측정\n",
    "\n",
    "1. 파일의 복사본을 만들고, 파일 끝에 Null 바이트를 추가한다.\n",
    "```bash\n",
    "truncate -s +1 [fake_file_name]\n",
    "```\n",
    "\n",
    "2. hexdump를 이용해 파일의 앞 뒤를 살펴보고 조작이 잘 되었는지 확인한다.\n",
    "- 우선 조작이 안된 파일의 내용을 확인한다.\n",
    "```bash\n",
    "hexdump -C [file_name] | tail -5\n",
    "```\n",
    "\n",
    "- 같은 명령어를 사용해 조작한 파일의 내용도 확인한다.\n",
    "```bash\n",
    "hexdump -C [fake_file_name] | tail -5\n",
    "```\n",
    "\n",
    "3. ssdeep 라이브러리를 사용해 두 파일의 해시값을 계산하고 결과를 비교한다.\n",
    "```bash\n",
    "import ssdeep\n",
    "\n",
    "hash1 = ssdeep.hash_from_file('[file_name]')\n",
    "hash2 = ssdeep.hash_from_file('[fake_file_name]')\n",
    "print(f\"(hash1, hash1) 점수: {fssdeep.compare(hash1, hash2)}\")\n",
    "```"
   ],
   "metadata": {
    "collapsed": false,
    "pycharm": {
     "name": "#%% md\n"
    }
   }
  },
  {
   "cell_type": "code",
   "execution_count": null,
   "outputs": [],
   "source": [],
   "metadata": {
    "collapsed": false,
    "pycharm": {
     "name": "#%%\n"
    }
   }
  }
 ],
 "metadata": {
  "kernelspec": {
   "display_name": "Python 3",
   "language": "python",
   "name": "python3"
  },
  "language_info": {
   "codemirror_mode": {
    "name": "ipython",
    "version": 2
   },
   "file_extension": ".py",
   "mimetype": "text/x-python",
   "name": "python",
   "nbconvert_exporter": "python",
   "pygments_lexer": "ipython2",
   "version": "2.7.6"
  }
 },
 "nbformat": 4,
 "nbformat_minor": 0
}