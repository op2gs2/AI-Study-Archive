{
 "cells": [
  {
   "cell_type": "code",
   "execution_count": null,
   "metadata": {
    "collapsed": true
   },
   "outputs": [],
   "source": [
    "# 관심 있는 영역의 악성코드 분포에 대한 과거 데이터를 수집한다.\n",
    "month0 = {\"Trojan\": 24, \"CryptoMiner\": 11, \"Other\": 36, \"Worm\": 29}\n",
    "month1 = {\"Trojan\": 28, \"CryptoMiner\": 25, \"Other\": 22, \"Worm\": 25}\n",
    "month2 = {\"Trojan\": 18, \"CryptoMiner\": 36, \"Other\": 41, \"Worm\": 5}\n",
    "month3 = {\"CryptoMiner\": 18, \"Trojan\": 33, \"Other\": 44, \"Worm\": 5}\n",
    "months = [month0, month1, month2, month3]"
   ]
  },
  {
   "cell_type": "code",
   "execution_count": null,
   "outputs": [],
   "source": [
    "# 악성코드의 각 클래스에 대해 데이터를 개별 시계열 데이터로 변환한다.\n",
    "trojan_time_series = []\n",
    "crypto_miner_time_series = []\n",
    "worm_time_series = []\n",
    "other_time_series = []\n",
    "\n",
    "for month in months:\n",
    "    trojan_time_series.append(month[\"Trojan\"])\n",
    "    crypto_miner_time_series.append(month[\"CryptoMiner\"])\n",
    "    worm_time_series.append(month[\"Worm\"])\n",
    "    other_time_series.append(month[\"Other\"])\n",
    "\n",
    "import plotly.graph_objects as go\n",
    "\n",
    "x = [x for x in range(4)]\n",
    "\n",
    "fig = go.Figure()\n",
    "fig.add_trace(go.Scatter(x=x, y=trojan_time_series, mode='lines+markers'))\n",
    "fig.update_layout(title = \"트로이목마 악성코드 시계열 그래프\")\n",
    "fig.show()\n",
    "\n",
    "fig = go.Figure()\n",
    "fig.add_trace(go.Scatter(x=x, y=crypto_miner_time_series, mode='lines+markers'))\n",
    "fig.update_layout(title = \"암호화폐 채굴 악성코드 시계열 그래프\")\n",
    "fig.show()\n",
    "\n",
    "fig = go.Figure()\n",
    "fig.add_trace(go.Scatter(x=x, y=worm_time_series, mode='lines+markers'))\n",
    "fig.update_layout(title = \"웜 악성코드 시계열 그래프\")\n",
    "fig.show()\n",
    "\n",
    "fig = go.Figure()\n",
    "fig.add_trace(go.Scatter(x=x, y=other_time_series, mode='lines+markers'))\n",
    "fig.update_layout(title = \"기타 악성코드 시계열 그래프\")\n",
    "fig.show()"
   ],
   "metadata": {
    "collapsed": false,
    "pycharm": {
     "name": "#%%\n"
    }
   }
  },
  {
   "cell_type": "code",
   "execution_count": null,
   "outputs": [],
   "source": [
    "# 이동평균 라이브러리를 불러온다.\n",
    "from statsmodels.tsa.arima_model import ARMA\n",
    "\n",
    "# 이동평균을 사용해 시계열을 기반으로 다음 달의 분포를 예측한다.\n",
    "# 트로이 목마에 대한 예측 결과\n",
    "ts_model = ARMA(trojan_time_series, order=(0,1))\n",
    "model_fit_to_data = ts_model.fit(disp=True)\n",
    "y_Trojan = model_fit_to_data.predict(len(trojan_time_series), len(trojan_time_series))\n",
    "print(\"트로이목마 악성코드에 대한 다음 달 예측: \",y_Trojan[0],\"%\")\n",
    "\n",
    "# 암호화페 채굴 악성코드에 대한 예측 결과\n",
    "ts_model = ARMA(crypto_miner_time_series, order=(0,1))\n",
    "model_fit_to_data = ts_model.fit(disp=True)\n",
    "y_CryptoMiner = model_fit_to_data.predict(len(crypto_miner_time_series), len(crypto_miner_time_series))\n",
    "print(\"암호화폐 채굴 악성코드에 대한 다음 달 예측: \",y_CryptoMiner[0],\"%\")\n",
    "\n",
    "# 웜에 대한 예측 결과\n",
    "ts_model = ARMA(worm_time_series, order=(0,1))\n",
    "model_fit_to_data = ts_model.fit(disp=True)\n",
    "y_Worm = model_fit_to_data.predict(len(worm_time_series), len(worm_time_series))\n",
    "print(\"웜 악성코드에 대한 다음 달 예측: \",y_Worm[0],\"%\")\n",
    "\n",
    "# 기타 악성코드에 대한 예측 결과\n",
    "ts_model = ARMA(other_time_series, order=(0,1))\n",
    "model_fit_to_data = ts_model.fit(disp=True)\n",
    "y_Other = model_fit_to_data.predict(len(other_time_series), len(other_time_series))\n",
    "print(\"기타 악성코드에 대한 다음 달 예측: \",y_Other[0],\"%\")"
   ],
   "metadata": {
    "collapsed": false,
    "pycharm": {
     "name": "#%%\n"
    }
   }
  }
 ],
 "metadata": {
  "kernelspec": {
   "display_name": "Python 3",
   "language": "python",
   "name": "python3"
  },
  "language_info": {
   "codemirror_mode": {
    "name": "ipython",
    "version": 2
   },
   "file_extension": ".py",
   "mimetype": "text/x-python",
   "name": "python",
   "nbconvert_exporter": "python",
   "pygments_lexer": "ipython2",
   "version": "2.7.6"
  }
 },
 "nbformat": 4,
 "nbformat_minor": 0
}