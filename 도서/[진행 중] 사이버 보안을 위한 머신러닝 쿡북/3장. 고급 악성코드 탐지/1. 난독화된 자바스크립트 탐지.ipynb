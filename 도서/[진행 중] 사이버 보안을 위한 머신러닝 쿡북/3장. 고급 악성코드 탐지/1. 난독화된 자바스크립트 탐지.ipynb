{
 "cells": [
  {
   "cell_type": "code",
   "execution_count": 1,
   "outputs": [
    {
     "ename": "FileNotFoundError",
     "evalue": "[WinError 3] 지정된 경로를 찾을 수 없습니다: '/.JavaScriptSamples'",
     "output_type": "error",
     "traceback": [
      "\u001B[1;31m---------------------------------------------------------------------------\u001B[0m",
      "\u001B[1;31mFileNotFoundError\u001B[0m                         Traceback (most recent call last)",
      "\u001B[1;32m~\\AppData\\Local\\Temp/ipykernel_5648/3526214146.py\u001B[0m in \u001B[0;36m<module>\u001B[1;34m\u001B[0m\n\u001B[0;32m     15\u001B[0m \u001B[1;31m# 파일을 말뭉치에 넣고 레이블을 붙인다.\u001B[0m\u001B[1;33m\u001B[0m\u001B[1;33m\u001B[0m\u001B[0m\n\u001B[0;32m     16\u001B[0m \u001B[1;32mfor\u001B[0m \u001B[0mfiles_path\u001B[0m\u001B[1;33m,\u001B[0m \u001B[0mlabel\u001B[0m \u001B[1;32min\u001B[0m \u001B[0mfile_types_and_labels\u001B[0m\u001B[1;33m:\u001B[0m\u001B[1;33m\u001B[0m\u001B[1;33m\u001B[0m\u001B[0m\n\u001B[1;32m---> 17\u001B[1;33m     \u001B[0mfiles\u001B[0m \u001B[1;33m=\u001B[0m \u001B[0mos\u001B[0m\u001B[1;33m.\u001B[0m\u001B[0mlistdir\u001B[0m\u001B[1;33m(\u001B[0m\u001B[0mfiles_path\u001B[0m\u001B[1;33m)\u001B[0m\u001B[1;33m\u001B[0m\u001B[1;33m\u001B[0m\u001B[0m\n\u001B[0m\u001B[0;32m     18\u001B[0m     \u001B[1;32mfor\u001B[0m \u001B[0mfile\u001B[0m \u001B[1;32min\u001B[0m \u001B[0mfiles\u001B[0m\u001B[1;33m:\u001B[0m\u001B[1;33m\u001B[0m\u001B[1;33m\u001B[0m\u001B[0m\n\u001B[0;32m     19\u001B[0m         \u001B[0mfile_path\u001B[0m \u001B[1;33m=\u001B[0m \u001B[0mfiles_path\u001B[0m \u001B[1;33m+\u001B[0m \u001B[1;34m\"/\"\u001B[0m \u001B[1;33m+\u001B[0m \u001B[0mfile\u001B[0m\u001B[1;33m\u001B[0m\u001B[1;33m\u001B[0m\u001B[0m\n",
      "\u001B[1;31mFileNotFoundError\u001B[0m: [WinError 3] 지정된 경로를 찾을 수 없습니다: '/.JavaScriptSamples'"
     ]
    }
   ],
   "source": [
    "import os\n",
    "from sklearn.feature_extraction.text import HashingVectorizer, TfidfTransformer\n",
    "from sklearn.ensemble import RandomForestClassifier\n",
    "from sklearn.model_selection import train_test_split\n",
    "from sklearn.metrics import accuracy_score, confusion_matrix\n",
    "from sklearn.pipeline import Pipeline\n",
    "\n",
    "# 난독화된 자바스크립트와 난독화되지 않은 자바스크립트 파일의 경로를 지정하고, 두 가지 유형의 파일에 다른 레이블을 붙인다.\n",
    "js_path = \"/.JavaScriptSamples\"\n",
    "obfuscated_js_path = \"./ObfuscatedJavaScriptSamples\"\n",
    "corpus = []\n",
    "labels = []\n",
    "file_types_and_labels = [(js_path, 0),(obfuscated_js_path, 1)]\n",
    "\n",
    "# 파일을 말뭉치에 넣고 레이블을 붙인다.\n",
    "for files_path, label in file_types_and_labels:\n",
    "    files = os.listdir(files_path)\n",
    "    for file in files:\n",
    "        file_path = files_path + \"/\" + file\n",
    "        try:\n",
    "            with open(file_path, \"r\") as myfile:\n",
    "                data = myfile.read().replace(\"\\n\", \"\")\n",
    "                data = str(data)\n",
    "                corpus.append(data)\n",
    "                labels.append(label)\n",
    "        except:\n",
    "            pass\n",
    "\n",
    "# 데이터셋을 훈련 데이터셋과 테스트 데이터셋으로 분할\n",
    "X_train, X_test, Y_train, Y_test = train_test_split(\n",
    "    corpus, labels, test_size=0.33, random_state=42\n",
    ")\n",
    "\n",
    "# 기본 자연어처리와 랜덤 포레스트 분류기를 수행할 파이프라인을 생성함.\n",
    "text_clf = Pipeline(\n",
    "    [\n",
    "        (\"vect\", HashingVectorizer(input=\"content\", ngram_range=(1,3))),\n",
    "        (\"tfidf\", TfidfTransformer(use_idf=True,)),\n",
    "        (\"rf\", RandomForestClassifier(class_weight=\"balanced\")),\n",
    "    ]\n",
    ")\n",
    "\n",
    "# 파이프라인을 훈련 데이터에 학습하고, 테스트 데이터를 예측한 결과를 출력한다.\n",
    "text_clf.fit(X_train, Y_train)\n",
    "Y_test_pred = text_clf.predict(X_test)\n",
    "\n",
    "print(\"정확도: {.4%}\",accuracy_score(Y_test, Y_test_pred)*100)\n",
    "print(confusion_matrix(Y_test. Y_test_pred))\n",
    "\n",
    "#"
   ],
   "metadata": {
    "collapsed": false,
    "pycharm": {
     "name": "#%%\n"
    }
   }
  },
  {
   "cell_type": "code",
   "execution_count": null,
   "outputs": [],
   "source": [],
   "metadata": {
    "collapsed": false,
    "pycharm": {
     "name": "#%%\n"
    }
   }
  }
 ],
 "metadata": {
  "kernelspec": {
   "display_name": "Python 3",
   "language": "python",
   "name": "python3"
  },
  "language_info": {
   "codemirror_mode": {
    "name": "ipython",
    "version": 2
   },
   "file_extension": ".py",
   "mimetype": "text/x-python",
   "name": "python",
   "nbconvert_exporter": "python",
   "pygments_lexer": "ipython2",
   "version": "2.7.6"
  }
 },
 "nbformat": 4,
 "nbformat_minor": 0
}