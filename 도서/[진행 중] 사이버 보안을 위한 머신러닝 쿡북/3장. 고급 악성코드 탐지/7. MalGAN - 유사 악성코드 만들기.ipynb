{
 "cells": [
  {
   "cell_type": "code",
   "execution_count": null,
   "metadata": {
    "collapsed": true,
    "pycharm": {
     "name": "#%%\n"
    }
   },
   "outputs": [],
   "source": [
    "import os\n",
    "import pandas as pd\n",
    "from keras.models import load_model\n",
    "import MalGAN_utils\n",
    "import MalGAN_gen_adv_examples\n",
    "\n",
    "# 입/출력 경로를 지정한다.\n",
    "save_path = \"./MalGAN_output\"\n",
    "model_path = \"./MalGAN_input/malconv.h5\"\n",
    "log_path = \"./MalGAN_output/adversarial_log.csv\"\n",
    "pad_percent = 0.1\n",
    "threshold = 0.6\n",
    "step_size = 0.01\n",
    "limit = 0.\n",
    "input_samples = \"./MalGAN_input/sampleIn.csv\"\n",
    "\n",
    "# 적대적 샘플 생성에 GPU 사용여부를 설정한다.\n",
    "MalGAN_utils.limit_gpu_memory(limit)\n",
    "\n",
    "# 샘플의 이름과 레이블이 저장된 csv 파일을 읽어 데이터프레임에 저장한다.\n",
    "df = pd.read_csv(input_samples, header=None)\n",
    "fn_list = df[0].values\n",
    "\n",
    "# 미리 계산된 MalConv 모델을 불러온다.\n",
    "model = load_model(model_path)\n",
    "\n",
    "# 고속 경사 부호법을 사용해 적대적 악성코드를 생성한다.\n",
    "adv_samples, log = MalGAN_gen_adv_examples.gen_adv_samples(\n",
    "    model, fn_list, pad_percent, step_size, threshold\n",
    ")\n",
    "\n",
    "# 결과 로그를 저장하고 샘플을 디스크에 저장한다.\n",
    "log.save(log_path)\n",
    "for fn, adv in zip(fn_list, adv_samples):\n",
    "    _fn = fn.split('/')[-1]\n",
    "    dst = os.path.join(save_path, _fn)\n",
    "    print(dst)\n",
    "    with open(dst, 'wb') as f:\n",
    "        f.write(adv)"
   ]
  }
 ],
 "metadata": {
  "kernelspec": {
   "display_name": "Python 3",
   "language": "python",
   "name": "python3"
  },
  "language_info": {
   "codemirror_mode": {
    "name": "ipython",
    "version": 2
   },
   "file_extension": ".py",
   "mimetype": "text/x-python",
   "name": "python",
   "nbconvert_exporter": "python",
   "pygments_lexer": "ipython2",
   "version": "2.7.6"
  }
 },
 "nbformat": 4,
 "nbformat_minor": 0
}