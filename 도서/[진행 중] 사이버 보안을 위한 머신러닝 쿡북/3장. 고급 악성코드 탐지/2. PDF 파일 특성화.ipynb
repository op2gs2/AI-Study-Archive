{
 "cells": [
  {
   "cell_type": "code",
   "execution_count": 1,
   "metadata": {
    "collapsed": true
   },
   "outputs": [
    {
     "name": "stderr",
     "output_type": "stream",
     "text": [
      "python: can't open file 'D:\\\\Study\\\\GitRepository\\\\AI-Study-Archive\\\\도서\\\\[진행 중] 사이버 보안을 위한 머신러닝 쿡북\\\\3장. 고급 악성코드 탐지\\\\pdfid.py': [Errno 2] No such file or directory\n"
     ]
    }
   ],
   "source": [
    "!python pdfid.py PythonBrochre.pdf"
   ]
  },
  {
   "cell_type": "code",
   "execution_count": 2,
   "outputs": [],
   "source": [
    "from IPython.utils import io\n",
    "\n",
    "# PDFid를 통해 PDF 파일을 특성화함\n",
    "def PDF_to_FV(file_path):\n",
    "    # 파일에 대해 pdfid를 실행하고 연산한 결과를 가져옴\n",
    "    with io.capture_output() as captured:\n",
    "        %run -i ./pdfid/pdfid $file_path\n",
    "    out = captured.stdout\n",
    "    # 결과를 구문 분석해 수치 벡터로 만듦\n",
    "    out1 = out.split(\"\\n\")[2:-2]\n",
    "    return [int(x.split()[-1]) for x in out1]"
   ],
   "metadata": {
    "collapsed": false,
    "pycharm": {
     "name": "#%%\n"
    }
   }
  },
  {
   "cell_type": "code",
   "execution_count": 3,
   "outputs": [
    {
     "ename": "FileNotFoundError",
     "evalue": "[WinError 3] 지정된 경로를 찾을 수 없습니다: './PDFSamples'",
     "output_type": "error",
     "traceback": [
      "\u001B[1;31m---------------------------------------------------------------------------\u001B[0m",
      "\u001B[1;31mFileNotFoundError\u001B[0m                         Traceback (most recent call last)",
      "\u001B[1;32m~\\AppData\\Local\\Temp/ipykernel_15408/3927412315.py\u001B[0m in \u001B[0;36m<module>\u001B[1;34m\u001B[0m\n\u001B[0;32m      4\u001B[0m \u001B[1;33m\u001B[0m\u001B[0m\n\u001B[0;32m      5\u001B[0m \u001B[0mX\u001B[0m \u001B[1;33m=\u001B[0m \u001B[1;33m[\u001B[0m\u001B[1;33m]\u001B[0m\u001B[1;33m\u001B[0m\u001B[1;33m\u001B[0m\u001B[0m\n\u001B[1;32m----> 6\u001B[1;33m \u001B[0mfiles\u001B[0m \u001B[1;33m=\u001B[0m \u001B[0mlistdir\u001B[0m\u001B[1;33m(\u001B[0m\u001B[0mPDFs_path\u001B[0m\u001B[1;33m)\u001B[0m\u001B[1;33m\u001B[0m\u001B[1;33m\u001B[0m\u001B[0m\n\u001B[0m\u001B[0;32m      7\u001B[0m \u001B[1;32mfor\u001B[0m \u001B[0mfile\u001B[0m \u001B[1;32min\u001B[0m \u001B[0mfiles\u001B[0m\u001B[1;33m:\u001B[0m\u001B[1;33m\u001B[0m\u001B[1;33m\u001B[0m\u001B[0m\n\u001B[0;32m      8\u001B[0m     \u001B[0mfile_path\u001B[0m \u001B[1;33m=\u001B[0m \u001B[0mPDFs_path\u001B[0m \u001B[1;33m+\u001B[0m \u001B[0mfile\u001B[0m\u001B[1;33m\u001B[0m\u001B[1;33m\u001B[0m\u001B[0m\n",
      "\u001B[1;31mFileNotFoundError\u001B[0m: [WinError 3] 지정된 경로를 찾을 수 없습니다: './PDFSamples'"
     ]
    }
   ],
   "source": [
    "from os import listdir\n",
    "\n",
    "PDFs_path = \"./PDFSamples\"\n",
    "\n",
    "# 디렉터리의 각 파일을 순회하며, 파일을 특성화한 후, 특성 벡터를 X에 모음.\n",
    "X = []\n",
    "files = listdir(PDFs_path)\n",
    "for file in files:\n",
    "    file_path = PDFs_path + file\n",
    "    X.append(PDF_to_FV(file_path))\n",
    "print(X)"
   ],
   "metadata": {
    "collapsed": false,
    "pycharm": {
     "name": "#%%\n"
    }
   }
  },
  {
   "cell_type": "code",
   "execution_count": null,
   "outputs": [],
   "source": [],
   "metadata": {
    "collapsed": false,
    "pycharm": {
     "name": "#%%\n"
    }
   }
  }
 ],
 "metadata": {
  "kernelspec": {
   "display_name": "Python 3",
   "language": "python",
   "name": "python3"
  },
  "language_info": {
   "codemirror_mode": {
    "name": "ipython",
    "version": 2
   },
   "file_extension": ".py",
   "mimetype": "text/x-python",
   "name": "python",
   "nbconvert_exporter": "python",
   "pygments_lexer": "ipython2",
   "version": "2.7.6"
  }
 },
 "nbformat": 4,
 "nbformat_minor": 0
}