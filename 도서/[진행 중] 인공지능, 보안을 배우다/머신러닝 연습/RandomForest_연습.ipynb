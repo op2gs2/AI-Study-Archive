{
 "cells": [
  {
   "cell_type": "code",
   "execution_count": 11,
   "id": "d4e8d811",
   "metadata": {
    "pycharm": {
     "name": "#%%\n"
    }
   },
   "outputs": [
    {
     "name": "stdout",
     "output_type": "stream",
     "text": [
      "[0.14205973 0.76664038 0.0282433  0.06305659]\n",
      "[0.14205973 0.76664038 0.0282433  0.06305659]\n",
      "[1]\n"
     ]
    }
   ],
   "source": [
    "from sklearn.ensemble import RandomForestClassifier\n",
    "from sklearn.datasets import make_classification\n",
    "\n",
    "# 분류 데이터 생성\n",
    "x,y = make_classification(n_samples = 1000, n_features = 4, n_informative = 2, n_redundant = 0, random_state = 0, shuffle = False)\n",
    "\n",
    "# RandomForest 클래스 생성 및 학습\n",
    "clf = RandomForestClassifier(max_depth = 2, random_state = 0)\n",
    "clf.fit(x,y)\n",
    "\n",
    "# RandomForest는 적절한 파라미터 값이 있어야, 성능이 좋은 모델을 만들 수 있다.\n",
    "RandomForestClassifier(bootstrap=True, class_weight=None, criterion='gini',\n",
    "                      max_depth=2, max_features='auto', max_leaf_nodes=None,\n",
    "                      min_impurity_decrease=0.0, min_samples_leaf=1, min_samples_split=2,\n",
    "                      min_weight_fraction_leaf=0.0, n_estimators=10, n_jobs=1,\n",
    "                      random_state=0, verbose=0, warm_start=False)\n",
    "\n",
    "# 랜덤 포레스트의 Feature의 중요도(분류하는데 도움이 되는 정도를 나타냄)를 출력함. \n",
    "# 이 중요도는 Feature를 선택하는데 도움이 됨.\n",
    "print(clf.feature_importances_)\n",
    "# 학습된 모델지표를 활용해, 입력된 데이터를 평가함\n",
    "print(clf.predict([[0,0,0,0]]))"
   ]
  }
 ],
 "metadata": {
  "kernelspec": {
   "display_name": "Python 3",
   "language": "python",
   "name": "python3"
  },
  "language_info": {
   "codemirror_mode": {
    "name": "ipython",
    "version": 3
   },
   "file_extension": ".py",
   "mimetype": "text/x-python",
   "name": "python",
   "nbconvert_exporter": "python",
   "pygments_lexer": "ipython3",
   "version": "3.8.8"
  }
 },
 "nbformat": 4,
 "nbformat_minor": 5
}