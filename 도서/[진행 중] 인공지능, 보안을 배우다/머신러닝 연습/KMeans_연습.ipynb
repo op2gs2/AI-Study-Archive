{
 "cells": [
  {
   "cell_type": "code",
   "execution_count": 3,
   "id": "5cd3d8b9",
   "metadata": {},
   "outputs": [
    {
     "name": "stdout",
     "output_type": "stream",
     "text": [
      "[0 0 0 1 1 1]\n",
      "[0 1]\n",
      "[[1. 2.]\n",
      " [4. 2.]]\n"
     ]
    }
   ],
   "source": [
    "from sklearn.cluster import KMeans\n",
    "import numpy as np\n",
    "import matplotlib.pyplot as plt\n",
    "\n",
    "# 랜덤 배열 데이터 생성\n",
    "X = np.array([[1,2],[1,4],[1,0],[4,2],[4,4],[4,0]])\n",
    "\n",
    "# kmeans 학습\n",
    "kmeans = KMeans(n_clusters=2, random_state=0).fit(X)\n",
    "# kmeans lable 출력\n",
    "print(kmeans.labels_)\n",
    "# kmean에 데이터를 주고, 예측\n",
    "print(kmeans.predict([[0,0],[4,4]]))\n",
    "# kmeans cluster의 중앙값 출력\n",
    "print(kmeans.cluster_centers_)"
   ]
  },
  {
   "cell_type": "code",
   "execution_count": null,
   "id": "5c06eb67",
   "metadata": {},
   "outputs": [],
   "source": []
  }
 ],
 "metadata": {
  "kernelspec": {
   "display_name": "Python 3",
   "language": "python",
   "name": "python3"
  },
  "language_info": {
   "codemirror_mode": {
    "name": "ipython",
    "version": 3
   },
   "file_extension": ".py",
   "mimetype": "text/x-python",
   "name": "python",
   "nbconvert_exporter": "python",
   "pygments_lexer": "ipython3",
   "version": "3.8.8"
  }
 },
 "nbformat": 4,
 "nbformat_minor": 5
}