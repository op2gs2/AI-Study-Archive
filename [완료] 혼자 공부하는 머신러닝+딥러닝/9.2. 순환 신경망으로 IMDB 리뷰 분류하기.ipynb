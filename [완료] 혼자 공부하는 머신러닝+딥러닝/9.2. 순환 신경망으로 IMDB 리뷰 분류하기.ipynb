{
 "cells": [
  {
   "cell_type": "markdown",
   "metadata": {
    "collapsed": false,
    "id": "nXOeIUY2YCz2"
   },
   "source": [
    "## 개념 정리\n",
    "### 용어 정리\n",
    "- 말뭉치: 자언어 처리에서 사용하는 텍스트 데이터의 모음\n",
    "- 토큰\n",
    "    - 텍스트에서 공백으로 구분되는 문자열.\n",
    "    - 종종 소문자로 변환하고 구둣점은 삭제함\n",
    "    - 구분된 토큰을 정수로 매핑함. 일부 정수는 예약되어 있음.\n",
    "      - 0은 Padding, 1은 문장의 시작, 2는 어휘사전에 없는 토큰을 나타냄.\n",
    "- 어휘사전: 훈련셋에서 고유한 단어를 뽑아 만든 목록. 예를 들어, 테스트 셋 안에 어휘 사전에 없는 단어가 있다면 2로 변환하여 모델에 주입함.\n",
    "- 원-핫 인코딩\n",
    "    - 어떤 클래스에 해당하는 원소만 1이고 나머지는 0인 벡터\n",
    "    - 정수로 변환된 토큰을 원-핫 인코딩으로 변환하려면 어휘 사전 크기의 벡터가 만들어짐\n",
    "- 단어 임베딩\n",
    "    - 정수로 변환된 토큰을 비교적 작은 크기의 실수 밀집 벡터로 변환.\n",
    "    - 이런 밀집 벡터는 단어 사이의 관계를 표현할 수 있기 때문에 자연어 처리에서 좋은 성능을 발휘함.\n",
    "    - 원-핫 인코딩보다 의미 있는 값이 채워져 있어, 크기도 적고 성능도 좋은 편.\n",
    "    - Embedding 층을 통해 정수데이터를 임베딩 할 수 있음\n",
    "### 핵심 패키자와 함수 (Tensorflow)\n",
    "- pad_sequences()\n",
    "    - 시퀸스 길이를 맞추기 위해 패딩을 추가. 이 함수는 (샘플 갯수, 타임스텝 개수) 크기의 2차원 배열을 기대함.\n",
    "    - maxlen: 원하는 시퀸스 길이를 지정할 수 있음. 이 값보다 긴 시퀀스는 잘리고 짧은 시퀸스는 패딩됨. 기본값은 가장 긴 시퀸스의 길이\n",
    "    - padding: 패딩을 추가할 위치를 지정. 기본값인 'pre'는 시퀸스 앞에 패딩을 추가하고, 'post'는 시퀸스 뒤에 패딩을 추가함.\n",
    "    - truncating: 긴 시퀸스에서 잘라버릴 위치를 지정. 기본값인 'pre'는 시퀸스의 앞부분을 잘라내고, 'post'는 시퀸스 뒷부분을 잘라냄\n",
    "- to_categorical()\n",
    "    - 정수 시퀸스를 원-핫 인코딩으로 변환.\n",
    "    - 토큰을 원-핫 인코딩하거나, 타깃값을 원-핫 인코딩할 때 사용함.\n",
    "    - num_classes: 클래스 갯수를 지정. 지정하지 않으면 데이터에서 자동으로 찾음\n",
    "- SimpleRNN\n",
    "    - 케라스의 기본 순환층 클래스.\n",
    "    - 첫번째 매개변수에 뉴런의 갯수를 지정.\n",
    "    - activation: 활성화 함수를 지정. 기본값은 'tanh'\n",
    "    - dropout: 입력에 대한 드롭아웃 비율을 지정할 수 있음\n",
    "    - return_sequences: 모든 타임스텝의 은닉 상태를 출력할 지 결정. 기본값은 'False'\n",
    "- Embedding\n",
    "    - 단어 임베딩을 위한 클래스\n",
    "    - 첫번째 매개변수에서 어휘 사전의 크기를 지정\n",
    "    - 두번째 매개변수에서 Embedding 층이 출력할 밀집 벡터의 크기를 지정\n",
    "    - input_length: 입력 시퀸스의 길이를 지정. Embedding 층 바로 뒤에, Flatten이나 Dense층이 올때 꼭 필요함."
   ]
  },
  {
   "cell_type": "code",
   "execution_count": null,
   "metadata": {
    "colab": {
     "base_uri": "https://localhost:8080/",
     "height": 729
    },
    "id": "st_cAaA4YCz4",
    "outputId": "400c44a5-3942-409f-a9d5-b11f01676cb6"
   },
   "outputs": [
    {
     "output_type": "stream",
     "name": "stdout",
     "text": [
      "Downloading data from https://storage.googleapis.com/tensorflow/tf-keras-datasets/imdb.npz\n",
      "17465344/17464789 [==============================] - 0s 0us/step\n",
      "17473536/17464789 [==============================] - 0s 0us/step\n",
      "(25000,) (25000,)\n",
      "218\n",
      "189\n",
      "[1, 14, 22, 16, 43, 2, 2, 2, 2, 65, 458, 2, 66, 2, 4, 173, 36, 256, 5, 25, 100, 43, 2, 112, 50, 2, 2, 9, 35, 480, 284, 5, 150, 4, 172, 112, 167, 2, 336, 385, 39, 4, 172, 2, 2, 17, 2, 38, 13, 447, 4, 192, 50, 16, 6, 147, 2, 19, 14, 22, 4, 2, 2, 469, 4, 22, 71, 87, 12, 16, 43, 2, 38, 76, 15, 13, 2, 4, 22, 17, 2, 17, 12, 16, 2, 18, 2, 5, 62, 386, 12, 8, 316, 8, 106, 5, 4, 2, 2, 16, 480, 66, 2, 33, 4, 130, 12, 16, 38, 2, 5, 25, 124, 51, 36, 135, 48, 25, 2, 33, 6, 22, 12, 215, 28, 77, 52, 5, 14, 407, 16, 82, 2, 8, 4, 107, 117, 2, 15, 256, 4, 2, 7, 2, 5, 2, 36, 71, 43, 2, 476, 26, 400, 317, 46, 7, 4, 2, 2, 13, 104, 88, 4, 381, 15, 297, 98, 32, 2, 56, 26, 141, 6, 194, 2, 18, 4, 226, 22, 21, 134, 476, 26, 480, 5, 144, 30, 2, 18, 51, 36, 28, 224, 92, 25, 104, 4, 226, 65, 16, 38, 2, 88, 12, 16, 283, 5, 16, 2, 113, 103, 32, 15, 16, 2, 19, 178, 32]\n",
      "[1 0 0 1 0 0 1 0 1 0 1 0 0 0 0 0 1 1 0 1]\n",
      "239.00925 178.0\n"
     ]
    },
    {
     "output_type": "display_data",
     "data": {
      "image/png": "[encoded data removed]",
      "text/plain": [
       "<Figure size 432x288 with 1 Axes>"
      ]
     },
     "metadata": {
      "needs_background": "light"
     }
    },
    {
     "output_type": "stream",
     "name": "stdout",
     "text": [
      "(20000, 100)\n",
      "[ 10   4  20   9   2 364 352   5  45   6   2   2  33 269   8   2 142   2\n",
      "   5   2  17  73  17 204   5   2  19  55   2   2  92  66 104  14  20  93\n",
      "  76   2 151  33   4  58  12 188   2 151  12 215  69 224 142  73 237   6\n",
      "   2   7   2   2 188   2 103  14  31  10  10 451   7   2   5   2  80  91\n",
      "   2  30   2  34  14  20 151  50  26 131  49   2  84  46  50  37  80  79\n",
      "   6   2  46   7  14  20  10  10 470 158]\n",
      "[6, 2, 46, 7, 14, 20, 10, 10, 470, 158]\n",
      "[  0   0   0   0   1   2 195  19  49   2   2 190   4   2 352   2 183  10\n",
      "  10  13  82  79   4   2  36  71 269   8   2  25  19  49   7   4   2   2\n",
      "   2   2   2  10  10  48  25  40   2  11   2   2  40   2   2   5   4   2\n",
      "   2  95  14 238  56 129   2  10  10  21   2  94 364 352   2   2  11 190\n",
      "  24 484   2   7  94 205 405  10  10  87   2  34  49   2   7   2   2   2\n",
      "   2   2 290   2  46  48  64  18   4   2]\n"
     ]
    }
   ],
   "source": [
    "'''데이터 처리하기'''\n",
    "# 데이터 가져오기\n",
    "from tensorflow.keras.datasets import imdb\n",
    "(train_input, train_target), (test_input, test_target) = imdb.load_data(num_words=500) # 500개의 단어만 표현하고, 나머지는 2로 표시\n",
    "\n",
    "# 훈련 세트와 테스트 세트의 크기를 확인\n",
    "print(train_input.shape, test_input.shape)\n",
    "\n",
    "# 첫번째 리뷰의 길이 측정\n",
    "print(len(train_input[0]))\n",
    "# 두번째 리뷰의 길이 측정\n",
    "print(len(train_input[1]))\n",
    "# 첫번째 리뷰 출력\n",
    "print(train_input[0])\n",
    "# Target 데이터 출력\n",
    "print(train_target[:20]) # 0이면 부정, 1이면 긍정을 의미함.\n",
    "\n",
    "# 훈련셋과 검증셋을 나누기\n",
    "from sklearn.model_selection import train_test_split\n",
    "train_input, val_input, train_target, val_target = train_test_split(train_input, train_target, test_size=0.2, random_state=42)\n",
    "\n",
    "# 훈련셋의 길이의 평균값과 중간값을 구함\n",
    "import numpy as np\n",
    "lengths = np.array([len(x) for x in train_input])\n",
    "print(np.mean(lengths),np.median(lengths))\n",
    "\n",
    "# 훈련셋의 길이 배열을 히스토그램으로 시각화\n",
    "import matplotlib.pyplot as plt\n",
    "plt.hist(lengths)\n",
    "plt.xlabel('length')\n",
    "plt.ylabel('frequency')\n",
    "plt.show()\n",
    "\n",
    "# 시퀀스 데이터의 길이 맞추가: train_input의 길이를 100으로 맞추기\n",
    "from tensorflow.keras.preprocessing.sequence import pad_sequences\n",
    "train_seq = pad_sequences(train_input, maxlen=100)\n",
    "print(train_seq.shape)\n",
    "\n",
    "# 시퀸스로 조정된 데이터 출력해보기\n",
    "print(train_seq[0])\n",
    "print(train_input[0][-10:])\n",
    "print(train_seq[5])\n",
    "\n",
    "val_seq = pad_sequences(val_input, maxlen=100)"
   ]
  },
  {
   "cell_type": "code",
   "execution_count": null,
   "metadata": {
    "colab": {
     "base_uri": "https://localhost:8080/"
    },
    "id": "7c_IKZtuYCz5",
    "outputId": "d63d877e-2d4b-464f-ef40-99ab4a501724"
   },
   "outputs": [
    {
     "output_type": "stream",
     "name": "stdout",
     "text": [
      "[[[0. 0. 0. ... 0. 0. 0.]\n",
      "  [0. 0. 0. ... 0. 0. 0.]\n",
      "  [0. 0. 0. ... 0. 0. 0.]\n",
      "  ...\n",
      "  [0. 0. 0. ... 0. 0. 0.]\n",
      "  [0. 0. 0. ... 0. 0. 0.]\n",
      "  [0. 0. 0. ... 0. 0. 0.]]\n",
      "\n",
      " [[0. 0. 0. ... 0. 0. 0.]\n",
      "  [0. 0. 1. ... 0. 0. 0.]\n",
      "  [0. 0. 0. ... 0. 0. 0.]\n",
      "  ...\n",
      "  [0. 0. 0. ... 0. 0. 0.]\n",
      "  [0. 0. 1. ... 0. 0. 0.]\n",
      "  [0. 0. 1. ... 0. 0. 0.]]\n",
      "\n",
      " [[0. 0. 1. ... 0. 0. 0.]\n",
      "  [0. 0. 0. ... 0. 0. 0.]\n",
      "  [0. 0. 1. ... 0. 0. 0.]\n",
      "  ...\n",
      "  [0. 0. 1. ... 0. 0. 0.]\n",
      "  [0. 0. 1. ... 0. 0. 0.]\n",
      "  [0. 0. 0. ... 0. 0. 0.]]\n",
      "\n",
      " ...\n",
      "\n",
      " [[0. 0. 1. ... 0. 0. 0.]\n",
      "  [0. 0. 0. ... 0. 0. 0.]\n",
      "  [0. 0. 0. ... 0. 0. 0.]\n",
      "  ...\n",
      "  [0. 0. 0. ... 0. 0. 0.]\n",
      "  [0. 0. 0. ... 0. 0. 0.]\n",
      "  [0. 0. 1. ... 0. 0. 0.]]\n",
      "\n",
      " [[1. 0. 0. ... 0. 0. 0.]\n",
      "  [1. 0. 0. ... 0. 0. 0.]\n",
      "  [1. 0. 0. ... 0. 0. 0.]\n",
      "  ...\n",
      "  [0. 0. 0. ... 0. 0. 0.]\n",
      "  [0. 0. 0. ... 0. 0. 0.]\n",
      "  [0. 0. 1. ... 0. 0. 0.]]\n",
      "\n",
      " [[1. 0. 0. ... 0. 0. 0.]\n",
      "  [1. 0. 0. ... 0. 0. 0.]\n",
      "  [1. 0. 0. ... 0. 0. 0.]\n",
      "  ...\n",
      "  [0. 0. 0. ... 0. 0. 0.]\n",
      "  [0. 0. 0. ... 0. 0. 0.]\n",
      "  [0. 0. 1. ... 0. 0. 0.]]]\n",
      "[0. 0. 0. 0. 0. 0. 0. 0. 0. 0. 1. 0.]\n",
      "1.0\n",
      "Model: \"sequential\"\n",
      "_________________________________________________________________\n",
      " Layer (type)                Output Shape              Param #   \n",
      "=================================================================\n",
      " simple_rnn (SimpleRNN)      (None, 8)                 4072      \n",
      "                                                                 \n",
      " dense (Dense)               (None, 1)                 9         \n",
      "                                                                 \n",
      "=================================================================\n",
      "Total params: 4,081\n",
      "Trainable params: 4,081\n",
      "Non-trainable params: 0\n",
      "_________________________________________________________________\n",
      "7.62939453125 3814.697265625\n"
     ]
    }
   ],
   "source": [
    "'''순환 신경망 만들기'''\n",
    "from tensorflow import keras\n",
    "model = keras.Sequential()\n",
    "model.add(keras.layers.SimpleRNN(8, input_shape = (100,500))) # 500개의 단어에 대한 원-핫 인코딩을 적용하기 때문에, 배열의 길이가 500이여야 함.\n",
    "model.add(keras.layers.Dense(1, activation='sigmoid'))\n",
    "\n",
    "# 원-핫 인코딩: 훈련셋\n",
    "train_oh = keras.utils.to_categorical(train_seq)\n",
    "print(train_oh)\n",
    "print(train_oh[0][0][:12])\n",
    "print(np.sum(train_oh[0][0]))\n",
    "\n",
    "# 원-핫 인코딩: 검증셋\n",
    "val_oh = keras.utils.to_categorical(val_seq)\n",
    "\n",
    "# 모델 정보 요약\n",
    "model.summary()\n",
    "\n",
    "# 원-핫 인코딩된 데이터와 인코딩 전 데이터의 크기 측정\n",
    "print((train_seq.nbytes/1024/1024), (train_oh.nbytes/1024/1024))"
   ]
  },
  {
   "cell_type": "code",
   "execution_count": null,
   "metadata": {
    "colab": {
     "base_uri": "https://localhost:8080/",
     "height": 1000
    },
    "id": "qh1RfipOYCz5",
    "outputId": "9fd6cf14-b48d-46e9-b980-dc7166632bf2"
   },
   "outputs": [
    {
     "output_type": "stream",
     "name": "stdout",
     "text": [
      "Epoch 1/100\n",
      "313/313 [==============================] - 15s 43ms/step - loss: 0.6976 - accuracy: 0.4992 - val_loss: 0.6967 - val_accuracy: 0.5010\n",
      "Epoch 2/100\n",
      "313/313 [==============================] - 13s 41ms/step - loss: 0.6914 - accuracy: 0.5272 - val_loss: 0.6912 - val_accuracy: 0.5318\n",
      "Epoch 3/100\n",
      "313/313 [==============================] - 13s 41ms/step - loss: 0.6849 - accuracy: 0.5617 - val_loss: 0.6843 - val_accuracy: 0.5638\n",
      "Epoch 4/100\n",
      "313/313 [==============================] - 13s 41ms/step - loss: 0.6782 - accuracy: 0.5949 - val_loss: 0.6781 - val_accuracy: 0.5944\n",
      "Epoch 5/100\n",
      "313/313 [==============================] - 14s 45ms/step - loss: 0.6712 - accuracy: 0.6251 - val_loss: 0.6720 - val_accuracy: 0.6214\n",
      "Epoch 6/100\n",
      "313/313 [==============================] - 13s 41ms/step - loss: 0.6638 - accuracy: 0.6492 - val_loss: 0.6639 - val_accuracy: 0.6476\n",
      "Epoch 7/100\n",
      "313/313 [==============================] - 13s 41ms/step - loss: 0.6562 - accuracy: 0.6701 - val_loss: 0.6565 - val_accuracy: 0.6682\n",
      "Epoch 8/100\n",
      "313/313 [==============================] - 13s 41ms/step - loss: 0.6478 - accuracy: 0.6877 - val_loss: 0.6492 - val_accuracy: 0.6784\n",
      "Epoch 9/100\n",
      "313/313 [==============================] - 13s 41ms/step - loss: 0.6389 - accuracy: 0.7012 - val_loss: 0.6410 - val_accuracy: 0.6860\n",
      "Epoch 10/100\n",
      "313/313 [==============================] - 13s 41ms/step - loss: 0.6299 - accuracy: 0.7115 - val_loss: 0.6315 - val_accuracy: 0.7010\n",
      "Epoch 11/100\n",
      "313/313 [==============================] - 13s 41ms/step - loss: 0.6200 - accuracy: 0.7204 - val_loss: 0.6222 - val_accuracy: 0.7112\n",
      "Epoch 12/100\n",
      "313/313 [==============================] - 13s 41ms/step - loss: 0.6097 - accuracy: 0.7294 - val_loss: 0.6123 - val_accuracy: 0.7176\n",
      "Epoch 13/100\n",
      "313/313 [==============================] - 13s 41ms/step - loss: 0.5992 - accuracy: 0.7365 - val_loss: 0.6020 - val_accuracy: 0.7278\n",
      "Epoch 14/100\n",
      "313/313 [==============================] - 13s 41ms/step - loss: 0.5870 - accuracy: 0.7438 - val_loss: 0.5916 - val_accuracy: 0.7278\n",
      "Epoch 15/100\n",
      "313/313 [==============================] - 13s 41ms/step - loss: 0.5748 - accuracy: 0.7509 - val_loss: 0.5815 - val_accuracy: 0.7340\n",
      "Epoch 16/100\n",
      "313/313 [==============================] - 13s 41ms/step - loss: 0.5627 - accuracy: 0.7560 - val_loss: 0.5685 - val_accuracy: 0.7420\n",
      "Epoch 17/100\n",
      "313/313 [==============================] - 13s 41ms/step - loss: 0.5500 - accuracy: 0.7588 - val_loss: 0.5568 - val_accuracy: 0.7490\n",
      "Epoch 18/100\n",
      "313/313 [==============================] - 13s 41ms/step - loss: 0.5383 - accuracy: 0.7632 - val_loss: 0.5437 - val_accuracy: 0.7568\n",
      "Epoch 19/100\n",
      "313/313 [==============================] - 13s 41ms/step - loss: 0.5268 - accuracy: 0.7672 - val_loss: 0.5360 - val_accuracy: 0.7542\n",
      "Epoch 20/100\n",
      "313/313 [==============================] - 13s 41ms/step - loss: 0.5153 - accuracy: 0.7729 - val_loss: 0.5259 - val_accuracy: 0.7624\n",
      "Epoch 21/100\n",
      "313/313 [==============================] - 13s 41ms/step - loss: 0.5053 - accuracy: 0.7783 - val_loss: 0.5188 - val_accuracy: 0.7610\n",
      "Epoch 22/100\n",
      "313/313 [==============================] - 13s 41ms/step - loss: 0.4976 - accuracy: 0.7796 - val_loss: 0.5161 - val_accuracy: 0.7606\n",
      "Epoch 23/100\n",
      "313/313 [==============================] - 13s 41ms/step - loss: 0.4906 - accuracy: 0.7821 - val_loss: 0.5064 - val_accuracy: 0.7676\n",
      "Epoch 24/100\n",
      "313/313 [==============================] - 13s 41ms/step - loss: 0.4843 - accuracy: 0.7843 - val_loss: 0.5016 - val_accuracy: 0.7668\n",
      "Epoch 25/100\n",
      "313/313 [==============================] - 13s 41ms/step - loss: 0.4783 - accuracy: 0.7889 - val_loss: 0.4987 - val_accuracy: 0.7680\n",
      "Epoch 26/100\n",
      "313/313 [==============================] - 13s 41ms/step - loss: 0.4742 - accuracy: 0.7903 - val_loss: 0.4955 - val_accuracy: 0.7726\n",
      "Epoch 27/100\n",
      "313/313 [==============================] - 13s 41ms/step - loss: 0.4697 - accuracy: 0.7918 - val_loss: 0.4941 - val_accuracy: 0.7706\n",
      "Epoch 28/100\n",
      "313/313 [==============================] - 13s 41ms/step - loss: 0.4660 - accuracy: 0.7929 - val_loss: 0.4956 - val_accuracy: 0.7690\n",
      "Epoch 29/100\n",
      "313/313 [==============================] - 13s 41ms/step - loss: 0.4626 - accuracy: 0.7942 - val_loss: 0.4935 - val_accuracy: 0.7724\n",
      "Epoch 30/100\n",
      "313/313 [==============================] - 13s 41ms/step - loss: 0.4603 - accuracy: 0.7964 - val_loss: 0.4883 - val_accuracy: 0.7752\n",
      "Epoch 31/100\n",
      "313/313 [==============================] - 13s 41ms/step - loss: 0.4563 - accuracy: 0.7983 - val_loss: 0.4849 - val_accuracy: 0.7764\n",
      "Epoch 32/100\n",
      "313/313 [==============================] - 13s 41ms/step - loss: 0.4533 - accuracy: 0.7992 - val_loss: 0.4846 - val_accuracy: 0.7790\n",
      "Epoch 33/100\n",
      "313/313 [==============================] - 19s 62ms/step - loss: 0.4509 - accuracy: 0.8017 - val_loss: 0.4831 - val_accuracy: 0.7800\n",
      "Epoch 34/100\n",
      "313/313 [==============================] - 13s 41ms/step - loss: 0.4487 - accuracy: 0.8023 - val_loss: 0.4816 - val_accuracy: 0.7798\n",
      "Epoch 35/100\n",
      "313/313 [==============================] - 13s 41ms/step - loss: 0.4465 - accuracy: 0.8037 - val_loss: 0.4805 - val_accuracy: 0.7810\n",
      "Epoch 36/100\n",
      "313/313 [==============================] - 13s 42ms/step - loss: 0.4433 - accuracy: 0.8056 - val_loss: 0.4796 - val_accuracy: 0.7780\n",
      "Epoch 37/100\n",
      "313/313 [==============================] - 13s 41ms/step - loss: 0.4416 - accuracy: 0.8069 - val_loss: 0.4799 - val_accuracy: 0.7786\n",
      "Epoch 38/100\n",
      "313/313 [==============================] - 13s 41ms/step - loss: 0.4394 - accuracy: 0.8081 - val_loss: 0.4776 - val_accuracy: 0.7792\n",
      "Epoch 39/100\n",
      "313/313 [==============================] - 13s 41ms/step - loss: 0.4375 - accuracy: 0.8100 - val_loss: 0.4764 - val_accuracy: 0.7806\n",
      "Epoch 40/100\n",
      "313/313 [==============================] - 13s 41ms/step - loss: 0.4362 - accuracy: 0.8101 - val_loss: 0.4784 - val_accuracy: 0.7764\n",
      "Epoch 41/100\n",
      "313/313 [==============================] - 14s 44ms/step - loss: 0.4340 - accuracy: 0.8112 - val_loss: 0.4765 - val_accuracy: 0.7766\n",
      "Epoch 42/100\n",
      "313/313 [==============================] - 13s 41ms/step - loss: 0.4326 - accuracy: 0.8110 - val_loss: 0.4751 - val_accuracy: 0.7794\n",
      "Epoch 43/100\n",
      "313/313 [==============================] - 13s 41ms/step - loss: 0.4311 - accuracy: 0.8127 - val_loss: 0.4736 - val_accuracy: 0.7772\n",
      "Epoch 44/100\n",
      "313/313 [==============================] - 13s 41ms/step - loss: 0.4295 - accuracy: 0.8128 - val_loss: 0.4750 - val_accuracy: 0.7772\n",
      "Epoch 45/100\n",
      "313/313 [==============================] - 13s 42ms/step - loss: 0.4278 - accuracy: 0.8148 - val_loss: 0.4768 - val_accuracy: 0.7784\n",
      "Epoch 46/100\n",
      "313/313 [==============================] - 13s 41ms/step - loss: 0.4260 - accuracy: 0.8147 - val_loss: 0.4744 - val_accuracy: 0.7774\n"
     ]
    },
    {
     "output_type": "display_data",
     "data": {
      "image/png": "[encoded data removed]",
      "text/plain": [
       "<Figure size 432x288 with 1 Axes>"
      ]
     },
     "metadata": {
      "needs_background": "light"
     }
    }
   ],
   "source": [
    "'''순환 신경망 훈련하기'''\n",
    "rmsprop = keras.optimizers.RMSprop(learning_rate = 1e-4)\n",
    "model.compile(optimizer=rmsprop, loss='binary_crossentropy', metrics = ['accuracy'])\n",
    "checkpoint_cb = keras.callbacks.ModelCheckpoint('best-simplernn-model.h5', save_best_only=True)\n",
    "early_stopping_cb = keras.callbacks.EarlyStopping(patience=3, restore_best_weights=True)\n",
    "history = model.fit(train_oh, train_target, epochs=100, batch_size=64, validation_data = (val_oh, val_target), callbacks = [checkpoint_cb, early_stopping_cb]) \n",
    "# 결과 시각화\n",
    "plt.plot(history.history['loss'])\n",
    "plt.plot(history.history['val_loss'])\n",
    "plt.xlabel('epoch')\n",
    "plt.ylabel('loss')\n",
    "plt.legend(['train','val'])\n",
    "plt.show()"
   ]
  },
  {
   "cell_type": "code",
   "execution_count": null,
   "metadata": {
    "colab": {
     "base_uri": "https://localhost:8080/"
    },
    "id": "lyD43mdnYCz5",
    "outputId": "57310a30-0fe0-46de-b6ec-4d3dc3a2bd28"
   },
   "outputs": [
    {
     "output_type": "stream",
     "name": "stdout",
     "text": [
      "Model: \"sequential_1\"\n",
      "_________________________________________________________________\n",
      " Layer (type)                Output Shape              Param #   \n",
      "=================================================================\n",
      " embedding (Embedding)       (None, 100, 16)           8000      \n",
      "                                                                 \n",
      " simple_rnn_1 (SimpleRNN)    (None, 8)                 200       \n",
      "                                                                 \n",
      " dense_1 (Dense)             (None, 1)                 9         \n",
      "                                                                 \n",
      "=================================================================\n",
      "Total params: 8,209\n",
      "Trainable params: 8,209\n",
      "Non-trainable params: 0\n",
      "_________________________________________________________________\n",
      "None\n"
     ]
    }
   ],
   "source": [
    "'''단어 임베딩 사용한 모델 생성하기'''\n",
    "# 각 단어를 실수값의 배열로 변환해 줌.\n",
    "model2 = keras.Sequential()\n",
    "model2.add(keras.layers.Embedding(500,16,input_length=100))\n",
    "model2.add(keras.layers.SimpleRNN(8))\n",
    "model2.add(keras.layers.Dense(1, activation = 'sigmoid'))\n",
    "# 생성한 모델 시각화\n",
    "print(model2.summary())"
   ]
  },
  {
   "cell_type": "code",
   "execution_count": null,
   "metadata": {
    "colab": {
     "base_uri": "https://localhost:8080/",
     "height": 1000
    },
    "id": "QNNVYwiZYCz6",
    "outputId": "22f6754e-dc61-47f0-c06f-622e6a9b4347"
   },
   "outputs": [
    {
     "output_type": "stream",
     "name": "stdout",
     "text": [
      "Epoch 1/100\n",
      "313/313 [==============================] - 9s 25ms/step - loss: 0.6977 - accuracy: 0.5009 - val_loss: 0.6956 - val_accuracy: 0.5090\n",
      "Epoch 2/100\n",
      "313/313 [==============================] - 8s 24ms/step - loss: 0.6919 - accuracy: 0.5199 - val_loss: 0.6925 - val_accuracy: 0.5190\n",
      "Epoch 3/100\n",
      "313/313 [==============================] - 7s 24ms/step - loss: 0.6874 - accuracy: 0.5423 - val_loss: 0.6901 - val_accuracy: 0.5296\n",
      "Epoch 4/100\n",
      "313/313 [==============================] - 7s 24ms/step - loss: 0.6832 - accuracy: 0.5619 - val_loss: 0.6882 - val_accuracy: 0.5400\n",
      "Epoch 5/100\n",
      "313/313 [==============================] - 7s 24ms/step - loss: 0.6790 - accuracy: 0.5753 - val_loss: 0.6864 - val_accuracy: 0.5516\n",
      "Epoch 6/100\n",
      "313/313 [==============================] - 7s 23ms/step - loss: 0.6744 - accuracy: 0.5911 - val_loss: 0.6843 - val_accuracy: 0.5516\n",
      "Epoch 7/100\n",
      "313/313 [==============================] - 8s 24ms/step - loss: 0.6696 - accuracy: 0.6022 - val_loss: 0.6821 - val_accuracy: 0.5550\n",
      "Epoch 8/100\n",
      "313/313 [==============================] - 8s 24ms/step - loss: 0.6645 - accuracy: 0.6131 - val_loss: 0.6796 - val_accuracy: 0.5674\n",
      "Epoch 9/100\n",
      "313/313 [==============================] - 7s 24ms/step - loss: 0.6587 - accuracy: 0.6227 - val_loss: 0.6764 - val_accuracy: 0.5712\n",
      "Epoch 10/100\n",
      "313/313 [==============================] - 7s 24ms/step - loss: 0.6518 - accuracy: 0.6340 - val_loss: 0.6695 - val_accuracy: 0.5836\n",
      "Epoch 11/100\n",
      "313/313 [==============================] - 7s 24ms/step - loss: 0.6437 - accuracy: 0.6489 - val_loss: 0.6622 - val_accuracy: 0.6018\n",
      "Epoch 12/100\n",
      "313/313 [==============================] - 7s 24ms/step - loss: 0.6342 - accuracy: 0.6656 - val_loss: 0.6525 - val_accuracy: 0.6182\n",
      "Epoch 13/100\n",
      "313/313 [==============================] - 7s 24ms/step - loss: 0.6239 - accuracy: 0.6775 - val_loss: 0.6446 - val_accuracy: 0.6348\n",
      "Epoch 14/100\n",
      "313/313 [==============================] - 7s 24ms/step - loss: 0.6139 - accuracy: 0.6878 - val_loss: 0.6368 - val_accuracy: 0.6436\n",
      "Epoch 15/100\n",
      "313/313 [==============================] - 8s 24ms/step - loss: 0.6043 - accuracy: 0.6952 - val_loss: 0.6316 - val_accuracy: 0.6530\n",
      "Epoch 16/100\n",
      "313/313 [==============================] - 7s 24ms/step - loss: 0.5955 - accuracy: 0.7003 - val_loss: 0.6244 - val_accuracy: 0.6538\n",
      "Epoch 17/100\n",
      "313/313 [==============================] - 7s 23ms/step - loss: 0.5876 - accuracy: 0.7024 - val_loss: 0.6205 - val_accuracy: 0.6596\n",
      "Epoch 18/100\n",
      "313/313 [==============================] - 8s 24ms/step - loss: 0.5805 - accuracy: 0.7068 - val_loss: 0.6174 - val_accuracy: 0.6630\n",
      "Epoch 19/100\n",
      "313/313 [==============================] - 7s 24ms/step - loss: 0.5740 - accuracy: 0.7100 - val_loss: 0.6138 - val_accuracy: 0.6626\n",
      "Epoch 20/100\n",
      "313/313 [==============================] - 7s 23ms/step - loss: 0.5681 - accuracy: 0.7150 - val_loss: 0.6108 - val_accuracy: 0.6674\n",
      "Epoch 21/100\n",
      "313/313 [==============================] - 7s 23ms/step - loss: 0.5632 - accuracy: 0.7164 - val_loss: 0.6086 - val_accuracy: 0.6680\n",
      "Epoch 22/100\n",
      "313/313 [==============================] - 7s 23ms/step - loss: 0.5585 - accuracy: 0.7193 - val_loss: 0.6072 - val_accuracy: 0.6686\n",
      "Epoch 23/100\n",
      "313/313 [==============================] - 7s 23ms/step - loss: 0.5543 - accuracy: 0.7226 - val_loss: 0.6061 - val_accuracy: 0.6730\n",
      "Epoch 24/100\n",
      "313/313 [==============================] - 7s 23ms/step - loss: 0.5504 - accuracy: 0.7230 - val_loss: 0.6055 - val_accuracy: 0.6700\n",
      "Epoch 25/100\n",
      "313/313 [==============================] - 7s 23ms/step - loss: 0.5469 - accuracy: 0.7284 - val_loss: 0.6044 - val_accuracy: 0.6738\n",
      "Epoch 26/100\n",
      "313/313 [==============================] - 7s 24ms/step - loss: 0.5434 - accuracy: 0.7308 - val_loss: 0.6022 - val_accuracy: 0.6764\n",
      "Epoch 27/100\n",
      "313/313 [==============================] - 8s 24ms/step - loss: 0.5399 - accuracy: 0.7345 - val_loss: 0.6098 - val_accuracy: 0.6616\n",
      "Epoch 28/100\n",
      "313/313 [==============================] - 8s 24ms/step - loss: 0.5371 - accuracy: 0.7352 - val_loss: 0.6024 - val_accuracy: 0.6736\n",
      "Epoch 29/100\n",
      "313/313 [==============================] - 8s 24ms/step - loss: 0.5342 - accuracy: 0.7373 - val_loss: 0.5997 - val_accuracy: 0.6742\n",
      "Epoch 30/100\n",
      "313/313 [==============================] - 8s 25ms/step - loss: 0.5313 - accuracy: 0.7391 - val_loss: 0.5993 - val_accuracy: 0.6742\n",
      "Epoch 31/100\n",
      "313/313 [==============================] - 8s 24ms/step - loss: 0.5285 - accuracy: 0.7418 - val_loss: 0.6000 - val_accuracy: 0.6782\n",
      "Epoch 32/100\n",
      "313/313 [==============================] - 8s 24ms/step - loss: 0.5260 - accuracy: 0.7437 - val_loss: 0.5995 - val_accuracy: 0.6746\n",
      "Epoch 33/100\n",
      "313/313 [==============================] - 8s 24ms/step - loss: 0.5234 - accuracy: 0.7453 - val_loss: 0.5998 - val_accuracy: 0.6796\n"
     ]
    },
    {
     "output_type": "display_data",
     "data": {
      "image/png": "[encoded data removed]",
      "text/plain": [
       "<Figure size 432x288 with 1 Axes>"
      ]
     },
     "metadata": {
      "needs_background": "light"
     }
    }
   ],
   "source": [
    "'''신경 순환망 훈련하기'''\n",
    "rmsprop = keras.optimizers.RMSprop(learning_rate = 1e-4)\n",
    "model2.compile(optimizer=rmsprop, loss='binary_crossentropy', metrics=['accuracy'])\n",
    "checkpoint_cb = keras.callbacks.ModelCheckpoint('best-embedding-model.h5', save_best_only=True)\n",
    "early_stopping_cb = keras.callbacks.EarlyStopping(patience=3, restore_best_weights=True)\n",
    "history = model2.fit(train_seq, train_target, epochs=100, batch_size=64, validation_data = (val_seq, val_target), callbacks = [checkpoint_cb, early_stopping_cb])\n",
    "\n",
    "# 결과 시각화\n",
    "plt.plot(history.history['loss'])\n",
    "plt.plot(history.history['val_loss'])\n",
    "plt.xlabel('epoch')\n",
    "plt.ylabel('loss')\n",
    "plt.legend(['train','val'])\n",
    "plt.show()"
   ]
  }
 ],
 "metadata": {
  "accelerator": "TPU",
  "colab": {
   "name": "9.2. 순환 신경망으로 IMDB 리뷰 분류하기.ipynb의 사본",
   "provenance": [],
   "collapsed_sections": []
  },
  "kernelspec": {
   "display_name": "Python 3",
   "language": "python",
   "name": "python3"
  },
  "language_info": {
   "codemirror_mode": {
    "name": "ipython",
    "version": 2
   },
   "file_extension": ".py",
   "mimetype": "text/x-python",
   "name": "python",
   "nbconvert_exporter": "python",
   "pygments_lexer": "ipython2",
   "version": "2.7.6"
  }
 },
 "nbformat": 4,
 "nbformat_minor": 0
}