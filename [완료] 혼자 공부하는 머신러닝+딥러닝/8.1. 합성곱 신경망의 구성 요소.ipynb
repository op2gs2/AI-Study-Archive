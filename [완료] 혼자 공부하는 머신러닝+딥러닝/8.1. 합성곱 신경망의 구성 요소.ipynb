{
 "cells": [
  {
   "cell_type": "markdown",
   "metadata": {
    "collapsed": true,
    "pycharm": {
     "name": "#%% md\n"
    }
   },
   "source": [
    "## 개념 정리\n",
    "### 용어 정리\n",
    "- 합성곱\n",
    "    - 밀집층과 비슷하게 입력과 가중치를 곱하고 절편을 더하는 선형계산\n",
    "    - 합성곱은 입력의 일부만 사용하여, 가중치의 크기 만큼만을 계산함\n",
    "    - 합성곱은 하나의 층으로 간주된다.\n",
    "    - 정리\n",
    "        - 밀집층의 입력과 가중치는 1차원이지만, 합성곱은 다차원이고, 가중치의 크기에 맞춰 계산이 이루어진다.\n",
    "        - 그리고 다음 칸으로 가중치가 이동하여 계산을 이어나간다. 이것을 입력의 모든 부분을 계산이 끝날때까지 반복한다.\n",
    "- 필터 = 커널 = 뉴런\n",
    "    - 밀집층의 뉴런에 해당.\n",
    "    - 필터: 뉴런의 갯수\n",
    "    - 커널: 입력에 곱해지는 가중치\n",
    "    - 자주 사용되는 커널의 크기는 (3,3) or (5,5)\n",
    "- 특성맵\n",
    "    - 합성곱층이나 풀링층의 출력 배열을 의미함\n",
    "    - 필터 하나가, 하나의 특성맵을 만듬\n",
    "    - 합성곱층에서 5개의 필터를 적용하면 5개의 특성맵이 만들어짐\n",
    "- 패딩\n",
    "    - 합성곱층의 입력 주위에 추가한, 0으로 채워진 공간\n",
    "    - Valid Padding: 패딩을 사용하지 않는 것\n",
    "    - Same Padding: 합성곱층의 출력 크기를 입력과 동일하게 만들기 위해 입력에 패딩을 추가하는 것\n",
    "- 스트라이드\n",
    "    - 합성곱층에서 필터가 입력 위를 이동하는 크기\n",
    "    - 기본적으로 스트라이드는 1픽셀이며, 고차원도 가능하다.\n",
    "- 풀링\n",
    "    - 가중치가 없고 특성맵의 가로세로 크기를 줄이는 역할을 수행\n",
    "    - 풀링은 겹치지 않고 이동함. 이는 가중치가 없고, 풀링 크기와 스트라이드가 같기 때문.\n",
    "    - 최대 풀링: 풀링 범위 안에서 최대값을 가지는 입력값만을 뽑아내는것\n",
    "    - 평균 풀링: 풀링 범위 안에서 입력값의 평균을 구하는 것\n",
    "    - 풀링의 크기는 너비와 높이인 2개의 정수로 이뤄줘야 함. 보통은 (2,2) 풀링으로 입력을 줄이는데 사용함.\n",
    "- 합성곱 신경망의 일반적인 구조\n",
    "    - 입럭 -> 합성곱 층 -> 풀링증 -> 밀집층\n",
    "    - 합성곱층에서 커널과 절편을 곱하고, 활성화함수를 통과함\n",
    "    - 풀링층을 통해 입력의 크기를 줄임 (보통 최대 풀링을 사용함)\n",
    "    - 이후 과정은 이전의 신경망구조와 동일\n",
    "- 컬러 이미지를 사용한 합성곱\n",
    "    - 컬러이미지는 R,G,B로 표현됨. 즉, 하나의 색을 3개의 값을 이용해 표현하기에 또 다른 차원이 필요함.\n",
    "    - 이것을 깊이(채널)이라 부르며, 컬러이미지는 3차원 배열의 형태를 가지게 됨.\n",
    "    - 따라서 합성곱의 커널의 깊이는 항상 입력의 깊이와 동일하며, 합성곱의 결과로 하나의 출력만을 가지게 됨."
   ],
   "outputs": [
    {
     "ename": "NameError",
     "evalue": "name '합성곱' is not defined",
     "output_type": "error",
     "traceback": [
      "\u001B[1;31m---------------------------------------------------------------------------\u001B[0m",
      "\u001B[1;31mNameError\u001B[0m                                 Traceback (most recent call last)",
      "Input \u001B[1;32mIn [1]\u001B[0m, in \u001B[0;36m<module>\u001B[1;34m\u001B[0m\n\u001B[0;32m      1\u001B[0m \u001B[38;5;66;03m## 개념 정리\u001B[39;00m\n\u001B[0;32m      2\u001B[0m \u001B[38;5;66;03m### 용어 정리\u001B[39;00m\n\u001B[1;32m----> 3\u001B[0m \u001B[38;5;241m-\u001B[39m \u001B[43m합성곱\u001B[49m\n",
      "\u001B[1;31mNameError\u001B[0m: name '합성곱' is not defined"
     ]
    }
   ],
   "execution_count": 1
  },
  {
   "cell_type": "code",
   "execution_count": 4,
   "outputs": [
    {
     "data": {
      "text/plain": "<keras.layers.pooling.AveragePooling2D at 0x1e60dfd2790>"
     },
     "execution_count": 4,
     "metadata": {},
     "output_type": "execute_result"
    }
   ],
   "source": [
    "'''핵심 패키지와 함수(Tensorflow)'''\n",
    "from tensorflow import keras\n",
    "# 케라스 합성곱 층\n",
    "keras.layers.Conv2D(10, kernel_size = (3,3), activation = 'relu') # 필터(뉴런)의 갯수, 커널(가중치)의 크기, 활성화함수 지정\n",
    "# 합성곱층에서, Same Padding 사용\n",
    "keras.layers.Conv2D(10, kernel_size = (3,3), activation = 'relu', padding = 'same') # 필터(뉴런)의 갯수, 커널(가중치)의 크기, 활성화함수 지정, 패딩의 종류(valid/same) 지정 (valid가 기본값)\n",
    "# 합성곱층에서, 스트라이드 사용\n",
    "keras.layers.Conv2D(10, kernel_size = (3,3), activation = 'relu', strides = 1) # 필터(뉴런)의 갯수, 커널(가중치)의 크기, 활성화함수 지정, 스트라이드값 지정 (기본값은 1)\n",
    "\n",
    "# 케라스 최대 풀링 층\n",
    "keras.layers.MaxPooling2D(2) # 풀링 크기\n",
    "# 케라스 평균 풀링 층\n",
    "keras.layers.AveragePooling2D(2) # 풀링 크기"
   ],
   "metadata": {
    "collapsed": false,
    "pycharm": {
     "name": "#%%\n"
    }
   }
  },
  {
   "cell_type": "code",
   "execution_count": null,
   "outputs": [],
   "source": [],
   "metadata": {
    "collapsed": false,
    "pycharm": {
     "name": "#%%\n"
    }
   }
  }
 ],
 "metadata": {
  "kernelspec": {
   "display_name": "Python 3",
   "language": "python",
   "name": "python3"
  },
  "language_info": {
   "codemirror_mode": {
    "name": "ipython",
    "version": 2
   },
   "file_extension": ".py",
   "mimetype": "text/x-python",
   "name": "python",
   "nbconvert_exporter": "python",
   "pygments_lexer": "ipython2",
   "version": "2.7.6"
  }
 },
 "nbformat": 4,
 "nbformat_minor": 0
}