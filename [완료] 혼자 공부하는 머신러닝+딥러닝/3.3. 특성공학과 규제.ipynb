{
 "cells": [
  {
   "cell_type": "markdown",
   "metadata": {
    "collapsed": true
   },
   "source": [
    "## 개념 정리\n",
    "### 용어 정리\n",
    "- 다중회귀: 여러 개의 특성을 사용한 선형 회귀. 특성이 많으면 성능이 좋아지나, 과대적합의 위험성 또한 존재함.\n",
    "- 특성공학: 기존의 특성을 활용해 새로운 특성을 뽑아내는 작업\n",
    "- 규제: 모델이 과도하게 학습되는 것을 방지하는 역할 -> 과대적합 방지\n",
    "    - 예시) 선형모델의 규제는, 특성에 곱해지는 계수나 기울기를 작게 만드는 것\n",
    "- 릿지 회귀: 계수를 제곱한 값을 기준으로 규제를 적용\n",
    "- 라쏘 회귀: 계수의 절대값을 기준으로 규체를 적용\n",
    "    - 알파값에 따라, 규제의 정도를 조절할 수 있음. \n",
    "        - 값이 크면 계수를 더 줄이고 괴소적합이 되도록 유도함. \n",
    "        - 값이 작으면 계수를 줄이는 역할이 줄어들고 과대적합될 가능성이 높아짐\n",
    "    - 적절한 알파값은 알파값에 대한 R^2을 직접 그려보면서 찾아야 함\n",
    "\n",
    "### 핵심 패키지와 함수 (pandas)\n",
    "- read_csv()\n",
    "    - CSV 파일을 로컬, 네트워크에서 읽어 Pandas DataFrame으로 변환하는 함수\n",
    "    - sep: CSV 파일의 구분자를 지정. 기본값은 콤마(,).\n",
    "    - header: DataFrame의 열 이름으로 사용할 CSV파일의 행 번호를 지정. 기본적으로 첫번째 행을 열이름으로 사용.\n",
    "    - skiprows: 파일에서 읽기 전에 건너뛸 행의 갯수를 지정.\n",
    "    - nrows: 파일에서 읽을 행의 갯수를 지정.\n",
    "\n",
    "### 핵심 패키지와 함수 (sklearn)\n",
    "- 변환기: 특성을 만들거나 전처리하기 위한 sklearn클래스들\n",
    "    - fit(): 새롭게 만들 특성 조합을 찾음\n",
    "    - transform(): 실제로 데이터를 변환\n",
    "- PolynomialFeatures\n",
    "    - 주어진 특성을 조합하여 새로운 특성을 만듦\n",
    "    - degree: 최고차수를 지정함. 기본값은 2.\n",
    "    - include_bias: False이면, 절편을 위한 특성을 추가하지 않음. 기본값은 True.\n",
    "- Ridge / Lasso\n",
    "    - alpha: 규제의 강도를 조절. 값이 클수록 규제가 강해짐\n",
    "    - random_state: numpy 난수 시드값을 지정할 수 있음\n",
    "    - max_iter: 알고리즘의 수행 반복 횟수를 지정. 기본값은 1000. (Lasso만 존재)"
   ]
  },
  {
   "cell_type": "code",
   "execution_count": 20,
   "metadata": {
    "collapsed": false,
    "pycharm": {
     "name": "#%%\n"
    }
   },
   "outputs": [
    {
     "name": "stdout",
     "output_type": "stream",
     "text": [
      "[[ 8.4   2.11  1.41]\n",
      " [13.7   3.53  2.  ]\n",
      " [15.    3.82  2.43]\n",
      " [16.2   4.59  2.63]\n",
      " [17.4   4.59  2.94]\n",
      " [18.    5.22  3.32]\n",
      " [18.7   5.2   3.12]\n",
      " [19.    5.64  3.05]\n",
      " [19.6   5.14  3.04]\n",
      " [20.    5.08  2.77]\n",
      " [21.    5.69  3.56]\n",
      " [21.    5.92  3.31]\n",
      " [21.    5.69  3.67]\n",
      " [21.3   6.38  3.53]\n",
      " [22.    6.11  3.41]\n",
      " [22.    5.64  3.52]\n",
      " [22.    6.11  3.52]\n",
      " [22.    5.88  3.52]\n",
      " [22.    5.52  4.  ]\n",
      " [22.5   5.86  3.62]\n",
      " [22.5   6.79  3.62]\n",
      " [22.7   5.95  3.63]\n",
      " [23.    5.22  3.63]\n",
      " [23.5   6.28  3.72]\n",
      " [24.    7.29  3.72]\n",
      " [24.    6.38  3.82]\n",
      " [24.6   6.73  4.17]\n",
      " [25.    6.44  3.68]\n",
      " [25.6   6.56  4.24]\n",
      " [26.5   7.17  4.14]\n",
      " [27.3   8.32  5.14]\n",
      " [27.5   7.17  4.34]\n",
      " [27.5   7.05  4.34]\n",
      " [27.5   7.28  4.57]\n",
      " [28.    7.82  4.2 ]\n",
      " [28.7   7.59  4.64]\n",
      " [30.    7.62  4.77]\n",
      " [32.8  10.03  6.02]\n",
      " [34.5  10.26  6.39]\n",
      " [35.   11.49  7.8 ]\n",
      " [36.5  10.88  6.86]\n",
      " [36.   10.61  6.74]\n",
      " [37.   10.84  6.26]\n",
      " [37.   10.57  6.37]\n",
      " [39.   11.14  7.49]\n",
      " [39.   11.14  6.  ]\n",
      " [39.   12.43  7.35]\n",
      " [40.   11.93  7.11]\n",
      " [40.   11.73  7.22]\n",
      " [40.   12.38  7.46]\n",
      " [40.   11.14  6.63]\n",
      " [42.   12.8   6.87]\n",
      " [43.   11.93  7.28]\n",
      " [43.   12.51  7.42]\n",
      " [43.5  12.6   8.14]\n",
      " [44.   12.49  7.6 ]]\n"
     ]
    }
   ],
   "source": [
    "'''데이터 입력 받고, 분리하기'''\n",
    "import pandas as pd\n",
    "import numpy as np\n",
    "from sklearn.model_selection import train_test_split\n",
    "\n",
    "# pandas(read_csv)를 이용해 입력받기\n",
    "df = pd.read_csv('https://bit.ly/perch_csv_data')\n",
    "perch_full = df.to_numpy()\n",
    "print(perch_full)\n",
    "\n",
    "# 농어 무게 저장하기\n",
    "perch_weight = np.array([5.9, 32.0, 40.0, 51.5, 70.0, 100.0, 78.0, 80.0, 85.0, 85.0, 110.0,\n",
    "       115.0, 125.0, 130.0, 120.0, 120.0, 130.0, 135.0, 110.0, 130.0,\n",
    "       150.0, 145.0, 150.0, 170.0, 225.0, 145.0, 188.0, 180.0, 197.0,\n",
    "       218.0, 300.0, 260.0, 265.0, 250.0, 250.0, 300.0, 320.0, 514.0,\n",
    "       556.0, 840.0, 685.0, 700.0, 700.0, 690.0, 900.0, 650.0, 820.0,\n",
    "       850.0, 900.0, 1015.0, 820.0, 1100.0, 1000.0, 1100.0, 1000.0,\n",
    "       1000.0])\n",
    "\n",
    "# 학습셋, 테스트셋 분리하기\n",
    "train_input, test_input, train_target, test_target = train_test_split(perch_full, perch_weight, random_state=42)"
   ]
  },
  {
   "cell_type": "code",
   "execution_count": 15,
   "metadata": {
    "collapsed": false,
    "pycharm": {
     "name": "#%%\n"
    }
   },
   "outputs": [
    {
     "name": "stdout",
     "output_type": "stream",
     "text": [
      "[[1. 2. 3. 4. 6. 9.]]\n",
      "[[2. 3. 4. 6. 9.]]\n",
      "(42, 9)\n"
     ]
    }
   ],
   "source": [
    "'''데이터 변환하기: PolynomialFeatures'''\n",
    "from sklearn.preprocessing import PolynomialFeatures\n",
    "\n",
    "poly = PolynomialFeatures() # 특성을 제곱한 항과 특성끼리 곱한 항을 추가함\n",
    "poly.fit([[2,3]]) # 새롭게 만들 특성 조합을 찾음\n",
    "print(poly.transform([[2,3]])) # 실제 데이터를 변환\n",
    "\n",
    "# 특성 변환에서 1이 나타난 것은 절편값을 의미함.\n",
    "# include_bias = False를 이용하여, 절편값을 없앨 수 있음\n",
    "poly = PolynomialFeatures(include_bias=False)\n",
    "poly.fit([[2,3]])\n",
    "print(poly.transform([[2,3]]))\n",
    "\n",
    "# train_input의 특성을 변환\n",
    "poly = PolynomialFeatures(include_bias=False)\n",
    "poly.fit(train_input)\n",
    "train_poly = poly.transform(train_input)\n",
    "print(train_poly.shape)\n",
    "\n",
    "# 특성이 어떤 입력의 조합으로 만들어졌는지 알 수 있음\n",
    "poly.get_feature_names()\n",
    "\n",
    "# 테스트셋의 특성을 변환\n",
    "test_poly = poly.transform(test_input)"
   ]
  },
  {
   "cell_type": "code",
   "execution_count": 19,
   "metadata": {
    "collapsed": false,
    "pycharm": {
     "name": "#%%\n"
    }
   },
   "outputs": [
    {
     "name": "stdout",
     "output_type": "stream",
     "text": [
      "0.9999999999957028\n",
      "-144.40508211356158\n",
      "(42, 55)\n",
      "-144.40508211356158\n"
     ]
    }
   ],
   "source": [
    "# 다중 회귀 모델 훈련하기\n",
    "from sklearn.linear_model import LinearRegression\n",
    "LR = LinearRegression()\n",
    "LR.fit(train_poly, train_target)\n",
    "print(LR.score(train_poly, train_target))\n",
    "print(LR.score(test_poly, test_target))\n",
    "\n",
    "# 5제곱까지 특성을 변환\n",
    "poly = PolynomialFeatures(degree=5, include_bias=False)\n",
    "poly.fit(train_input)\n",
    "train_poly = poly.transform(train_input)\n",
    "test_poly = poly.transform(test_input)\n",
    "print(train_poly.shape)\n",
    "# 위에서 만든 특성을 이용해, 학습\n",
    "LR.fit(train_poly, train_target)\n",
    "print(LR.score(test_poly, test_target)) # 훈련셋의 특성이 커지면, 훈련결과가 좋아지지만, 과대적합의 우려도 있다."
   ]
  },
  {
   "cell_type": "code",
   "execution_count": 22,
   "metadata": {
    "collapsed": false,
    "pycharm": {
     "name": "#%%\n"
    }
   },
   "outputs": [],
   "source": [
    "'''데이터 변환하기: StandardScaler(정규화: 특성을 일정한 범위로 제한함)'''\n",
    "from sklearn.preprocessing import StandardScaler\n",
    "SS = StandardScaler()\n",
    "SS.fit(train_poly)\n",
    "train_scaled = SS.transform(train_poly)\n",
    "test_scaled = SS.transform(test_poly)"
   ]
  },
  {
   "cell_type": "code",
   "execution_count": 30,
   "metadata": {
    "collapsed": false,
    "pycharm": {
     "name": "#%%\n"
    }
   },
   "outputs": [
    {
     "name": "stdout",
     "output_type": "stream",
     "text": [
      "0.9896101671037343\n",
      "0.9790693977615393\n"
     ]
    },
    {
     "data": {
      "image/png": "[encoded data removed]",
      "text/plain": [
       "<Figure size 432x288 with 1 Axes>"
      ]
     },
     "metadata": {
      "needs_background": "light"
     },
     "output_type": "display_data"
    },
    {
     "name": "stdout",
     "output_type": "stream",
     "text": [
      "0.9903815817570365\n",
      "0.9827976465386882\n"
     ]
    }
   ],
   "source": [
    "'''릿지 회귀'''\n",
    "# 모델 학습하기\n",
    "from sklearn.linear_model import Ridge\n",
    "ridge = Ridge()\n",
    "ridge.fit(train_scaled, train_target)\n",
    "print(ridge.score(train_scaled, train_target))\n",
    "print(ridge.score(test_scaled, test_target))\n",
    "\n",
    "# 모델 시각화\n",
    "import matplotlib.pyplot as plt\n",
    "train_score = []\n",
    "test_score = []\n",
    "alpha_list = [0.001, 0.01, 0.1, 1, 10, 100]\n",
    "for alpha in alpha_list:\n",
    "       ridge = Ridge(alpha=alpha)\n",
    "       ridge.fit(train_scaled, train_target)\n",
    "       train_score.append(ridge.score(train_scaled, train_target))\n",
    "       test_score.append(ridge.score(test_scaled, test_target))\n",
    "\n",
    "# 알파값에 따른 결정계수값 시각화\n",
    "plt.plot(np.log10(alpha_list), train_score, label = 'Train')\n",
    "plt.plot(np.log10(alpha_list), test_score, label = \"Test\")\n",
    "plt.legend()\n",
    "plt.xlabel('alpha')\n",
    "plt.ylabel('R^2')\n",
    "plt.show()\n",
    "\n",
    "# 균형을 맞추는 모델\n",
    "ridge = Ridge(alpha=0.1)\n",
    "ridge.fit(train_scaled, train_target)\n",
    "print(ridge.score(train_scaled, train_target))\n",
    "print(ridge.score(test_scaled, test_target))"
   ]
  },
  {
   "cell_type": "code",
   "execution_count": 40,
   "metadata": {
    "collapsed": false,
    "pycharm": {
     "name": "#%%\n"
    }
   },
   "outputs": [
    {
     "name": "stdout",
     "output_type": "stream",
     "text": [
      "0.989789897208096\n",
      "0.9800593698421884\n"
     ]
    },
    {
     "name": "stderr",
     "output_type": "stream",
     "text": [
      "/Users/gimdong-yeong/opt/anaconda3/lib/python3.9/site-packages/sklearn/linear_model/_coordinate_descent.py:530: ConvergenceWarning: Objective did not converge. You might want to increase the number of iterations. Duality gap: 18778.697957792087, tolerance: 518.2793833333334\n",
      "  model = cd_fast.enet_coordinate_descent(\n",
      "/Users/gimdong-yeong/opt/anaconda3/lib/python3.9/site-packages/sklearn/linear_model/_coordinate_descent.py:530: ConvergenceWarning: Objective did not converge. You might want to increase the number of iterations. Duality gap: 12972.821345402686, tolerance: 518.2793833333334\n",
      "  model = cd_fast.enet_coordinate_descent(\n"
     ]
    },
    {
     "data": {
      "image/png": "[encoded data removed]",
      "text/plain": [
       "<Figure size 432x288 with 1 Axes>"
      ]
     },
     "metadata": {
      "needs_background": "light"
     },
     "output_type": "display_data"
    },
    {
     "name": "stdout",
     "output_type": "stream",
     "text": [
      "0.9888067471131867\n",
      "0.9824470598706695\n",
      "40\n",
      "[ 0.          0.          0.         12.14852453 55.44856399 42.23100799\n",
      "  0.          0.         13.70596191  0.         43.2185952   5.7033775\n",
      " 47.46254536  7.42309425 11.85823365  0.          0.         13.53038193\n",
      " 21.22111356  0.          0.          0.          0.          0.\n",
      "  0.         18.66993032  0.          0.          0.         15.81041778\n",
      "  0.          0.          0.          0.          0.          0.\n",
      "  0.          0.          0.          0.          0.          0.\n",
      "  0.          0.         18.14672268  0.          0.          0.\n",
      "  0.         15.51272953  0.          0.          0.          0.\n",
      "  0.        ]\n"
     ]
    },
    {
     "ename": "AttributeError",
     "evalue": "'numpy.ndarray' object has no attribute 'index'",
     "output_type": "error",
     "traceback": [
      "\u001B[0;31m---------------------------------------------------------------------------\u001B[0m",
      "\u001B[0;31mAttributeError\u001B[0m                            Traceback (most recent call last)",
      "\u001B[0;32m/var/folders/k5/47cpdm1j3153szhd3zmyj02w0000gn/T/ipykernel_6451/3421752436.py\u001B[0m in \u001B[0;36m<module>\u001B[0;34m\u001B[0m\n\u001B[1;32m     35\u001B[0m \u001B[0mprint\u001B[0m\u001B[0;34m(\u001B[0m\u001B[0mnp\u001B[0m\u001B[0;34m.\u001B[0m\u001B[0msum\u001B[0m\u001B[0;34m(\u001B[0m\u001B[0mlasso\u001B[0m\u001B[0;34m.\u001B[0m\u001B[0mcoef_\u001B[0m \u001B[0;34m==\u001B[0m \u001B[0;36m0\u001B[0m\u001B[0;34m)\u001B[0m\u001B[0;34m)\u001B[0m\u001B[0;34m\u001B[0m\u001B[0;34m\u001B[0m\u001B[0m\n\u001B[1;32m     36\u001B[0m \u001B[0mprint\u001B[0m\u001B[0;34m(\u001B[0m\u001B[0mlasso\u001B[0m\u001B[0;34m.\u001B[0m\u001B[0mcoef_\u001B[0m\u001B[0;34m)\u001B[0m\u001B[0;34m\u001B[0m\u001B[0;34m\u001B[0m\u001B[0m\n\u001B[0;32m---> 37\u001B[0;31m \u001B[0mprint\u001B[0m\u001B[0;34m(\u001B[0m\u001B[0mlasso\u001B[0m\u001B[0;34m.\u001B[0m\u001B[0mcoef_\u001B[0m\u001B[0;34m.\u001B[0m\u001B[0mindex\u001B[0m\u001B[0;34m(\u001B[0m\u001B[0;34m)\u001B[0m \u001B[0;34m!=\u001B[0m \u001B[0;36m0\u001B[0m\u001B[0;34m)\u001B[0m\u001B[0;34m\u001B[0m\u001B[0;34m\u001B[0m\u001B[0m\n\u001B[0m",
      "\u001B[0;31mAttributeError\u001B[0m: 'numpy.ndarray' object has no attribute 'index'"
     ]
    }
   ],
   "source": [
    "'''라쏘 회귀'''\n",
    "# 모델 학습하기\n",
    "from sklearn.linear_model import Lasso\n",
    "lasso = Lasso()\n",
    "lasso.fit(train_scaled, train_target)\n",
    "print(lasso.score(train_scaled, train_target))\n",
    "print(lasso.score(test_scaled, test_target))\n",
    "\n",
    "# 모델 시각화\n",
    "import matplotlib.pyplot as plt\n",
    "train_score = []\n",
    "test_score = []\n",
    "alpha_list = [0.001, 0.01, 0.1, 1, 10, 100]\n",
    "for alpha in alpha_list:\n",
    "       lasso = Lasso(alpha=alpha, max_iter=10000)\n",
    "       lasso.fit(train_scaled, train_target)\n",
    "       train_score.append(lasso.score(train_scaled, train_target))\n",
    "       test_score.append(lasso.score(test_scaled, test_target))\n",
    "\n",
    "# 알파값에 따른 결정계수값 시각화\n",
    "plt.plot(np.log10(alpha_list), train_score, label = 'Train')\n",
    "plt.plot(np.log10(alpha_list), test_score, label = \"Test\")\n",
    "plt.legend()\n",
    "plt.xlabel('alpha')\n",
    "plt.ylabel('R^2')\n",
    "plt.show()\n",
    "\n",
    "# 균형을 맞추는 모델\n",
    "lasso = Lasso(alpha=10)\n",
    "lasso.fit(train_scaled, train_target)\n",
    "print(lasso.score(train_scaled, train_target))\n",
    "print(lasso.score(test_scaled, test_target))\n",
    "\n",
    "# 라쏘에서 사용한 계수 중에서 0인 계수의 갯수 -> 유용한 특성을 골라내는 용도로도 사용가능함\n",
    "print(np.sum(lasso.coef_ == 0))\n",
    "print(lasso.coef_)"
   ]
  },
  {
   "cell_type": "code",
   "execution_count": null,
   "metadata": {
    "collapsed": false,
    "pycharm": {
     "name": "#%%\n"
    }
   },
   "outputs": [],
   "source": []
  }
 ],
 "metadata": {
  "kernelspec": {
   "display_name": "Python 3",
   "language": "python",
   "name": "python3"
  },
  "language_info": {
   "codemirror_mode": {
    "name": "ipython",
    "version": 2
   },
   "file_extension": ".py",
   "mimetype": "text/x-python",
   "name": "python",
   "nbconvert_exporter": "python",
   "pygments_lexer": "ipython2",
   "version": "2.7.6"
  }
 },
 "nbformat": 4,
 "nbformat_minor": 0
}