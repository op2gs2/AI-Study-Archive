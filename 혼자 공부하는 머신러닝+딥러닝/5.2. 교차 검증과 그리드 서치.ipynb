{
 "cells": [
  {
   "cell_type": "markdown",
   "metadata": {
    "collapsed": true,
    "pycharm": {
     "name": "#%% md\n"
    }
   },
   "source": [
    "## 개념 정리\n",
    "### 용어 정리\n",
    "- 검증세트: 하이퍼파라미터 튜닝을 위해 모델을 평가할 때, 테스트셋을 사용하지 않기 위해 훈련셋에서 분리한 데이터\n",
    "- 교차검증: 훈련셋을 여러 개의 셋으로 나누고, 돌아가며 검증셋과 학습셋 역할을 하며 모델을 학습. 모든 폴드의 검증 점수를 얻어 평균점수로 판단하는 방법\n",
    "- 그리드서치: 하이퍼파라미터 탐색을 자동화 해주는 도구. 가장 좋은 점수의 파라미터를 고르고, 자동으로 모델을 훈련함\n",
    "- 랜덤서치: 랜덤한 값을 파라미터로 주고, 그 안에서 최적의 파라미터 값을 찾는 과정.\n",
    "- 하이퍼파라미터 과정\n",
    "    - 탐색할 매개변수를 지정\n",
    "    - 훈련셋에서 그리드 서치를 수행하여 최상의 평균 검증 점수가 나오는 매개변수 조합을 찾음. 이것을 그리드 서치 객체에 저장함\n",
    "    - 그리드 서치는 최상의 매개변수에서 전체 훈련 세트를 사용해 최종 모델을 훈련함. 이 모델도 그리드 서치 객체에 저장함\n",
    "### 핵심 패키지와 함수(sklearn)\n",
    "- cross_validate()\n",
    "    - 교차검증을 수행하는 함수\n",
    "    - scoring 매개변수를 통해, 평가지표를 선택가능 ('accuracy' or 'r2')\n",
    "    - cv 매개변수를 통해, 교차 검증 폴드 수나 스플리터 객체를 지정가능\n",
    "    - n_jobs 매개변수를 통해, 사용할 CPU 코어수를 설정. -1은 모든 코어를 사용함.\n",
    "    - return_trace_score 매개변수를 True로 선택하면 훈련 셋의 점수도 반환함.\n",
    "- GridSearchCV\n",
    "    - 교차 검증으로 하이퍼파라미터의 탐색을 수행함.\n",
    "    - 최상의 모델을 찾은 후 훈련셋 전체를 사용해 최종 모델을 훈련함.\n",
    "    - 그리드 서치를 수행할 모델과 파라미터를 전달함\n",
    "    - 기타 매개변수는 cross_validate()와 동일\n",
    "- RandomizedSearchCV\n",
    "    - 교차 검증으로 랜덤한 하이퍼파라미터 탐색을 수행함\n",
    "    - 최상의 모델을 찾은 후 훈련셋 전체를 사용해 최종 모델을 훈련함.\n",
    "    - 그리드 서치를 수행할 모델과 파라미터(확률분포)를 전달함\n",
    "    - 기타 매개변수는 cross_validate()와 동일\n",
    "### 핵심 패키지와 함수(scipy)\n",
    "- randint(): 정수 난수 생성\n",
    "- uniform(): 실수 난수 생성"
   ]
  },
  {
   "cell_type": "code",
   "execution_count": 2,
   "outputs": [],
   "source": [
    "'''데이터 불러오기'''\n",
    "import pandas as pd\n",
    "wine = pd.read_csv('https://bit.ly/wine_csv_data')\n",
    "data = wine[['alcohol','sugar','pH']].to_numpy()\n",
    "target = wine[['class']].to_numpy()"
   ],
   "metadata": {
    "collapsed": false,
    "pycharm": {
     "name": "#%%\n"
    }
   }
  },
  {
   "cell_type": "code",
   "execution_count": 3,
   "outputs": [],
   "source": [
    "'''데이터 나누기'''\n",
    "# 훈련셋과 테스트셋 나누기\n",
    "from sklearn.model_selection import train_test_split\n",
    "train_input, test_input, train_target, test_target = train_test_split(data, target, test_size=0.2, random_state=42)\n",
    "\n",
    "# 훈련셋과 검증셋 나누기\n",
    "sub_input, val_input, sub_target, val_target = train_test_split(train_input, train_target, test_size=0.2, random_state=42)"
   ],
   "metadata": {
    "collapsed": false,
    "pycharm": {
     "name": "#%%\n"
    }
   }
  },
  {
   "cell_type": "code",
   "execution_count": 4,
   "outputs": [
    {
     "name": "stdout",
     "output_type": "stream",
     "text": [
      "0.9971133028626413\n",
      "0.864423076923077\n"
     ]
    }
   ],
   "source": [
    "'''모델 훈련 하기'''\n",
    "from sklearn.tree import DecisionTreeClassifier\n",
    "DT = DecisionTreeClassifier(random_state=42)\n",
    "DT.fit(sub_input, sub_target)\n",
    "print(DT.score(sub_input, sub_target))\n",
    "print(DT.score(val_input, val_target))"
   ],
   "metadata": {
    "collapsed": false,
    "pycharm": {
     "name": "#%%\n"
    }
   }
  },
  {
   "cell_type": "code",
   "execution_count": 5,
   "outputs": [
    {
     "name": "stdout",
     "output_type": "stream",
     "text": [
      "{'fit_time': array([0.00498629, 0.00498676, 0.00598431, 0.00499058, 0.00498319]), 'score_time': array([0.        , 0.0009973 , 0.0009973 , 0.00099754, 0.00099635]), 'test_score': array([0.86923077, 0.84615385, 0.87680462, 0.84889317, 0.83541867])}\n",
      "0.855300214703487\n",
      "0.855300214703487\n",
      "0.8574181117533719\n"
     ]
    }
   ],
   "source": [
    "'''교차검증 수행하기'''\n",
    "\n",
    "# 분할기를 사용하지 않은 교차검증\n",
    "from sklearn.model_selection import cross_validate\n",
    "scores = cross_validate(DT, train_input, train_target)\n",
    "print(scores)\n",
    "\n",
    "import numpy as np\n",
    "print(np.mean(scores['test_score'])) # Fold 점수의 평균을 구함\n",
    "\n",
    "# 분할기를 사용한 교차검증\n",
    "# 회귀문제에서는 k-fold를, 분류문제에서는 StratifiedKFold를 사용함\n",
    "from sklearn.model_selection import StratifiedKFold\n",
    "scores = cross_validate(DT, train_input, train_target, cv=StratifiedKFold())\n",
    "print(np.mean(scores['test_score'])) # Fold 점수의 평균을 구함\n",
    "\n",
    "# 훈련셋을 섞은 후, 교차검증 수행\n",
    "splitter = StratifiedKFold(n_splits=10, shuffle=True, random_state=42)\n",
    "scores = cross_validate(DT, train_input, train_target, cv=splitter)\n",
    "print(np.mean(scores['test_score']))"
   ],
   "metadata": {
    "collapsed": false,
    "pycharm": {
     "name": "#%%\n"
    }
   }
  },
  {
   "cell_type": "code",
   "execution_count": 6,
   "outputs": [
    {
     "name": "stdout",
     "output_type": "stream",
     "text": [
      "0.9615162593804117\n",
      "{'min_impurity_decrease': 0.0001}\n",
      "[0.86819297 0.86453617 0.86492226 0.86780891 0.86761605]\n",
      "{'min_impurity_decrease': 0.0001}\n"
     ]
    }
   ],
   "source": [
    "'''하이퍼파라미터 튜닝'''\n",
    "from sklearn.model_selection import GridSearchCV\n",
    "params = {'min_impurity_decrease': [0.0001, 0.0002, 0.0003, 0.0004, 0.0005]} # min_impurtiy_decrease에 해당하는 파라미터를 5개 설정\n",
    "gs = GridSearchCV(DecisionTreeClassifier(random_state=42), params, n_jobs=-1) # 앞서 설정한 파라미터를 모델에 대입 # cv 기본값은 5이므로, 5-fold 검증 시행함. 즉, 5*5=25번의 모델학습을 수행하도록 함. # n_jobs = -1은 모든 코어를 사용함\n",
    "gs.fit(train_input, train_target) # 모델 학습\n",
    "DT = gs.best_estimator_\n",
    "\n",
    "# 결과 출력\n",
    "print(DT.score(train_input, train_target))\n",
    "print(gs.best_params_) # 최적의 파라미터 출력\n",
    "print(gs.cv_results_['mean_test_score']) # 파라미터별 교차검증의 평균점수 출력\n",
    "\n",
    "best_index = np.argmax(gs.cv_results_['mean_test_score'])\n",
    "print(gs.cv_results_['params'][best_index])"
   ],
   "metadata": {
    "collapsed": false,
    "pycharm": {
     "name": "#%%\n"
    }
   }
  },
  {
   "cell_type": "code",
   "execution_count": 7,
   "outputs": [
    {
     "name": "stdout",
     "output_type": "stream",
     "text": [
      "{'max_depth': 14, 'min_impurity_decrease': 0.0004, 'min_samples_split': 12}\n",
      "0.8683865773302731\n"
     ]
    }
   ],
   "source": [
    "'''조금 더 복잡한 파라미터 이용한 하이퍼파라미터 튜닝'''\n",
    "params = {'min_impurity_decrease' : np.arange(0.0001, 0.001, 0.0001),\n",
    "          'max_depth' : range(5, 20, 1),\n",
    "          'min_samples_split': range(2,100,10)\n",
    "          }\n",
    "\n",
    "gs = GridSearchCV(DecisionTreeClassifier(random_state=42), params, n_jobs=-1)\n",
    "gs.fit(train_input, train_target)\n",
    "\n",
    "# 결과 출력\n",
    "print(gs.best_params_) # 파라미터별 최적의 값 출력\n",
    "print(np.max(gs.cv_results_['mean_test_score'])) # 최상의 교차 검증 점수 출력"
   ],
   "metadata": {
    "collapsed": false,
    "pycharm": {
     "name": "#%%\n"
    }
   }
  },
  {
   "cell_type": "code",
   "execution_count": 9,
   "outputs": [
    {
     "name": "stdout",
     "output_type": "stream",
     "text": [
      "{'max_depth': 39, 'min_impurity_decrease': 0.00034102546602601173, 'min_samples_leaf': 7, 'min_samples_split': 13}\n",
      "0.8695428296438884\n",
      "0.86\n"
     ]
    }
   ],
   "source": [
    "'''랜덤 서치'''\n",
    "# 난수 생성\n",
    "from scipy.stats import uniform, randint\n",
    "\n",
    "# randint(): 정수 난수 생성\n",
    "# uniform(): 실수 난수 생성\n",
    "\n",
    "params = {'min_impurity_decrease' : uniform(0.0001, 0.001),\n",
    "          'max_depth' : randint(20,50),\n",
    "          'min_samples_split' : randint(2,25),\n",
    "          'min_samples_leaf' : randint(1,25)\n",
    "          }\n",
    "\n",
    "# 하이퍼파라미터 찾기\n",
    "from sklearn.model_selection import RandomizedSearchCV\n",
    "gs = RandomizedSearchCV(DecisionTreeClassifier(random_state=42), params, n_iter=100, n_jobs=-1, random_state=42)\n",
    "gs.fit(train_input, train_target)\n",
    "\n",
    "print(gs.best_params_)\n",
    "print(np.max(gs.cv_results_['mean_test_score']))\n",
    "dt = gs.best_estimator_ # 최적의 모델은 best_estimator에 저장되어 있음\n",
    "print(dt.score(test_input, test_target))"
   ],
   "metadata": {
    "collapsed": false,
    "pycharm": {
     "name": "#%%\n"
    }
   }
  },
  {
   "cell_type": "code",
   "execution_count": null,
   "outputs": [],
   "source": [],
   "metadata": {
    "collapsed": false,
    "pycharm": {
     "name": "#%%\n"
    }
   }
  }
 ],
 "metadata": {
  "kernelspec": {
   "name": "python3",
   "language": "python",
   "display_name": "Python 3 (ipykernel)"
  },
  "language_info": {
   "codemirror_mode": {
    "name": "ipython",
    "version": 2
   },
   "file_extension": ".py",
   "mimetype": "text/x-python",
   "name": "python",
   "nbconvert_exporter": "python",
   "pygments_lexer": "ipython2",
   "version": "2.7.6"
  }
 },
 "nbformat": 4,
 "nbformat_minor": 0
}