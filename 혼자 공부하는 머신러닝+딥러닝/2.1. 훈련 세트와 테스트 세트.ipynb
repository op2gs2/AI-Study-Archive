{
 "cells": [
  {
   "cell_type": "markdown",
   "source": [
    "## 이전 학습 내용 복습하기\n",
    "### 용어 정리\n",
    "- 특성: 데이터를 표현하는 하나의 성질.\n",
    "- 훈련: 데이터에서 규칙을 찾는 과정\n",
    "- 모델: 알고리즘이 구현된 객체, 알고리즘 자체를 의미하기도 함.\n",
    "- 정확도 = (정확히 맞힌 개수) / (전체 데이터 개수)\n",
    "\n",
    "### 핵심 패키지와 함수 (matplotlib)\n",
    "- scatter()\n",
    "    - 산점도를 그리는 함수\n",
    "    - 처음 2개 매개변수로 x,y축 값을 전달. 파이썬 리스트나 Numpy 배열값으로 전달\n",
    "    - c: 색을 지정. 16진수 RGB (예: #1f77b4)나 b(파랑),g(초록),r(적색),c(시안),m(마젠타),y(노랑),k(검정),w(흰색) 등 사전 정의된 색 사용\n",
    "        - 색을 지정하지 않을 경우, 사전 정의된 10가지 색을 이용해 표시함.\n",
    "    - maker: 마커스타일을 지정.\n",
    "\n",
    "### 핵심 패키지와 함수 (sklearn)\n",
    "- KNeighborsClassifiers()\n",
    "    - k-최근접 이웃 분류 모델을 만드는 사이킷런 클래스\n",
    "    - n_neighbors: 이웃의 갯수를 지정, 기본값은 5\n",
    "    - p: 거리를 재는 방법을 지정, 1일 경우 맨해튼 거리, 2일 경우 유클리디안 거리를 지정\n",
    "    - n_jobs: 사용할 CPU코어 지정, -1은 모든 CPU 코어를 사용.\n",
    "- fit(): 학습을 진행하는 함수로써, 학습시킬 입력값과 정답값인 타겟값을 매개변수로 준다.\n",
    "- predict(): 특정한 값을 예측할 때 사용하는 함수로써, 특성 데이터 하나만 받는다.\n",
    "- score(): 해당 모델이 얼마나 정확한지 반환하는 함수로써, 모델/알고리즘에 따라 구현방법이 조금씩 다르다."
   ],
   "metadata": {
    "collapsed": false,
    "pycharm": {
     "name": "#%% md\n"
    }
   }
  },
  {
   "cell_type": "markdown",
   "source": [
    "## 개념 정리\n",
    "### 용어 정리\n",
    "- 지도학습: 입력값과 타깃값을 전달받아, 새로운 데이터를 예측하는데 사용하는 기법\n",
    "- 비지도학습: 입력데이터에서 특징을 찾아, 새로운 데이터를 예측하는데 사용하는 기밥\n",
    "- 훈련세트: 모델을 훈련할 때 사용하는 데이터. 클수록 좋음\n",
    "- 테스트세트: 모델을 평가할 때 사용하는 데이터, 작아도 상관없음\n",
    "- 샘플링 편향: 훈련세트와 테스트세트에 샘플이 골고루 섞여있지 않아, 샘플이 한쪽으로 치우쳐 있는 상태\n",
    "\n",
    "### 핵심 패키지와 함수 (Numpy)\n",
    "- seed(): numpy에서 난수를 생성하기 위한 정수 초기값을 지정\n",
    "- arange(): numpy에서 일정한 간격의 정수 또는 실수 배열을 만듦.\n",
    "- shuffle(): numpy에서 주어진 배열을 랜덤하게 섞음"
   ],
   "metadata": {
    "collapsed": false
   }
  },
  {
   "cell_type": "code",
   "execution_count": 24,
   "metadata": {
    "collapsed": true
   },
   "outputs": [
    {
     "name": "stdout",
     "output_type": "stream",
     "text": [
      "[[25.4, 242.0], [26.3, 290.0], [26.5, 340.0], [29.0, 363.0], [29.0, 430.0], [29.7, 450.0], [29.7, 500.0], [30.0, 390.0], [30.0, 450.0], [30.7, 500.0], [31.0, 475.0], [31.0, 500.0], [31.5, 500.0], [32.0, 340.0], [32.0, 600.0], [32.0, 600.0], [33.0, 700.0], [33.0, 700.0], [33.5, 610.0], [33.5, 650.0], [34.0, 575.0], [34.0, 685.0], [34.5, 620.0], [35.0, 680.0], [35.0, 700.0], [35.0, 725.0], [35.0, 720.0], [36.0, 714.0], [36.0, 850.0], [37.0, 1000.0], [38.5, 920.0], [38.5, 955.0], [39.5, 925.0], [41.0, 975.0], [41.0, 950.0], [9.8, 6.7], [10.5, 7.5], [10.6, 7.0], [11.0, 9.7], [11.2, 9.8], [11.3, 8.7], [11.8, 10.0], [11.8, 9.9], [12.0, 9.8], [12.2, 12.2], [12.4, 13.4], [13.0, 12.2], [14.3, 19.7], [15.0, 19.9]]\n",
      "49\n"
     ]
    }
   ],
   "source": [
    "'''데이터 준비하기'''\n",
    "import matplotlib.pyplot as plt\n",
    "import numpy as np\n",
    "\n",
    "fish_length = [25.4, 26.3, 26.5, 29.0, 29.0, 29.7, 29.7, 30.0, 30.0, 30.7, 31.0, 31.0,\n",
    "                31.5, 32.0, 32.0, 32.0, 33.0, 33.0, 33.5, 33.5, 34.0, 34.0, 34.5, 35.0,\n",
    "                35.0, 35.0, 35.0, 36.0, 36.0, 37.0, 38.5, 38.5, 39.5, 41.0, 41.0, 9.8,\n",
    "                10.5, 10.6, 11.0, 11.2, 11.3, 11.8, 11.8, 12.0, 12.2, 12.4, 13.0, 14.3, 15.0]\n",
    "fish_weight = [242.0, 290.0, 340.0, 363.0, 430.0, 450.0, 500.0, 390.0, 450.0, 500.0, 475.0, 500.0,\n",
    "                500.0, 340.0, 600.0, 600.0, 700.0, 700.0, 610.0, 650.0, 575.0, 685.0, 620.0, 680.0,\n",
    "                700.0, 725.0, 720.0, 714.0, 850.0, 1000.0, 920.0, 955.0, 925.0, 975.0, 950.0, 6.7,\n",
    "                7.5, 7.0, 9.7, 9.8, 8.7, 10.0, 9.9, 9.8, 12.2, 13.4, 12.2, 19.7, 19.9]\n",
    "\n",
    "# zip이라는 이터레이션 기능을 통해, 두개의 리스트를 묶어줄 수 있다.\n",
    "fish_data = [[l,w] for l,w in zip(fish_length,fish_weight)]\n",
    "fish_target = [1]*35 + [0]*14"
   ]
  },
  {
   "cell_type": "code",
   "execution_count": 34,
   "outputs": [
    {
     "data": {
      "text/plain": "0.0"
     },
     "execution_count": 34,
     "metadata": {},
     "output_type": "execute_result"
    }
   ],
   "source": [
    "'''데이터 분리하기'''\n",
    "from sklearn.neighbors import KNeighborsClassifier\n",
    "\n",
    "Xtrain = fish_data[:35]\n",
    "Ytrain = fish_target[:35]\n",
    "Xtest = fish_data[35:]\n",
    "Ytest = fish_target[35:]\n",
    "\n",
    "KN = KNeighborsClassifier()\n",
    "KN.fit(Xtrain,Ytrain)\n",
    "KN.score(Xtest,Ytest)\n",
    "\n",
    "# 분리한 리스트에 도미와 빙어가 적절하게 섞이지 않음. 따라서 학습을 할때는 도미의 데이터(target의 1)만 들어가서, 빙어의 데이터(target의 0)를 식별할 수 없음\n",
    "# 이렇게 분리한 데이터가 한쪽에 치우치는 문제를 \"샘플링 편향\"이라고 한다."
   ],
   "metadata": {
    "collapsed": false,
    "pycharm": {
     "name": "#%%\n"
    }
   }
  },
  {
   "cell_type": "code",
   "execution_count": 36,
   "outputs": [
    {
     "name": "stdout",
     "output_type": "stream",
     "text": [
      "(49, 2)\n",
      "(49,)\n"
     ]
    }
   ],
   "source": [
    "'''numpy를 이용해, 데이터 분리하기'''\n",
    "input_arr = np.array(fish_data)\n",
    "target_arr = np.array(fish_target)\n",
    "\n",
    "print(input_arr)\n",
    "print(input_arr.shape)\n",
    "\n",
    "# 랜덤 값을 이용해 인덱스 배열 만들기\n",
    "np.random.seed(42) # numpy 랜덤 시드값 설정\n",
    "index = np.arange(49) # 0~n까지의 1씩 증가하는 배열 생성\n",
    "np.random.shuffle(index) # 배열 내 원소들을 섞음\n",
    "print(index)\n",
    "\n",
    "# 랜덤 리스트를 인덱스로 이용하여, 학습데이터와 테스트데이터를 분리하였음.\n",
    "# 이렇게 하면, 샘플링 편향 문제에서 비교적 자유로울 수 있음\n",
    "\n",
    "# 배열 인덱싱을 이용하여, 리스트 나누기\n",
    "print(input_arr[[1,3]]) #2,4번째 인덱스의 값을 출력\n",
    "\n",
    "# 인덱스 배열을 이용하여, 원래 배열에서 학습데이터와 테스트 데이터 구분하기\n",
    "train_input = input_arr[index[:35]]\n",
    "train_target = target_arr[index[:35]]\n",
    "test_input = input_arr[index[35:]]\n",
    "test_target = target_arr[index[35:]]"
   ],
   "metadata": {
    "collapsed": false,
    "pycharm": {
     "name": "#%%\n"
    }
   }
  },
  {
   "cell_type": "code",
   "execution_count": 50,
   "outputs": [
    {
     "name": "stdout",
     "output_type": "stream",
     "text": [
      "[13 45 47 44 17 27 26 25 31 19 12  4 34  8  3  6 40 41 46 15  9 16 24 33\n",
      " 30  0 43 32  5 29 11 36  1 21  2 37 35 23 39 10 22 18 48 20  7 42 14 28\n",
      " 38]\n",
      "[[ 26.3 290. ]\n",
      " [ 29.  363. ]]\n"
     ]
    },
    {
     "data": {
      "text/plain": "Text(0, 0.5, 'weight')"
     },
     "execution_count": 50,
     "metadata": {},
     "output_type": "execute_result"
    },
    {
     "data": {
      "text/plain": "<Figure size 432x288 with 1 Axes>",
      "image/png": "[encoded data removed]"
     },
     "metadata": {
      "needs_background": "light"
     },
     "output_type": "display_data"
    }
   ],
   "source": [
    "# 학습데이터와 테스트데이터 시각화하기\n",
    "import matplotlib.pyplot as plt\n",
    "plt.scatter(train_input[:,0],train_input[:,1])\n",
    "plt.scatter(test_input[:,0],test_input[:,1])\n",
    "plt.xlabel(\"length\")\n",
    "plt.ylabel(\"weight\")"
   ],
   "metadata": {
    "collapsed": false,
    "pycharm": {
     "name": "#%%\n"
    }
   }
  },
  {
   "cell_type": "code",
   "execution_count": 55,
   "outputs": [
    {
     "name": "stdout",
     "output_type": "stream",
     "text": [
      "1.0\n",
      "[0 0 1 0 1 1 1 0 1 1 0 1 1 0]\n",
      "[0 0 1 0 1 1 1 0 1 1 0 1 1 0]\n"
     ]
    }
   ],
   "source": [
    "'''새로운 머신러닝 프로그램'''\n",
    "KN = KN.fit(train_input,train_target)\n",
    "print(KN.score(test_input, test_target))\n",
    "print(KN.predict(test_input)) # 테스트셋을 입력으로 할 때, 예측결과\n",
    "print(test_target) # 위 예측값에서 구한 결과와 동일한 결과를 보임을 알 수 있다.\n"
   ],
   "metadata": {
    "collapsed": false,
    "pycharm": {
     "name": "#%%\n"
    }
   }
  }
 ],
 "metadata": {
  "kernelspec": {
   "display_name": "Python 3",
   "language": "python",
   "name": "python3"
  },
  "language_info": {
   "codemirror_mode": {
    "name": "ipython",
    "version": 2
   },
   "file_extension": ".py",
   "mimetype": "text/x-python",
   "name": "python",
   "nbconvert_exporter": "python",
   "pygments_lexer": "ipython2",
   "version": "2.7.6"
  }
 },
 "nbformat": 4,
 "nbformat_minor": 0
}