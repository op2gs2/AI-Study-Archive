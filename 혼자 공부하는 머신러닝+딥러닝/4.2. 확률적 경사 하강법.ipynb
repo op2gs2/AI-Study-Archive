{
 "cells": [
  {
   "cell_type": "markdown",
   "metadata": {
    "collapsed": true,
    "pycharm": {
     "name": "#%% md\n"
    }
   },
   "source": [
    "## 개념 정리\n",
    "### 용어 정리\n",
    "- 손실함수\n",
    "    - 모델이 얼마나 안 좋은지를 나타내는 기준\n",
    "    - 따라서, 경사하강법을 통해 최적화해야 한다.\n",
    "    - 예시\n",
    "        - 이진분류) 이진 크로스엔트로피 함수\n",
    "        - 다중분류) 크로스엔트로피 함수\n",
    "        - 회귀) 평균 제곱 오차 손실 함수\n",
    "\n",
    "- 경사하강법\n",
    "    - 손실함수의 경사를 따라, 최적의 모델을 찾는 방법\n",
    "    - 샘플을 하나씩 사용해 학습하거나(확률적 경사하강법), 여러 개를 사용해 학습하거나(미니배치 경사하강법), 한번에 전체를 사용해 학습(배치 경사하강법)할 수 있다.\n",
    "    - 전체 샘플을 모두 사용했을 때는 다시한번 반복할 수 있는데, 이를 \"에포크\"라고 한다.\n",
    "\n",
    "### 핵심 패키지와 함수 (sklearn)\n",
    "- SGDClassifier\n",
    "    - 확률적 경사 하강법을 사용한 분류 모델을 만듦\n",
    "    - loss: 확률적 경사 하강법으로 최적화할 손실 함수를 지정. 기본값은 SVM을 위한 'hinge'. 로지스틱 회귀를 위해서는 'log'로 지정.\n",
    "    - penalty: 규제의 종류를 지정. l1,l2 규제가 있음\n",
    "    - alpha: 규제의 강도를 지정. 기본값은 0.0001.\n",
    "    - max_iter: 에포크 횟수를 지정. 기본값은 1000.\n",
    "    - tol: 반복을 멈출 조건. n_iter_no_change 매개변수에서 지정한 에포크 동안 손실이 tol만큼 줄어들지 않으면 알고리즘이 중단됨. tol의 매개변수값은 0.001, n_iter_no_change 매개변수 기본값은 5.\n",
    "\n",
    "- SGDRegressor\n",
    "    - 확률적 경사 하강법을 사용한 회귀 모델을 만듦\n",
    "    - loss: 손실함수를 지정. 기본값은 제곱 오차를 나타내는 'squared_loss'.\n",
    "    - SGDClassifier의 매개변수와 거의 동일함."
   ]
  },
  {
   "cell_type": "code",
   "execution_count": 6,
   "metadata": {
    "pycharm": {
     "name": "#%%\n"
    }
   },
   "outputs": [],
   "source": [
    "'''데이터 준비하기'''\n",
    "# 데이터 불러오기\n",
    "import pandas as pd\n",
    "fish = pd.read_csv('https://bit.ly/fish_csv_data')\n",
    "fish_input = fish[['Weight','Length','Diagonal','Height','Width']].to_numpy()\n",
    "fish_target = fish['Species'].to_numpy()\n",
    "\n",
    "# 데이터 분리하기\n",
    "from sklearn.model_selection import train_test_split\n",
    "train_input, test_input, train_target, test_target = train_test_split(fish_input, fish_target, random_state=42)\n",
    "\n",
    "# 데이터 정규화\n",
    "from sklearn.preprocessing import StandardScaler\n",
    "SS = StandardScaler()\n",
    "SS.fit(train_input)\n",
    "train_scaled = SS.transform(train_input)\n",
    "test_scaled = SS.transform(test_input)"
   ]
  },
  {
   "cell_type": "code",
   "execution_count": 9,
   "metadata": {
    "pycharm": {
     "name": "#%%\n"
    }
   },
   "outputs": [
    {
     "name": "stdout",
     "output_type": "stream",
     "text": [
      "0.8403361344537815\n",
      "0.8\n",
      "0.907563025210084\n",
      "0.925\n"
     ]
    }
   ],
   "source": [
    "'''SGD 학습하기'''\n",
    "# 학습 진행하기\n",
    "from sklearn.linear_model import SGDClassifier\n",
    "SC = SGDClassifier(loss='log', max_iter=100, random_state=42)\n",
    "SC.fit(train_scaled, train_target)\n",
    "print(SC.score(train_scaled, train_target))\n",
    "print(SC.score(test_scaled, test_target))\n",
    "\n",
    "# 점진적 학습: 모델을 이어서 훈련하기 -> 1 Epoch를 더 실행함\n",
    "SC.partial_fit(train_scaled, train_target)\n",
    "print(SC.score(train_scaled, train_target))\n",
    "print(SC.score(test_scaled, test_target))"
   ]
  },
  {
   "cell_type": "markdown",
   "metadata": {
    "pycharm": {
     "name": "#%% md\n"
    }
   },
   "source": [
    "### 에포크와 과대/과소적합\n",
    "- 에포크 수가 적으면, 학습이 적절하게 이루어지지 않을 가능성이 높다. 따라서, 과소적합의 가능성이 있다.\n",
    "    - 과소적합: train_set.score < test_set.score\n",
    "- 에포크 수가 많으면, 학습이 과도하게 이루어질 가능성이 높다. 따라서, 과대적합의 가능성이 높다.\n",
    "    - 과대적합: train_set.score > test_set.score"
   ]
  },
  {
   "cell_type": "code",
   "execution_count": 13,
   "metadata": {
    "pycharm": {
     "name": "#%%\n"
    }
   },
   "outputs": [
    {
     "data": {
      "image/png": "[encoded data removed]",
      "text/plain": [
       "<Figure size 432x288 with 1 Axes>"
      ]
     },
     "metadata": {
      "needs_background": "light"
     },
     "output_type": "display_data"
    },
    {
     "name": "stdout",
     "output_type": "stream",
     "text": [
      "0.957983193277311\n",
      "0.925\n"
     ]
    }
   ],
   "source": [
    "import numpy as np\n",
    "SC = SGDClassifier(loss='log',random_state=42)\n",
    "train_score = []\n",
    "test_score = []\n",
    "classes = np.unique(train_target) # 배열에서 겹치지 않는 원소들만 출력\n",
    "\n",
    "# 300번 구동하여, 각 에포크 당 점수변화를 구함\n",
    "for _ in range(0,300):\n",
    "    SC.partial_fit(train_scaled, train_target, classes=classes)\n",
    "    train_score.append(SC.score(train_scaled, train_target))\n",
    "    test_score.append(SC.score(test_scaled, test_target))\n",
    "\n",
    "# 시각화하기\n",
    "import matplotlib.pyplot as plt\n",
    "plt.plot(train_score, label=\"Train\")\n",
    "plt.plot(test_score, label=\"Test\")\n",
    "plt.xlabel('epoch')\n",
    "plt.ylabel('accuracy')\n",
    "plt.legend()\n",
    "plt.show()\n",
    "\n",
    "# 반복횟수를 100으로 하고, 훈련 진행하기\n",
    "SC = SGDClassifier(loss='log', max_iter=100, tol=None, random_state=42) # SGD는 성능이 향상되지 않으면, 자동으로 멈추는 기능이 있음. 그 기능을 tol=None을 통해 비활성화함\n",
    "SC.fit(train_scaled, train_target)\n",
    "print(SC.score(train_scaled, train_target))\n",
    "print(SC.score(test_scaled, test_target))"
   ]
  },
  {
   "cell_type": "code",
   "execution_count": 14,
   "metadata": {
    "pycharm": {
     "name": "#%%\n"
    }
   },
   "outputs": [
    {
     "name": "stdout",
     "output_type": "stream",
     "text": [
      "0.9495798319327731\n",
      "0.925\n"
     ]
    }
   ],
   "source": [
    "# SGD의 기본 매개변수: hinge\n",
    "SC = SGDClassifier(max_iter=100, tol=None, random_state=42) # SGD는 성능이 향상되지 않으면, 자동으로 멈추는 기능이 있음. 그 기능을 tol=None을 통해 비활성화함\n",
    "SC.fit(train_scaled, train_target)\n",
    "print(SC.score(train_scaled, train_target))\n",
    "print(SC.score(test_scaled, test_target))"
   ]
  },
  {
   "cell_type": "code",
   "execution_count": null,
   "metadata": {
    "pycharm": {
     "name": "#%%\n"
    }
   },
   "outputs": [],
   "source": []
  }
 ],
 "metadata": {
  "kernelspec": {
   "display_name": "Python 3",
   "language": "python",
   "name": "python3"
  },
  "language_info": {
   "codemirror_mode": {
    "name": "ipython",
    "version": 3
   },
   "file_extension": ".py",
   "mimetype": "text/x-python",
   "name": "python",
   "nbconvert_exporter": "python",
   "pygments_lexer": "ipython3",
   "version": "3.8.8"
  }
 },
 "nbformat": 4,
 "nbformat_minor": 1
}