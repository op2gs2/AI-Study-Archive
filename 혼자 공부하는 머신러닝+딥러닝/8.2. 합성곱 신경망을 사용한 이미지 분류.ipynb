{
 "cells": [
  {
   "cell_type": "markdown",
   "metadata": {
    "collapsed": true,
    "pycharm": {
     "name": "#%% md\n"
    }
   },
   "source": [
    "## 개념 정리\n",
    "### 용어 정리\n",
    "### 핵심 패키지와 함수 (Tensorflow)\n",
    "- Conv2D\n",
    "    - 입력의 너비와 높이 방향의 합성곱 연산을 구현한 클래스\n",
    "    - 첫번째 매개변수는 합성곱 필터의 개수\n",
    "    - kernel_size 매개변수\n",
    "        - 필터의 커널 크기를 지정\n",
    "        - 가로세로 크기가 같은 경우 정수 하나로, 다른 경우 정수의 튜플로 지정할 수 있음\n",
    "        - 일반적으로 커널의 가로세로 크기는 동일함.\n",
    "        - 커널의 깊이는 입력의 깊이와 동일하기 때문에 따로 지정하지 않음\n",
    "    - strides 매개변수\n",
    "        - 필터의 이동 간격을 지정\n",
    "        - 가로새로 크기가 같은 경우 정수 하나로, 다른 경우 정수의 튜플로 지정할 수 있음\n",
    "        - 일반적으로 가로세로 strides 크기는 동일.\n",
    "        - 기본 값은 1.\n",
    "    - padding 매개변수\n",
    "        - 입력의 패딩 타입을 지정\n",
    "        - 기본값인 valid는 패딩을 하지 않음\n",
    "        - 'same'은 합성곱의 출력의 가로세로 크기를 입력과 동일하게 맞추도록 입력에 패딩을 추가\n",
    "    - activation 매개변수\n",
    "        - 합성곱층에 적용할 활성화 함수를 지정\n",
    "- MaxPooling2D\n",
    "    - 입력과 너비를 줄이는 풀링 연산을 구현한 클래스\n",
    "    - 첫번째 매개변수는 풀링의 크기를 지정.\n",
    "        - 가로세로 크기가 같은 경우 정수 하나로, 다른 경우 정수의 튜플로 지정할 수 있음\n",
    "        - 일반적으로 풀링의 가로세로 크기는 동일함.\n",
    "    - strides 매개변수\n",
    "        - 풀링의 이동 간격을 지정.\n",
    "        - 기본값은 풀링의 크기와 동일하여, 입력 위를 겹쳐서 풀링하지 않음\n",
    "    - padding 매개변수\n",
    "        - 매개변수 입력의 패딩 타입을 지정.\n",
    "        - 기본값인 valid는 패딩을 하지 않음\n",
    "        - 'same'은 합성곱의 출력의 가로세로 크기를 입력과 동일하게 맞추도록 입력에 패딩을 추가\n",
    "- plot_model()\n",
    "    - 케라스 모델 구조를 주피터 노트북에 그리거나 파일로 저장\n",
    "    - 첫번째 매개변수에 케라스 모델 객체를 전달\n",
    "    - to_file: 파일 이름을 지정하면, 그림을 파일로 저장\n",
    "    - show_shapes: True로 지정하면, 층의 입력 출력 크기를 표시함. 기본값은 False.\n",
    "    - show_layer_names: True로 지정하면, 층 이름을 출력. 기본값은 True.\n",
    "### 핵심 패키지와 함수 (Matplotlib)\n",
    "- bar()\n",
    "    - 막대 그래프를 출력\n",
    "    - 첫번째 매개변수: x축 값을 지정. 리스트나 Numpy 배열로 전달\n",
    "    - 두번째 매개변수: y축 값을 지정. 리스트나 Numpy 배열로 전달\n",
    "    - width 매개변수: 막대의 두께를 지정할 수 있음. 기본값은 0.8."
   ]
  },
  {
   "cell_type": "code",
   "execution_count": 1,
   "outputs": [],
   "source": [
    "'''데이터 불러오고, 처리하고, 검증셋 만들기'''\n",
    "from tensorflow import keras\n",
    "from sklearn.model_selection import train_test_split\n",
    "# 데이터 불러오기\n",
    "(train_input, train_target), (test_input, test_target) = keras.datasets.fashion_mnist.load_data()\n",
    "# 데이터 전처리하기\n",
    "train_scaled = train_input.reshape(-1, 28,28,1) / 255.0 # 합성곱을 위한 입력 이미지는 항상 채널(깊이정보)가 존재해야 하므로, 1개의 차원을 추가하였다.\n",
    "# 검증셋 분리하기 from 훈련셋\n",
    "train_scaled, val_scaled, train_target, val_target = train_test_split(train_scaled, train_target, random_state=42, test_size=0.2)"
   ],
   "metadata": {
    "collapsed": false,
    "pycharm": {
     "name": "#%%\n"
    }
   }
  },
  {
   "cell_type": "code",
   "execution_count": 2,
   "outputs": [
    {
     "name": "stdout",
     "output_type": "stream",
     "text": [
      "Model: \"sequential\"\n",
      "_________________________________________________________________\n",
      " Layer (type)                Output Shape              Param #   \n",
      "=================================================================\n",
      " conv2d (Conv2D)             (None, 28, 28, 32)        320       \n",
      "                                                                 \n",
      " max_pooling2d (MaxPooling2D  (None, 14, 14, 32)       0         \n",
      " )                                                               \n",
      "                                                                 \n",
      " conv2d_1 (Conv2D)           (None, 14, 14, 64)        18496     \n",
      "                                                                 \n",
      " max_pooling2d_1 (MaxPooling  (None, 7, 7, 64)         0         \n",
      " 2D)                                                             \n",
      "                                                                 \n",
      " flatten (Flatten)           (None, 3136)              0         \n",
      "                                                                 \n",
      " dense (Dense)               (None, 100)               313700    \n",
      "                                                                 \n",
      " dropout (Dropout)           (None, 100)               0         \n",
      "                                                                 \n",
      " dense_1 (Dense)             (None, 10)                1010      \n",
      "                                                                 \n",
      "=================================================================\n",
      "Total params: 333,526\n",
      "Trainable params: 333,526\n",
      "Non-trainable params: 0\n",
      "_________________________________________________________________\n",
      "You must install pydot (`pip install pydot`) and install graphviz (see instructions at https://graphviz.gitlab.io/download/) for plot_model/model_to_dot to work.\n",
      "You must install pydot (`pip install pydot`) and install graphviz (see instructions at https://graphviz.gitlab.io/download/) for plot_model/model_to_dot to work.\n"
     ]
    }
   ],
   "source": [
    "'''합성곱 신경망 만들기'''\n",
    "# 합성곱 신경망\n",
    "model = keras.Sequential()\n",
    "model.add(keras.layers.Conv2D(32, kernel_size = 3, activation = 'relu', padding = 'same', input_shape = (28,28,1))) # 합성곱 층 / 필터의 크기가 32이므로 데이터의 깊이도 32로 증가함. (28,28,32)\n",
    "model.add(keras.layers.MaxPooling2D(2)) # 맥스 풀링 층\n",
    "model.add(keras.layers.Conv2D(64, kernel_size = 3, activation = 'relu', padding = 'same', input_shape = (28,28,1))) # 필터의 크기를 증가시킴 (32 -> 64), 합성곱 층에서 64개의 필터(뉴런)을 사용했기 때문.\n",
    "model.add(keras.layers.MaxPooling2D(2))\n",
    "# 밀집 은닉층\n",
    "model.add(keras.layers.Flatten())\n",
    "model.add(keras.layers.Dense(100, activation = 'relu'))\n",
    "model.add(keras.layers.Dropout(0.4))\n",
    "model.add(keras.layers.Dense(10, activation = 'softmax'))\n",
    "\n",
    "# 모델에 대한 시각화\n",
    "model.summary() # 모델의 구조 보기\n",
    "keras.utils.plot_model(model) # 모델의 구조를 그림으로 표현\n",
    "keras.utils.plot_model(model, show_shapes=True) # 모델의 구조를 그림으로 표현하며, 입력값의 shape도 출력"
   ],
   "metadata": {
    "collapsed": false,
    "pycharm": {
     "name": "#%%\n"
    }
   }
  },
  {
   "cell_type": "code",
   "execution_count": 7,
   "outputs": [
    {
     "name": "stdout",
     "output_type": "stream",
     "text": [
      "Epoch 1/20\n",
      "1500/1500 [==============================] - 5s 3ms/step - loss: 0.1501 - accuracy: 0.9440 - val_loss: 0.2354 - val_accuracy: 0.9218\n",
      "Epoch 2/20\n",
      "1500/1500 [==============================] - 5s 3ms/step - loss: 0.1398 - accuracy: 0.9466 - val_loss: 0.2342 - val_accuracy: 0.9194\n",
      "Epoch 3/20\n",
      "1500/1500 [==============================] - 5s 3ms/step - loss: 0.1316 - accuracy: 0.9501 - val_loss: 0.2525 - val_accuracy: 0.9244\n",
      "Epoch 4/20\n",
      "1500/1500 [==============================] - 5s 3ms/step - loss: 0.1241 - accuracy: 0.9521 - val_loss: 0.2532 - val_accuracy: 0.9208\n",
      "313/313 [==============================] - 1s 2ms/step - loss: 72.9888 - accuracy: 0.8379\n"
     ]
    },
    {
     "data": {
      "text/plain": "[72.98876190185547, 0.8378999829292297]"
     },
     "execution_count": 7,
     "metadata": {},
     "output_type": "execute_result"
    }
   ],
   "source": [
    "'''모델 컴파일과 훈련'''\n",
    "model.compile(optimizer = 'adam', loss = 'sparse_categorical_crossentropy', metrics='accuracy') # Model Compile\n",
    "checkpoint_cb = keras.callbacks.ModelCheckpoint('best-cnn-model.h5', save_best_only=True) # Declare ModelCheckPoint Callback Object\n",
    "early_stopping_cb = keras.callbacks.EarlyStopping(patience=2, restore_best_weights=True) # Declare EarlyStopping Callback Object\n",
    "history = model.fit(train_scaled, train_target, epochs=20, validation_data = (val_scaled, val_target), callbacks=[checkpoint_cb, early_stopping_cb], verbose = 1) # Train Model\n",
    "model.evaluate(val_scaled, val_target) # Model Evaluation"
   ],
   "metadata": {
    "collapsed": false,
    "pycharm": {
     "name": "#%%\n"
    }
   }
  },
  {
   "cell_type": "code",
   "execution_count": 6,
   "outputs": [
    {
     "data": {
      "text/plain": "<Figure size 432x288 with 1 Axes>",
      "image/png": "[encoded data removed]"
     },
     "metadata": {
      "needs_background": "light"
     },
     "output_type": "display_data"
    }
   ],
   "source": [
    "# 학습셋과 검증셋의 손실값 시각화 비교\n",
    "import matplotlib.pyplot as plt\n",
    "plt.plot(history.history['loss'], label = 'Train')\n",
    "plt.plot(history.history['val_loss'], label = 'Val')\n",
    "plt.xlabel('epoch')\n",
    "plt.ylabel('loss')\n",
    "plt.legend()\n",
    "plt.show()"
   ],
   "metadata": {
    "collapsed": false,
    "pycharm": {
     "name": "#%%\n"
    }
   }
  },
  {
   "cell_type": "code",
   "execution_count": 28,
   "outputs": [
    {
     "data": {
      "text/plain": "<Figure size 432x288 with 1 Axes>",
      "image/png": "[encoded data removed]"
     },
     "metadata": {
      "needs_background": "light"
     },
     "output_type": "display_data"
    },
    {
     "name": "stdout",
     "output_type": "stream",
     "text": [
      "(12000, 28, 28, 1)\n",
      "[[5.3405390e-24 0.0000000e+00 3.2572784e-32 5.6380053e-30 3.4647814e-29\n",
      "  3.3878467e-25 3.6505389e-25 1.8391038e-25 1.0000000e+00 4.6946634e-27]]\n"
     ]
    },
    {
     "data": {
      "text/plain": "<Figure size 432x288 with 1 Axes>",
      "image/png": "[encoded data removed]"
     },
     "metadata": {
      "needs_background": "light"
     },
     "output_type": "display_data"
    }
   ],
   "source": [
    "# 이미지로 출력해보기\n",
    "plt.imshow(val_scaled[0].reshape(28,28), cmap='gray_r') # 기존 데이터는 합성곱 연산을 위해 임의적으로 3차원을 만들었으나, 원래 데이터는 흑백이므로 색상데이터가 필요없어 2차원 데이터로 변환\n",
    "plt.show()\n",
    "print(val_scaled.shape)\n",
    "\n",
    "# 이미지에 대한 예측 확인하기\n",
    "preds = model.predict(val_scaled[0:1]) # Keras의 fit()/predict()/evaluate()는 모두 입력의 첫번째 차원이 배치 차원일 것으로 기대함. 따라서 결과 값은 (1, 28, 28, 1)과 같이 더 추가됨. 따라서 슬라이싱을 통해 원소 접근해야 함.\n",
    "print(preds) # 모델의 출력층의 뉴런 갯수에 따라 10개의 클래스에 대한 예측 확률을 출력함 # 여기서는 9번째 값이 1에 가까우므로, 해당 이미지는 9번째 클래스라고 추측가능.\n",
    "\n",
    "# Bar로 클래스 구분짓기\n",
    "plt.bar(range(1,11), preds[0])\n",
    "plt.xlabel('class')\n",
    "plt.ylabel('prob.')\n",
    "plt.show()"
   ],
   "metadata": {
    "collapsed": false,
    "pycharm": {
     "name": "#%%\n"
    }
   }
  },
  {
   "cell_type": "code",
   "execution_count": 33,
   "outputs": [
    {
     "name": "stdout",
     "output_type": "stream",
     "text": [
      "가방\n"
     ]
    }
   ],
   "source": [
    "'''MNIST 데이터의 레이블을 정의하고, 결과값 보기'''\n",
    "classes = ['티셔츠','바지','스웨터','드레스','코트','샌들','셔츠','스니커즈','가방','엉클 부츠']\n",
    "import numpy as np\n",
    "print(classes[np.argmax(preds)]) # preds에서 가장 큰 값의 인덱스를 가져와서 classes의 인덱스로 사용"
   ],
   "metadata": {
    "collapsed": false,
    "pycharm": {
     "name": "#%%\n"
    }
   }
  },
  {
   "cell_type": "code",
   "execution_count": 36,
   "outputs": [
    {
     "name": "stdout",
     "output_type": "stream",
     "text": [
      "313/313 [==============================] - 1s 2ms/step - loss: 0.2609 - accuracy: 0.9137\n"
     ]
    },
    {
     "data": {
      "text/plain": "[0.26092326641082764, 0.9136999845504761]"
     },
     "execution_count": 36,
     "metadata": {},
     "output_type": "execute_result"
    }
   ],
   "source": [
    "'''테스트셋에 대한 성능 측정'''\n",
    "test_scaled = test_input.reshape(-1,28,28,1) / 255.0\n",
    "model.evaluate(test_scaled, test_target)"
   ],
   "metadata": {
    "collapsed": false,
    "pycharm": {
     "name": "#%%\n"
    }
   }
  },
  {
   "cell_type": "code",
   "execution_count": null,
   "outputs": [],
   "source": [],
   "metadata": {
    "collapsed": false,
    "pycharm": {
     "name": "#%%\n"
    }
   }
  }
 ],
 "metadata": {
  "kernelspec": {
   "name": "python3",
   "language": "python",
   "display_name": "Python 3 (ipykernel)"
  },
  "language_info": {
   "codemirror_mode": {
    "name": "ipython",
    "version": 2
   },
   "file_extension": ".py",
   "mimetype": "text/x-python",
   "name": "python",
   "nbconvert_exporter": "python",
   "pygments_lexer": "ipython2",
   "version": "2.7.6"
  }
 },
 "nbformat": 4,
 "nbformat_minor": 0
}