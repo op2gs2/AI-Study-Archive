{
 "cells": [
  {
   "cell_type": "markdown",
   "metadata": {
    "collapsed": true,
    "pycharm": {
     "name": "#%% md\n"
    }
   },
   "source": [
    "## 개념 정리\n",
    "### 용어 정리\n",
    "- 피드포워드 신경망\n",
    "    - 입력 데이터의 흐름이 앞으로만 전달되는 신경망의 분류\n",
    "    - 완전 연결 신경망과 합성곱 신경망이 이 분류에 속함\n",
    "- 순차 데이터\n",
    "    - 텍스트나 시계열 데이터 같이, 순서에 의미가 있는 데이터\n",
    "    - 글, 대화, 일자별 날씨, 일자별 판매 실적 등\n",
    "- 순환 신경망\n",
    "    - 순차 데이터에 잘 맞는 인공 신경망의 한 종류\n",
    "    - 순차 데이터를 처리하기 위해 고안된 순환층을 1개 이상 사용한 신경망\n",
    "    - 완전 연결 신경망과 유사하나, 이전에 사용했던 데이터를 사용할 수 있는 흐름이 있다는 차이가 있음\n",
    "    - (가중치와 함께 이전 데이터의 값도 곱해지며, 절편을 더하는 형태의 신경망이다.)\n",
    "    - (모델 파라미터는 가중치의 갯수, 이전 상태에 대한 가중치 갯수, 절편 갯수를 더하면 된다.)\n",
    "    - 주로 tanh 함수를 사용한다. 이 함수는 시그모이드와 모양이 유사하나, 값의 범위가 -1에서 1로 차이가 있다.\n",
    "- 타임스텝\n",
    "    - 샘플을 처리하는 하나의 단계를 의미함.\n",
    "- 셀\n",
    "    - 순환층을 의미하며, 하나의 셀은 여러 개의 뉴런으로 구성됨\n",
    "- 은닉상태\n",
    "    - 셀의 출력을 의미함.\n",
    "    - 다음 층으로 전달되는 값의 의미 뿐만 아니라, 셀이 다음 타임스텝의 데이터를 처리할 때 재사용 됨."
   ]
  },
  {
   "cell_type": "code",
   "execution_count": null,
   "outputs": [],
   "source": [],
   "metadata": {
    "collapsed": false,
    "pycharm": {
     "name": "#%%\n"
    }
   }
  }
 ],
 "metadata": {
  "kernelspec": {
   "display_name": "Python 3",
   "language": "python",
   "name": "python3"
  },
  "language_info": {
   "codemirror_mode": {
    "name": "ipython",
    "version": 2
   },
   "file_extension": ".py",
   "mimetype": "text/x-python",
   "name": "python",
   "nbconvert_exporter": "python",
   "pygments_lexer": "ipython2",
   "version": "2.7.6"
  }
 },
 "nbformat": 4,
 "nbformat_minor": 0
}